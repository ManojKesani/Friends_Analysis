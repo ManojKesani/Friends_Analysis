{
 "cells": [
  {
   "cell_type": "markdown",
   "metadata": {},
   "source": [
    "---\n",
    "\n",
    "_You are currently looking at **version 1.0** of this notebook. To download notebooks and datafiles, as well as get help on Jupyter notebooks in the Coursera platform, visit the [Jupyter Notebook FAQ](https://www.coursera.org/learn/python-text-mining/resources/d9pwm) course resource._\n",
    "\n",
    "---"
   ]
  },
  {
   "cell_type": "markdown",
   "metadata": {},
   "source": [
    "*Note: Some of the cells in this notebook are computationally expensive. To reduce runtime, this notebook is using a subset of the data.*"
   ]
  },
  {
   "cell_type": "markdown",
   "metadata": {},
   "source": [
    "# Case Study: Sentiment Analysis"
   ]
  },
  {
   "cell_type": "markdown",
   "metadata": {},
   "source": [
    "### Data Prep"
   ]
  },
  {
   "cell_type": "code",
   "execution_count": 1,
   "metadata": {},
   "outputs": [],
   "source": [
    "friends_chars={} \n",
    "Rachel=[]\n",
    "Ross=[]\n",
    "Joey=[]\n",
    "Chandler=[]\n",
    "Phoebe=[]\n",
    "Monica=[]\n",
    "with open(\"transcripts_friends/season_all/merged.csv\", \"r+\") as fp:\n",
    "    for cnt, line in enumerate(fp):\n",
    "        #print(\"Line {}: {}\".format(cnt, line))\n",
    "        if line.startswith('Rachel:'):\n",
    "            Rachel.append(line[8:])\n",
    "        elif line.startswith('Ross:'):\n",
    "            Ross.append(line[6:])\n",
    "        elif line.startswith('Monica:'):\n",
    "            Monica.append(line[8:])\n",
    "        elif line.startswith('Chandler:'):\n",
    "            Chandler.append(line[10:])\n",
    "        if line.startswith('Phoebe:'):\n",
    "            Phoebe.append(line[8:])\n",
    "        if line.startswith('Joey:'):\n",
    "            Joey.append(line[6:])\n",
    "\n",
    "friends_chars['RACHEL']=Rachel\n",
    "friends_chars['ROSS']=Ross\n",
    "friends_chars['MONICA']=Monica\n",
    "friends_chars['PHOEBE']=Phoebe\n",
    "friends_chars['CHANDLER']=Chandler\n",
    "friends_chars['JOEY']=Joey\n",
    "\n",
    "with open(\"transcripts_friends/season_all/rachel.txt\", \"w\") as f_r:\n",
    "    s=''\n",
    "    for line in Rachel:\n",
    "        s=s+''+line\n",
    "        \n",
    "        \n",
    "    f_r.write(s)\n",
    "        \n",
    "with open(\"transcripts_friends/season_all/monica.txt\", \"w\") as f_m:\n",
    "    for line in Monica:\n",
    "        f_m.write(line)\n",
    "    \n",
    "f_r.close()\n",
    "f_m.close()"
   ]
  },
  {
   "cell_type": "code",
   "execution_count": 2,
   "metadata": {},
   "outputs": [
    {
     "data": {
      "text/plain": [
       "['(through wall) Ooh... I love Barbados!\\n',\n",
       " \"I know, I'm her!\\n\",\n",
       " 'ooh...\\n',\n",
       " 'Hey, you know, before you said that nothing could happen between us? What changed?\\n',\n",
       " \"What? Ross and Charlie? (Joey nods) Wow! She's really making her way through the group, huh? Ah, who am I to talk?\\n\",\n",
       " \"Oh, ju-ju-just stay calm. Just be calm. For all he knows we're just hanging out together. Right? Just be nonchalant. (Joey like stands at attention with his chest forward and his hands on his sides, looking up at the ceiling with his lips pouted.) That's not nonchalant!\\n\",\n",
       " 'Oh... okay, just hide!\\n',\n",
       " 'Coming! Try under the bed, try under the bed!\\n',\n",
       " \"There's no room under the bed. (looks around because she can't find Joey anymore)\\n\",\n",
       " 'Yeah... (still looking to see where Joey went, and opens the door)\\n',\n",
       " 'Hi...\\n',\n",
       " \"...I really don't... (looks around again)\\n\",\n",
       " 'Yeah, sure... (looks outside into the corridor if Joey is there)\\n',\n",
       " '(clearly not listening and still trying to find out where Joey went) Uh-huh... right... yeah...\\n',\n",
       " \"(still searching) Oh, I know... I know it's been really hard for you.\\n\",\n",
       " '(now looking up at the ceiling) That is hard to say, Ross. That is hard to say.\\n',\n",
       " 'You would think!\\n',\n",
       " 'Joey!\\n',\n",
       " \"(still can't find him) How are you doing this?\\n\",\n",
       " 'How... wha... Hey! What are you... What is this? Have you guys been listening this entire time?\\n',\n",
       " \"Ah, what is this? Well, lets see, we kissed for ten minutes and now we're talking to our friends about it, so I guess this is sixth grade!\\n\",\n",
       " 'All right, look you guys... Look, we appreciate all the advice, but this is between Joey and me and I think we can handle it...\\n',\n",
       " 'Sure...\\n',\n",
       " 'Get out!\\n',\n",
       " 'Are they right?\\n',\n",
       " \"Yeah... Yeah, we can wait, we don't have to do anything tonight.\\n\",\n",
       " '(Joey walks to the door) Although...\\n',\n",
       " \"I mean, you know... Ross and I haven't dated in like... six years...\\n\",\n",
       " 'Plus, you know, he is with Charlie now.\\n',\n",
       " 'No...\\n',\n",
       " 'Yeah...\\n',\n",
       " 'Forgotten.\\n',\n",
       " 'Nothing...\\n',\n",
       " \"Nothing... It's really... It's nothing... Come here, come here...\\n\",\n",
       " \"Sorry, I just uhm... I can't seem to get Ross out of my head...\\n\",\n",
       " 'Ross is coming over. I think now would be a really good time to talk to him.\\n',\n",
       " \"Okay, well keep in mind that by the time you're done, they'll probably be serving dinner.\\n\",\n",
       " 'Still nervous?\\n',\n",
       " 'Yeah!\\n',\n",
       " 'Yeah, yeah sure! Yeah! (mouths \"Good luck\" to Joey and gets up from her seat)\\n',\n",
       " 'So hi!\\n',\n",
       " 'So you eh, you talked to Joey?\\n',\n",
       " \"Oh! That's great!\\n\",\n",
       " \"Oh, so everything's okay?\\n\",\n",
       " 'Ah... Well, obviously I think so too.\\n',\n",
       " 'Really? Excited?\\n',\n",
       " \"Excuse me! (and she walks back to Joey, who is still looking very impressed about what Ross said to him. Rachel looks at him and hits him.) You didn't tell him, did you?\\n\",\n",
       " 'Oh God! Alright, fine. You know what Joey, forget it. When we go back to New York, I will tell him.\\n',\n",
       " 'That was one time, Ross, and they were only like 5 milligrams.\\n',\n",
       " \"Aaah... Ross, actually there's something that I really need to talk to you about.\\n\",\n",
       " \"Okay, uhm... alright, here's the deal.\\n\",\n",
       " 'What? What is it?\\n',\n",
       " \"Uh, look Ross, this really isn't easy.\\n\",\n",
       " 'Because you took three hundred bottles of shampoo?\\n',\n",
       " \"Well, yeah... Okay, look it's about me and...\\n\",\n",
       " 'Wow! Well, clearly this is not a good time.\\n',\n",
       " 'Hi!\\n',\n",
       " \"Well, I tried, but then he had a shampoo related emergency. So I guess now it's your turn again.\\n\",\n",
       " \"Yeah, 'cause that's what we do.\\n\",\n",
       " \"Okay, that sounds fair. It just means that once again we can't...\\n\",\n",
       " 'No! Of course we can wait. Alright, so I guess that means good night then?\\n',\n",
       " 'Goo--ood night!\\n',\n",
       " 'Seriously, good night!\\n',\n",
       " 'Okay.\\n',\n",
       " \"We weren't doing anything!\\n\",\n",
       " 'Shhh.\\n',\n",
       " 'No, come on, that is a lie. We also kissed in Barbados.\\n',\n",
       " \"Yeah, you started it! I've got to chill.\\n\",\n",
       " 'We feel so terrible about this, Ross.\\n',\n",
       " 'Ross? (to Joey) Can we just close the door?\\n',\n",
       " 'Ross, say something. Anything.\\n',\n",
       " 'No, no, no!\\n',\n",
       " 'Ross, this is not how we wanted you to find out about this. You have every right to go nuts.\\n',\n",
       " 'No, but you know what I mean.\\n',\n",
       " 'Calm ourselves?\\n',\n",
       " 'Well, what would we be doing?\\n',\n",
       " 'Feel me up?\\n',\n",
       " 'Hey.\\n',\n",
       " 'Oh, you bet.\\n',\n",
       " 'Okay, well, we brought you some wine.\\n',\n",
       " 'Well, maybe the next batch, we could all get some.\\n',\n",
       " 'No awareness.\\n',\n",
       " \"Look, Charlie, I just want you to know. Ross is just having a little trouble adjusting to the thought of Joey and me. You know, he normally doesn't drink like this.\\n\",\n",
       " \"Ross, you don't even have oven mitts on!\\n\",\n",
       " 'Ooy.\\n',\n",
       " 'Oh my god, are we supposed to answer?\\n',\n",
       " \"Ross, you don't seem okay.\\n\",\n",
       " \"Oh, that's okay, girls tend not to like me.\\n\",\n",
       " \"You know what, Ross? I think we're gonna take off too.\\n\",\n",
       " \"No, no, it's just that it's getting late...\\n\",\n",
       " \"Yeah, that's probably a good idea.\\n\",\n",
       " \"Uh-huh. Okay. You know what, Joey, I don't think he's ever gonna be okay with this.\\n\",\n",
       " 'Thanks for dinner.\\n',\n",
       " 'So.\\n',\n",
       " 'I say ‘cheesy line’, but ok.\\n',\n",
       " 'I am sorry, I don’t know, I am sorry, I don’t know why I did that!\\n',\n",
       " 'Ok, so sorry.\\n',\n",
       " \"I am sorry! Again... I don't know, I don’t know what happened, I must be nervous!\\n\",\n",
       " 'Ok, ok, ok. I promise, I promise, I promise, I won’t do it again. I really do. I promise. This is gonna be great.\\n',\n",
       " \"Absolutely! Absolutely. I d... it’s just a little weird, it’s you, and it’s me, it's just gonna take some getting used to.\\n\",\n",
       " 'Ok, let’s work from the top down! (Joey nods, but then puzzled because he does not get it) Just work the bra, Joe!\\n',\n",
       " 'Okay.\\n',\n",
       " 'Oh!\\n',\n",
       " 'Ow!\\n',\n",
       " 'Well this is romantic!\\n',\n",
       " 'It’s a standard issue bra clasp!\\n',\n",
       " \"Ok well, well I'm really, I'm sorry about that Joey, but do you think that maybe on some level, you don't want to take off my bra?\\n\",\n",
       " '(laughing) oooh! Oh oh!\\n',\n",
       " 'oh oh! What is up with Miss Hawaiian Tropic?\\n',\n",
       " 'Well, it was good.. until we got back to our apartment, and then we were fooling around and he started to put his hand up my leg and I kept slapping it away!\\n',\n",
       " \"Well, it wasn't just me, alright? He freaked out too! He couldn't even undo my bra!\\n\",\n",
       " \"I do not know what's wrong with us, I mean, we have kissed before and that's been great! But this time it was leading somewhere and I was very aware of the fact that it was Joey touching me.\\n\",\n",
       " \"(looking thoughtful) Ok, that's true. That's true, we can do this. You're right, you're right, we can do this. We're just gonna power through!\\n\",\n",
       " '(To Joey) No need!! Problem solved, we are powering through (At which point she grabs his hand and pulls him back to their apartment).\\n',\n",
       " 'Hey! Got champagne?\\n',\n",
       " 'Excellent! Stick it in the ice bucket, the phone is off the hook, and in the interest of powering through (Starts to remove her bra from under her clothes)...\\n',\n",
       " 'Ok (starts to light some candles) Sexy, sexy, very sexy, sexy. (Claps her hands and jumps at Joey, clearly very excited) Alright! Lets do it!\\n',\n",
       " \"Oh! Get over it soldier, we've gotta do this! (She pulls him towards her and throws him onto the barcalounger) Ok. Aha! You like that huh?\\n\",\n",
       " \"You like that? (She climbs on the barcalounger seductively, putting her knees next to Joey's hips.) Let's take this into high gear (She pulls the barcalounger lever and seat reclines. She puts one of her knees between his legs and begins to kiss his neck.)\\n\",\n",
       " \"Yeah baby, I'll show you how we do it!\\n\",\n",
       " \"What? Oh my God! I'm so sorry. Joey? Are you ok?\\n\",\n",
       " 'What is the matter with us?\\n',\n",
       " 'No, I mean with us, you know. I mean, is it supposed to be this... difficult?\\n',\n",
       " 'Hi! Hey, listen, can we ask you a question? When you and Monica first hooked up, was it weird going from friends to... more than that?\\n',\n",
       " 'No, no, no... No, I mean... se-x-u-ally...\\n',\n",
       " \"Well, just because it happened that way for them doesn't mean it has to happen that way for us.\\n\",\n",
       " 'Right, totally.\\n',\n",
       " \"Yeah, and if doesn't work, then we'll be just one of those couples that never have sex.\\n\",\n",
       " 'I know.\\n',\n",
       " 'Hmmm... Me too...\\n',\n",
       " 'I wonder how Monica and Chandler could do it?\\n',\n",
       " \"Aah... I bet you're right.\\n\",\n",
       " 'Yeah.\\n',\n",
       " \"Love you too... Alright, I'm going to bed.\\n\",\n",
       " \"Wait, you can't go away this weekend! It's Emma's birthday!\\n\",\n",
       " \"We're having a party.\\n\",\n",
       " \"No, that day... that won't be her real birthday!\\n\",\n",
       " \"Well, can't you just go to Vermont the next day?\\n\",\n",
       " 'And I mean, you know, you guys... This is a big deal. I mean, how can we have her first birthday party without her aunt and her uncle!\\n',\n",
       " \"You know Pheebs, when I was little, on my birthday, my daddy would hide a present in every room of the house, and then he would draw a treasure map to help me find 'em all.\\n\",\n",
       " \"Oh, good, good! We had this idea to make a birthday video for Emma and we'll give it to her when she is 18.\\n\",\n",
       " \"Oh no, it's still nap time. But she'll be up soon.\\n\",\n",
       " \"I said it's still nap time.\\n\",\n",
       " \"Hey Joey, will you please set this up for people to put Emma's presents on?\\n\",\n",
       " \"Oh, she's still napping\\n\",\n",
       " \"Look, I know that you guys really want to get to Vermont and this isn't a really big deal to you, but it really is to us, ok? Emma will never have a first birthday again.\\n\",\n",
       " \"No really, she didn't sleep well last night, so we can't wake her up.\\n\",\n",
       " 'Oh! Emma might like what?\\n',\n",
       " 'What did you get her?\\n',\n",
       " 'Well, this sounds like fun! Well, you know what? Actually? People are getting a little antsy waiting Emma to wake up from her nap, so would you mind performing them once now?\\n',\n",
       " '(to everybody) All right, let’s get this party started, huh? Joey and Phoebe are gonna perform a little something for us.\\n',\n",
       " 'So, Joey, what are you gonna do for us?\\n',\n",
       " 'Oh, ok, which one?\\n',\n",
       " '(crying) Wow! That was amazing!\\n',\n",
       " 'Oh, Phoebe, I’m sorry! Phoebe has prepared something as well.\\n',\n",
       " 'Is that it?\\n',\n",
       " 'Ross, um, don’t forget to get a shot of Emma’s cake. It’s in a box in the fridge.\\n',\n",
       " \"Oh, you're gonna love this cake. I got it from a bakery in New Jersey, Corino’s.\\n\",\n",
       " 'Well, anyway, they make these great novelty cakes, in all different shapes, and if you give them a photo, they’ll copy it in icing!\\n',\n",
       " 'Yes! On a cake shaped like a bunny.\\n',\n",
       " 'Ross, what are you talking about? (she sees the cake) oh! Oh my God! They put my baby’s face on a penis!\\n',\n",
       " \"Why you guys this isn't funny, all right? If I wanted this cake to be a disaster I would have baked it myself!\\n\",\n",
       " \"Oh! Believe you me! I am going to bring this cake back, I don't even want it in my home... (Turns towards the cake and sees Joey trying to take a piece and yells at him) Joey, don't touch it!!\\n\",\n",
       " '(speaking to the person on the phone again) Yes, yes. I still want my daughters picture, but on a bunny cake. Yellow cake, chocolate frosting with nuts!\\n',\n",
       " \"(into the phone) No, there isn't time to go to the bakery. We're just gonna come home... Everybody left? Alright, well just tell Emma we're gonna be there as soon as we can. (emotionally) Bye...\\n\",\n",
       " 'OOH! God! Sorry!\\n',\n",
       " \"Emma's awake.\\n\",\n",
       " \"I can't believe this. This is her first birthday. She's awake. We're not even there. Everybody left. We still have this stupid obscene cake.\\n\",\n",
       " 'Oh, why do you even bother? I already ruined her first birthday... And do you know how important these early experiences are Ross? Very! According to the back cover of that book that you gave me.\\n',\n",
       " '(shakes her head) I guess... Oh, I just had such an idea of what this day would be like, you know? Emma laughing and everybody gathered around her cake singing \"Happy Birthday\". Then we would all go into... HEY GET OUT OF THE ROAD YOU STUPID STUDENT DRIVER!!! (honks furiously, and Ross looks at her in disbelief and Rachel looks at him.) They have to learn!\\n',\n",
       " 'What?\\n',\n",
       " '(she looks at the cake) Oh my God! Look what... you made it into a bunny. How did you do that?\\n',\n",
       " \"Well, I'm very impressed.\\n\",\n",
       " \"I don't care that you left. I'm just glad that you're here. Thanks you guys!\\n\",\n",
       " 'What?\\n',\n",
       " \"Oh! Emma, that's right! You're that many!\\n\",\n",
       " '(angrily) NO, no science camp!\\n',\n",
       " 'Oh!... Oh and Emma, look at your stuffed animals lined up so neatly!\\n',\n",
       " 'Oh yeah, nothing! These are happy tears! This is just what I wanted.\\n',\n",
       " 'Okay.\\n',\n",
       " 'Yeah.\\n',\n",
       " 'Okay. (they both look into the camera, and Ross waves.) Hi Emma. Well, your first birthday is over, and it was really...\\n',\n",
       " \"You know, I'm thinking about letting Emma have her first cookie.\\n\",\n",
       " \"I've never given her a cookie. Have you?\\n\",\n",
       " \"Of course, I'd be honored!\\n\",\n",
       " \"OH! What's it the anniversary of? Your first date, your first kiss, first time you had sex...\\n\",\n",
       " 'Amy! Hi! Oh-oh-hoh! (they hug) Wow! You remember Joey?\\n',\n",
       " 'So now, what are you doing here?\\n',\n",
       " '(Emma starts crying in the other room) Oh sorry, hold on. Let me just check on the baby!\\n',\n",
       " 'God!\\n',\n",
       " \"Oh, I know, isn't she?\\n\",\n",
       " \"All right. What's your news, Amy?\\n\",\n",
       " 'What? Oh my God! To who?\\n',\n",
       " 'A-And??\\n',\n",
       " \"No, what's he like?\\n\",\n",
       " 'Yeah.\\n',\n",
       " \"Huh... wow, so he's gotta be...\\n\",\n",
       " 'Sweety, I gotta tell ya... it sounds a little bit like you like the apartment more than you like...\\n',\n",
       " 'Oh... sit down, sit down. Oh, honey, you know, I once also almost married somebody that I didn’t love. Do you remember Barry?\\n',\n",
       " 'Sometimes just nodding is ok. (pause) Uhm, so but anyway, listen, not marrying Barry was the best decision that I ever, ever made. Honey, you deserve true love. Your soulmate is out there, somewhere. Someone that is your age, that is smart, that is fun and that you care about!\\n',\n",
       " 'Ok.\\n',\n",
       " 'Ok, let’s keep talking.\\n',\n",
       " 'Amy, hi!\\n',\n",
       " 'Oh, good for you!\\n',\n",
       " 'Yes you are! Oh, I am so proud of you!\\n',\n",
       " 'But Erin Brockovich had her own house.\\n',\n",
       " 'Yeah... Amy kept kicking me in her sleep yelling ‘Myron, get off!’\\n',\n",
       " 'Joey, I can’t do that!\\n',\n",
       " 'Well Joey, uhm look, I know that she’s difficult, but I think it’s really good that she’s here.\\n',\n",
       " \"No, it's just... look, you know, when I first moved to the city I was a lot like her! I was spoiled, self-centered and you guys really took care of me.\\n\",\n",
       " \"Well, uhm... whatever, I have really appreciated it, 'cause I don’t think I would be the person that I am today if it wasn’t for you guys. See, I wanna help Amy the way you guys helped me. And I know it’s gonna take patience, but that’s ok.\\n\",\n",
       " 'Amy, that’s what I was supposed to wear today, that’s why I hung it on the door.\\n',\n",
       " \"Amy, you know what? I was thinking that maybe now it'd be a good time for us to sit down and, you know, talk about your future.\\n\",\n",
       " 'Well, what happened?\\n',\n",
       " 'Oh, that is so tacky.\\n',\n",
       " 'Phoebe, that’s huge!\\n',\n",
       " 'I think it could be kind of great!\\n',\n",
       " '(Sarcastically) Uuuh!! How about at a Footlocker? (claps her hands together, faking excitement)\\n',\n",
       " \"(Takes the phone) Oh! That's interesting, since she died seven years ago!!\\n\",\n",
       " \"(Into the phone) Hello? (announces to Amy) Oh, it's our nanny! (goes back to the phone conversation) Hi! Oh... God! I hope you feel better! Ok, bye! (Hangs up) (To Ross) That's Molly, she's sick. Can you watch Emma today?\\n\",\n",
       " 'Menstrual cramps.\\n',\n",
       " '(To Monica, Chandler and Phoebe) Can any of you watch Emma?\\n',\n",
       " '(To Ross) Great, shoot, what are we gonna do?\\n',\n",
       " '(Thinks for a moment) Well, actually...\\n',\n",
       " 'Yeah.\\n',\n",
       " 'Why not?\\n',\n",
       " \"(Defends Amy) Wha.. well, Ella's a nice name!\\n\",\n",
       " '(Shocked) Wha... the next one?\\n',\n",
       " 'Ross, I am trying to help her become a better person. This is a huge breakthrough for her! She just offered to do something for another human being!!\\n',\n",
       " \"Ross, I'm telling you, she's giving up getting her eyebrows (points at her own to emphasize the word) shaped to do this alright? Do you understand how important that is in our world?\\n\",\n",
       " 'Absolutely.\\n',\n",
       " \"(To Emma) Hey! Hi, how's my girl?\\n\",\n",
       " '(sounds excited) Yeah!\\n',\n",
       " '(not excited anymore) You pierced her ears!?\\n',\n",
       " 'You pierced her ears? How could you do this without telling me?\\n',\n",
       " \"Oh my God, Oh my God, here comes Ross. He's gonna flip out.\\n\",\n",
       " \"Ugh. (takes the hat and covers Emma's head and half her face with it)\\n\",\n",
       " \"Nah, I don't really want her to see.\\n\",\n",
       " 'Nothing.\\n',\n",
       " \"Oh, they're real!\\n\",\n",
       " 'I know, I know, and you were right Ross. (To Amy) You are soo irresponsible I am never letting you baby-sit ever again!\\n',\n",
       " \"I can't believe this. All I wanted to do was help you try to figure out what to do with your life and this is how you repay me?\\n\",\n",
       " 'Oh yeah? Since when?\\n',\n",
       " '(looks at Ross and then at Amy again in disbelief) What?\\n',\n",
       " \"(shouting) Babies don't care if they're slim.\\n\",\n",
       " \"Joey, get Amy's bags, she is moving out!\\n\",\n",
       " \"You put holes in my baby's ears!\\n\",\n",
       " \"(gasps) I can't believe I ever even tried to help you. You are so beyond help.\\n\",\n",
       " 'Excuse me?\\n',\n",
       " '(yelling) Joey, where are those bags?\\n',\n",
       " \"(doesn't believe what she's hearing) Seriously?\\n\",\n",
       " 'Hips or thighs?\\n',\n",
       " '(gasps) Oh! Oh my God! I thought she was on Atkins.\\n',\n",
       " '(embarrassed) Oh, I can give you that.\\n',\n",
       " \"Yeah. I just, I kept trying to make you a better person, but you're... you're already a pretty perfect version of what you are.\\n\",\n",
       " 'Did you just say Emma?\\n',\n",
       " 'So how is the uhm... baby styling business going?\\n',\n",
       " \"That's shocking!\\n\",\n",
       " 'Hi!\\n',\n",
       " 'My God!\\n',\n",
       " 'Congratulations! Wow!!\\n',\n",
       " 'Mmh-mmh!\\n',\n",
       " \"Oh, Pheebs, baby, that's nice but, you know what, I think I'm ok. Why don't you give it to one of your other single girlfriends?\\n\",\n",
       " '(angrily) GIVE ME THE BOOK! (she takes it and start reading) Pablo Diaz, Brady Smith, huh, \"Guy-in-van\"?\\n',\n",
       " 'Oh!\\n',\n",
       " \"Phoebe, isn't Jethro Tull a band?\\n\",\n",
       " 'Hi!\\n',\n",
       " \"I'm sorry, this sounds like something I'm never gonna be interested in.\\n\",\n",
       " \"Just tell Joey that you watched the tape and you liked it, but your bosses didn't. Then that way, you're the good guy and they're the bad guys.\\n\",\n",
       " \"Who's Gladys?\\n\",\n",
       " '(sarcastic) Oh, and Monica gets to keep her? In her house? I am so jealous!\\n',\n",
       " 'Well, I mean, sure, of course. But... you already gave that to Monica, so...\\n',\n",
       " \"No, I couldn't let you do that.\\n\",\n",
       " \"But I don't want you to.\\n\",\n",
       " 'But I insist harder!\\n',\n",
       " \"(sarcastic) No, no, that's ok. You won fair and square. I'm so sad!\\n\",\n",
       " 'Did you watch the tape?\\n',\n",
       " 'But you are a liar.\\n',\n",
       " 'Well, this is going well. (Chandler looks worried)\\n',\n",
       " \"(surprised by how ugly it is) Wow! (sarcastic) Oh, she's so nice and big! Oh, Monica, where are you going to display Gladys oh so proudly? (looks around for a spot)\\n\",\n",
       " 'Well, hey! How about right above the TV? (Points to the spot where her famous French poster is hanging). That way, it will be the first thing that you see when you walk in the door!\\n',\n",
       " \"(jumps at the chance to make that happen) Oh! There's nothing above your bed!!\\n\",\n",
       " 'O-oh my God!\\n',\n",
       " 'Joey, what... is... this...thing... doing here?\\n',\n",
       " \"Joey, we're not keeping this!\\n\",\n",
       " \"Alright, fine. You can keep it. As long as you don't mind that she's haunted.\\n\",\n",
       " \"Well, legend has it Joey, that... she comes alive when you're asleep.\\n\",\n",
       " 'She climbs out of the frame, and then drags her half-a-body across the floor, just looking for legs to steal. (in a spooky, slow voice) And then with her one good hand, she slo-o-owly re-e-a-aches up and turns your doorknob.\\n',\n",
       " \"Well, why I told him it's haunted. Two can play at this game. (gives Gladys to Monica)\\n\",\n",
       " 'Yes I can! (pushes her back again)\\n',\n",
       " \"She's yours!\\n\",\n",
       " \"She's yours!\\n\",\n",
       " \"She's mine!\\n\",\n",
       " \"She's mine!\\n\",\n",
       " 'I want Gladys!\\n',\n",
       " \"She's mine!\\n\",\n",
       " \"She's mine!\\n\",\n",
       " 'Excellent!\\n',\n",
       " 'Ha ha ha, third time this week. Man, this does not get old.\\n',\n",
       " \"Oh, don't be such a baby!\\n\",\n",
       " 'Hi! Emma will be up in a minute!\\n',\n",
       " \"Oh hey Ross... Listen, I heard about you and Charlie. I'm really sorry.\\n\",\n",
       " 'Absolutely.\\n',\n",
       " 'So, uhm... what are you gonna do today?\\n',\n",
       " 'Oh my God, what!?\\n',\n",
       " 'Ok, look, Ross. I do not want Emma going to the playground.\\n',\n",
       " '(upset) All right, well, if you must know... I had a traumatic... swing incident... when I was little.\\n',\n",
       " 'Yes, I was 4 years old and I was on the swing and then all of a sudden my hair got tangled in the chain. And to get me out my mom had to-had to cut a big chunk of my hair! (crying) And it was uneven for weeks!\\n',\n",
       " 'Ok, fine! You can make fun of me. I do not want Emma going there. And I was thinking Claire Danes.\\n',\n",
       " \"Ross, those things go like 40 miles an hour! Ok? When you're... and there is that moment when you are at the top, when you just don't know if you're gonna return back to earth!\\n\",\n",
       " 'All right!\\n',\n",
       " 'Irrational, huh? All right, well, I’ll remember that the next time you freak out about a spider in your apartment!\\n',\n",
       " 'Ok, careful.\\n',\n",
       " 'Careful, watch her hair. WATCH HER HAIR!\\n',\n",
       " 'I know (she touches Emma’s head) but they’re just so beautiful! Oh, my God, I just pulled one out.\\n',\n",
       " 'Ok.\\n',\n",
       " 'Ok.\\n',\n",
       " 'Ok, careful, ok. (Emma giggles) Oh, she’s smiling! Oh my God, she does like it!\\n',\n",
       " 'Awe! (Emma laughs) Oh my God! Looks, she’s a little dare-devil! Oh, let me push, can I push?\\n',\n",
       " 'Ok. Oh God. (To Ross) Get the camera, it’s in the diaper bag.\\n',\n",
       " 'Oh, oh Ross, oh my God, are you okay?\\n',\n",
       " 'Ross, see! I told you, those swings are evil! Alright, that is it. That is \\n',\n",
       " \"Ross, c'mon, please. Can we just get out of here, before somebody else gets \\n\",\n",
       " \"(looks at him suspiciously) I know what this is all about... You've always been \\n\",\n",
       " \"Alright fine. I'll do it.\\n\",\n",
       " 'If you hold a spider.\\n',\n",
       " 'IF you hold a spider.\\n',\n",
       " 'Ok... I got a spider. There were two, I picked the bigger one.\\n',\n",
       " 'Ok... (and passes the spider to Ross who holds it in between his hands)\\n',\n",
       " '(reluctantly) Ok... O-k...\\n',\n",
       " '(more confident) Ok...\\n',\n",
       " 'whoo... ok... wow... ok... OH!\\n',\n",
       " 'A-alright! I can do this.\\n',\n",
       " \"That's because he's on your neck.\\n\",\n",
       " 'ROSS!\\n',\n",
       " 'Hi!\\n',\n",
       " \"I can't believe this! This is Emma's first Thanksgiving!\\n\",\n",
       " \"It's not? (whispering to Ross) When was she born?\\n\",\n",
       " 'Hi! Happy Thanksgiving!\\n',\n",
       " 'Did you at least win the contest?\\n',\n",
       " \"Can't wait!\\n\",\n",
       " 'Yeah.\\n',\n",
       " \"Well, let's see... uh... I know that she has a meeting with her lawyer and then she has to make a very big poop. Why?\\n\",\n",
       " \"Oh my God! That's the creepiest thing I've ever heard!\\n\",\n",
       " 'Oh! Phoebe, all babies are beautiful!\\n',\n",
       " \"Phoebe, just the idea of pitting one baby against another, I mean, you know, and judging who's cuter just for a trophy...\\n\",\n",
       " 'And a thousand dollars.\\n',\n",
       " \"...is something I'm very interested in! Oh please, do not tell Ross. He still believes that (in a deep voice, mocking Ross) what's in the inside is important...\\n\",\n",
       " 'Where am I gonna get a cowgirl outfit on Thanksgiving?\\n',\n",
       " \"Oh, take the clothes of Joey's Cabbage Patch Kid.\\n\",\n",
       " \"Oh Phoebe, listen. Well, I think we gotta go. This place is really freaking me out. I've been watching this guy over there, I don't think he came with a kid!\\n\",\n",
       " \"Phoebe, I think... It's just too weird, I just saw a one year old running around with pantyhose on!\\n\",\n",
       " \"Oh, Phoebe! Come on! You know what, it's already three o'clock and they haven't even gotten to Emma's group yet. We gotta go, we got dinner!\\n\",\n",
       " 'Phoebe, you have to calm down.\\n',\n",
       " 'Really?\\n',\n",
       " 'You heard them say that?\\n',\n",
       " \"All right, okay. Alright, let's give to these babies something to cry about!\\n\",\n",
       " 'No, what?\\n',\n",
       " 'No Phoebe, I am not letting you put makeup on my baby!\\n',\n",
       " 'Because I already did!\\n',\n",
       " 'No...\\n',\n",
       " 'What are you doing here!\\n',\n",
       " 'And I won!\\n',\n",
       " 'Yes! (spells it) Y-E-S. Yes!\\n',\n",
       " \"Yeah. That's me!\\n\",\n",
       " 'She won a thousand dollars!\\n',\n",
       " \"Well, I don't know, you guys figure it out, I got to put Emma down for a nap.\\n\",\n",
       " 'Alright, Emma is napping... (then to Ross) what happened to your shirt?\\n',\n",
       " \"You know what, we just say that she said it was 5 o'clock. We'll just act casual. We're not late, we're right on time. (When she finishes talking, a note is pushed from under Monica's and Chandler's door, into the hall. Ross picks it up and reads it out loud)\\n\",\n",
       " 'Oh, God. This is bad. This is so bad.\\n',\n",
       " \"Oh, hey, I have an idea. Why don't we play rock-paper-scissors, and whoever loses goes in first. (they all agree) Ready? (they do the rock-paper-scissor thing with they hands and Rachel has paper, Phoebe and Ross both have rock, while Joey is doing a strange upward wiggling with his fingers. They all look a him confused).\\n\",\n",
       " \"Alright, enough, enough, come on. Let's just all go in at the same time.\\n\",\n",
       " \"Alright, come on... (starts to knock on the door) Alright, you guys. We're so sorry we're late. Please let us in, so we can have dinner together.\\n\",\n",
       " \"You guys, come on, it doesn't matter why we're late. We're all here now, please let us in so we can have some of your delicious turkey. (A slice of turkey on a piece of aluminum foil is slid under door)\\n\",\n",
       " '(gasps) Oh, I just remembered. We do have something to eat. Monica put something in our oven this morning.\\n',\n",
       " \"Huh... OH MY GOD IT'S BRUSSELS SPROUTS. (they all look appalled)\\n\",\n",
       " 'Oh, I know... I still have my old key! (She goes in to get it and comes back with her keys) We can just unlock the door.\\n',\n",
       " \"You know what? I don't want to be with them either, but it's Thanksgiving and we should not want to be together, together. (Goes to unlock the door)\\n\",\n",
       " 'Oh!\\n',\n",
       " 'So bad.\\n',\n",
       " 'Dessert?\\n',\n",
       " 'Congratulatioooons!\\n',\n",
       " 'Ewww, is that what that is?\\n',\n",
       " \"Yeah! I'll cook!\\n\",\n",
       " 'Hey!\\n',\n",
       " 'I lent them to Ross.\\n',\n",
       " \"I'm so happy for you!\\n\",\n",
       " 'To Monica and Chandler... and that knocked up girl in Ohio.\\n',\n",
       " 'Really?\\n',\n",
       " \"(to Joey) Hey, who's Phoebe with?\\n\",\n",
       " \"Do you think I'm someone else?\\n\",\n",
       " \"Well, believe it or not, it's true. When Joey and I were together, he was wonderful. He was thoughtful and mature. And for the one week that we went out, he didn't sleep with anybody else!\\n\",\n",
       " 'Hi!\\n',\n",
       " 'Oh!\\n',\n",
       " \"Well, it's a little low... pick up a little... (Ross picks it up) a little bit more... (he picks it up again) a little bit more... (he takes it off) There you go! (pause) Now throw it away!\\n\",\n",
       " \"Ross, please, trust me. I buy 30 fashion magazines a month. Now, I don't know who's running for president or who that... NATO guy is, but I do know that you have to get as far away as you can from that hat.\\n\",\n",
       " 'Hi\\n',\n",
       " 'what?\\n',\n",
       " 'Oh! Oh, no!\\n',\n",
       " 'Oh, yeah. Joey doesn’t share food. I mean, just last week we were having breakfast and he had a couple of grapes on his plate and ...\\n',\n",
       " 'Oh no! Not me! Emma!\\n',\n",
       " 'Ah, this place is great!\\n',\n",
       " 'Ross, look, I know that some of this stuff is out there, but I mean, come on, look at this, look at this sweater! (she picks up a blue sweater). I mean, this is just beautiful!\\n',\n",
       " 'Yeah, down from seven hundred, you are saving like two hundred bucks!\\n',\n",
       " 'No, no, no, no! Ross, wait! Come on! You know, there’s other stuff. Here’s a nice shirt, look at these nice pants...\\n',\n",
       " 'Yes, they will! You know what you should do? Just go take a walk, all right? I know your size and I’m... I’m gonna pick up some really good stuff for you.\\n',\n",
       " 'Yes! And I know what looks sexy on guys. Please, just wear what I suggest, and she’s gonna go nuts for you.\\n',\n",
       " '(to Phoebe) Why do men keep talking to me like this?\\n',\n",
       " 'We got some really great stuff!\\n',\n",
       " 'Oh! Really? Do you wanna try some of them on for me?\\n',\n",
       " \"(looking into one of her shopping bags) Oh no! I took one of Ross' bags by \\n\",\n",
       " \"Oh God Monica hi! Thank God! I just went to your building and you weren't there and then this guy with a big hammer said you might be here and you are, you are!\\n\",\n",
       " 'Hi, sure!\\n',\n",
       " \"Oh God... well, it started about a half hour before the wedding. I was in the room where we were keeping all the presents, and I was looking at this gravy boat. This really gorgeous Lamauge gravy boat. When all of a sudden- (to the waitress that brought her coffee)Sweet 'n' Lo?- I realized that I was more turned on by this gravy boat than by Barry! And then I got really freaked out, and that's when it hit me: how much Barry looks like Mr. Potato Head. Y'know, I mean, I always knew looked familiar, but... Anyway, I just had to get out of there, and I started wondering 'Why am I doing this, and who am I doing this for?'. (to Monica) So anyway I just didn't know where to go, and I know that you and I have kinda drifted apart, but you're the only person I knew who lived here in the city.\\n\",\n",
       " \"Ooh, I was kinda hoping that wouldn't be an issue... [Scene: Monica's Apartment, everyone is there and watching a Spanish Soap on TV and are trying to figure out what is going on.]\\n\",\n",
       " \"(on phone) Daddy, I just... I can't marry him! I'm sorry. I just don't love him. Well, it matters to me!\\n\",\n",
       " \"C'mon Daddy, listen to me! It's like, it's like, all of my life, everyone has always told me, 'You're a shoe! You're a shoe, you're a shoe, you're a shoe!'. And today I just stopped and I said, 'What if I don't wanna be a shoe? What if I wanna be a- a purse, y'know? Or a- or a hat! No, I'm not saying I want you to buy me a hat, I'm saying I am a ha- It's a metaphor, Daddy!\\n\",\n",
       " \"Look Daddy, it's my life. Well maybe I'll just stay here with Monica.\\n\",\n",
       " \"Well, maybe that's my decision. Well, maybe I don't need your money. Wait!! Wait, I said maybe!!\\n\",\n",
       " \"I'm all better now.\\n\",\n",
       " \"Please, no, go, that'd be fine!\\n\",\n",
       " 'Well, I was kinda supposed to be headed for Aruba on my honeymoon, so nothing!\\n',\n",
       " \"Well actually thanks, but I think I'm just gonna hang out here tonight.  It's been kinda a long day.\\n\",\n",
       " \"Barry, I'm sorry... I am so sorry... I know you probably think that this is all about what I said the other day about you making love with your socks on, but it isn't... it isn't, it's about me, and I ju- (She stops talking and dials the phone.) Hi, machine cut me off again... anyway...look, look, I know that some girl is going to be incredibly lucky to become Mrs. Barry Finkel, but it isn't me, it's not me.  And not that I have any idea who me is right now, but you just have to give me a chance too... (The maching cuts her off again and she redials.)\\n\",\n",
       " \"Oh...see... but Joanne loved Chachi! That's the difference!\\n\",\n",
       " \"Isn't this amazing? I mean, I have never made coffee before in my entire life.\\n\",\n",
       " \"Y'know, I figure if I can make coffee, there isn't anything I can't do.\\n\",\n",
       " 'Hello, Paul.\\n',\n",
       " 'So, like, you guys all have jobs?\\n',\n",
       " 'Wow! Would I have seen you in anything?\\n',\n",
       " 'I can see that. You look like you slept with a hanger in your mouth.\\n',\n",
       " 'Oh, yeah.\\n',\n",
       " 'Oh wow. Are you in trouble.\\n',\n",
       " 'Want a wedding dress?   Hardly used.\\n',\n",
       " 'Oh, look, wish me luck!\\n',\n",
       " \"I'm gonna go get one of those (Thinks) job things.\\n\",\n",
       " 'Guess what?\\n',\n",
       " \"Are you kidding? I'm trained for nothing! I was laughed out of twelve interviews today.\\n\",\n",
       " 'You would be too if you found John and David boots on sale, fifty percent off!\\n',\n",
       " \"They're my new 'I don't need a job, I don't need my parents, I've got great boots' boots!\\n\",\n",
       " 'Uh, credit card.\\n',\n",
       " 'Um... my... father.\\n',\n",
       " 'Oh God, come on you guys, is this really necessary?  I mean, I can stop charging anytime I want.\\n',\n",
       " \"I know that. That's why I was getting married.\\n\",\n",
       " 'Thank you.\\n',\n",
       " 'No.  No, no, I\\'m not ready!  How can I be ready?  \"Hey, Rach!  You ready to jump out the airplane without your parachute?\"  Come on, I can\\'t do this!\\n',\n",
       " \"I don't think so.\\n\",\n",
       " \"Y'know what?  I think we can just leave it at that.  It's kinda like a symbolic gesture...\\n\",\n",
       " 'Hey Mon, look what I just found on the floor. (Monica smiles.) What?\\n',\n",
       " 'Sorry-\\n',\n",
       " \"No, you have it, really, I don't want it-\\n\",\n",
       " 'Okay.\\n',\n",
       " 'I knew.\\n',\n",
       " 'I did.\\n',\n",
       " 'Yeah, maybe...\\n',\n",
       " 'Goodnight.\\n',\n",
       " '(walks up with a pot of coffee) Would anybody like more coffee?\\n',\n",
       " \"I'm just serving it.\\n\",\n",
       " \"Ugh. (To another customer that's leaving.) Excuse me, could you give this to that guy over there? (Hands him the coffee pot.) Go ahead. (He does so.) Thank you. (To the gang.) Sorry.  Okay, Las Vegas.\\n\",\n",
       " 'My God, get a room!\\n',\n",
       " 'Oh God. What about you, Joe? What would you give up, sex or food?\\n',\n",
       " 'No, you gotta pick one!\\n',\n",
       " 'You gotta see these latest pictures of Emma.\\n',\n",
       " 'Yeah.\\n',\n",
       " 'Oh, no, no. That is a doll.\\n',\n",
       " \"Oh. Who is the blonde, she's pretty.\\n\",\n",
       " \"He's not having an affair!\\n\",\n",
       " \"No, you're not! Last week you thought Ross was trying to kill you!\\n\",\n",
       " \"Oh, that doesn't mean anything.\\n\",\n",
       " '(whispering) \"Dude, Where\\'s My Car?\"\\n',\n",
       " \"They're in a caaar...\\n\",\n",
       " 'Geez!\\n',\n",
       " 'Oh, yeah, ok. Let me just grab my night vision goggles and my stun gun.\\n',\n",
       " 'I’m telling you guys, we followed them out to a house in Westchester, the went in for like forty-five minutes and then they came out looking pretty happy!\\n',\n",
       " 'Oh, look at her, so happy!\\n',\n",
       " 'Phoebe and I saw Chandler with a blonde woman today outside on the street and then we followed them to a house in Westchester.\\n',\n",
       " \"Who's Nancy?\\n\",\n",
       " 'Are you serious?\\n',\n",
       " \"What is wrong with raising a kid in the city? I'm doing it, Ross is doing it, Sarah Jessica Parker is doing it!\\n\",\n",
       " 'Yeah it is.\\n',\n",
       " \"Well, it is, all right? When we were out there today, all I kept thinking was: I can't believe Chandler is screwing this woman, but MAN this would be a nice place to live!\\n\",\n",
       " \"(talking on the phone) C'mon Daddy, listen to me! All of my life, everyone has always told me, 'You're a shoe! You're a shoe, you're a shoe, you're a shoe!'. And today I just stopped and I said, 'What if I don't wanna be a shoe? What if I wanna be a- a purse, y'know? Or a- or a hat! No, I don't want you to buy me a hat, I'm saying that I am a ha- It's a metaphor, Daddy!\\n\",\n",
       " \"Well maybe I'll just stay here with Monica.\\n\",\n",
       " \"You're fly is open, Geller!\\n\",\n",
       " 'Ow, that had to hurt!\\n',\n",
       " 'No Mon, you want to put them in concentric circles. I want to do this.\\n',\n",
       " 'Oooohh that’s interesting.\\n',\n",
       " '14?\\n',\n",
       " 'Space cowboy!\\n',\n",
       " 'Ow...Oh Gosh!\\n',\n",
       " 'Oh-oh-oh, he’s a transponce—transpondster!\\n',\n",
       " 'Y’know what, you are mean boys, who are just being mean!\\n',\n",
       " 'That is not true. She did! She forced me!\\n',\n",
       " 'Well it stupid, unfair question!\\n',\n",
       " \"(running from the guy's apartment with Joey in tow) Hey, what's-what's going on?!\\n\",\n",
       " 'Funny, because I was just gonna go across the hall and write that on Chandler.\\n',\n",
       " 'Well, Phoebe that’s fine because I’m not moving.\\n',\n",
       " 'Yeah, I do. I-I do, do that.\\n',\n",
       " 'Well y’know, I don’t want you to be cold.\\n',\n",
       " 'And a crappy New Year.\\n',\n",
       " \"You can't move. You just... you just can't.\\n\",\n",
       " \"Yeah. So don't move, okay? Just stay here and... (nods towards Ross) maybe close your blinds at night.\\n\",\n",
       " \"Yeah, we're gonna let you be alone.\\n\",\n",
       " 'Aah! Why? What are these for?\\n',\n",
       " 'Ooh! Oh wow this is so beautiful. (she got a scarf)\\n',\n",
       " \"Oh God, that's right. I blocked that out.\\n\",\n",
       " \"Oh, d'you like it?\\n\",\n",
       " 'What?\\n',\n",
       " \"Pheebs, I... there isn't gonna be any flying about! We actually thought we were a little too mature for stuff like that.\\n\",\n",
       " \"Seriously Pheebs, it's not gonna be that kind of a party.\\n\",\n",
       " \"Nooo! Phoebe, of course there is more! I mean, I'll just go and talk to Monica and get an ETA on the pee-pee's!\\n\",\n",
       " \"Well, he's coming from Jersey, he said he would get here as fast as he could!\\n\",\n",
       " '(pretends to be shocked) Uh! The police!\\n',\n",
       " 'Yeah?\\n',\n",
       " 'All right, look, we did not know that you wanted a stripper so we went to the phonebook and we got the first name we could find!\\n',\n",
       " \"No, that's ok, let's me just get my check book!\\n\",\n",
       " 'This is so awesome! College guys are so cute!\\n',\n",
       " \"I know. But if some guy who looks like Corey Haim wants to kiss me tonight, I'm sooo gonna let them! (They spot Chandler)\\n\",\n",
       " 'It... You can so totally tell.\\n',\n",
       " \"Well lets see. Maybe he knows where Ross is. (They walk towards Chandler) Hey, how's it going (tries to look as un-interested in him as possible - checking out her nails).\\n\",\n",
       " \"Yeah, Rachel. And this (points to Monica) is Ross' sister, Monica. We met at Thanksgiving. (looks around the room as if searching for something more interesting to do).\\n\",\n",
       " \"Bitchin'\\n\",\n",
       " 'Oh.\\n',\n",
       " 'I am sooo drunk.\\n',\n",
       " '(finishing the last of her drink) I am soo not going to do good on my SATs tomorrow.\\n',\n",
       " \"(sarcastic) Oh yeah. There is a plan! Why don't I just start taking my smart pills now?\\n\",\n",
       " '(blushing) Oh, what a line. (walks towards the drinks table with her back towards Chandler and whispers \"Oh my God!\")\\n',\n",
       " \"Oh well, You know, I think it's kinda really important that I go somewhere where there's sun, so I'm sort of... (Chandler leans in an kisses her) (She pulls away) Hey!\\n\",\n",
       " '(She considers it for a second) Yeah okay. (She puts her hands around his neck and they start kissing again)\\n',\n",
       " \"No, wait. No there's gotta be something else that you can do. I mean, what skills do you have?\\n\",\n",
       " 'So maybe something in an office.\\n',\n",
       " '(to Phoebe) Really?\\n',\n",
       " 'Yeah.\\n',\n",
       " \"Oh, Monica made me send her to my mother's. Apparently babies and weddings don't mix.\\n\",\n",
       " 'Uh... November?\\n',\n",
       " 'Hey Pheebs...\\n',\n",
       " \"Uhm... you haven't told these guys what they're doing in the wedding yet.\\n\",\n",
       " 'Well, this is really awkward (staring at the floor) Oh, and I can leave!\\n',\n",
       " '(excited and clapping her hands in front of her face) Goody, what is it!\\n',\n",
       " \"What, what, what, no, I don't wanna do that.\\n\",\n",
       " 'Happy wedding day!\\n',\n",
       " \"Ok-dokey, Joey, listen. This is gonna be bridesmaid central, all right? We're gonna have hair and make-up going on in the bathroom and oh, I had to move a couple of things in the fridge to make room for the corsages.\\n\",\n",
       " \"What d'you want?\\n\",\n",
       " \"Oh, Ross, c'mon, please! Don't make this harder than it already is!\\n\",\n",
       " \"Well, Chandler said that it's really important to him too!\\n\",\n",
       " 'Oh, you are the lesser of two evils!\\n',\n",
       " 'Hi\\n',\n",
       " \"Even so, I think I'm gonna pick Ross.\\n\",\n",
       " 'All right fine, I pick you.\\n',\n",
       " '(not amused by his pun but forcing a smile anyway) Oh my...\\n',\n",
       " 'Well, in my defense, you were not supposed to tell each other.\\n',\n",
       " \"Who's there?\\n\",\n",
       " 'Uh.\\n',\n",
       " \"You know what, I can't do this. I don't know which one of you guys to pick.\\n\",\n",
       " \"(sarcastic) Wow, this is a tough one. I think I'm gonna have to go with the dog.\\n\",\n",
       " 'Since when do you watch the news?\\n',\n",
       " \"Wow, you know, it's so beautiful out there. You always wanted to get married outside. Why don't you guys just do it on the street?\\n\",\n",
       " \"Well, look, it's hardly snowing anymore. I mean you couldn't ask for a more romantic setting. This could be the simple wedding you've always wanted!\\n\",\n",
       " \"Oh Phoebe, I'm so happy for you honey. (she gives her a kiss)\\n\",\n",
       " 'Geez Ross, you could have showered.\\n',\n",
       " 'How was the honeymoon?\\n',\n",
       " 'Oh!\\n',\n",
       " 'I did not know you spoke French.\\n',\n",
       " \"Oh... you're so sexy!\\n\",\n",
       " \"Seriously stop it, or I'm gonna jump on ya.\\n\",\n",
       " 'Ross...\\n',\n",
       " 'My father had an heart attack... (crying) ...while I was at Barney’s.\\n',\n",
       " \"Yeah, they said he's gonna be fine, but he's still heavily sedated.\\n\",\n",
       " \"No, come on, I'm totally ok. (hugging him) I don't need you to come! I can totally handle this on my own.\\n\",\n",
       " 'Ok. If you really need to.\\n',\n",
       " 'Oh, I really could.\\n',\n",
       " 'Ohh... (Ross mouths HA-HA at Monica and takes two cookies and she looks at him angrily)\\n',\n",
       " \"(stopping a nurse who's coming out of a room) Oh, uhm, excuse me, I'm here to see my father. My name is Rachel Green.\\n\",\n",
       " 'Ross, please, this is a hospital, ok? That actually means something here.\\n',\n",
       " 'Can somebody please go in?\\n',\n",
       " \"Ross, please, don't be so scared of him!\\n\",\n",
       " 'Oh! (They enter. Rachel sees his father, lying on a bed, with tubes, drip and everything) Oh! Oh my God! Ohhh, ohhh, wow, that ear and nose hair trimmer I got him was just money down the drain, huh?\\n',\n",
       " 'Oh, great, Are you gonna be ok?\\n',\n",
       " 'Hi!\\n',\n",
       " 'Uh. (pause) Did you call your parents?\\n',\n",
       " 'Oh good.\\n',\n",
       " 'What?\\n',\n",
       " \"What do you mean? You've been in my room before!\\n\",\n",
       " \"Ok I gotta tell ya, it's really weird when you use my whole name.\\n\",\n",
       " 'Yeah.\\n',\n",
       " \"Yeah, just so weird seeing him like that, you know? I mean he is a doctor, you don't expect doctors to get sick!\\n\",\n",
       " \"(she's sad) Ow. I don't want him to wake up alone! I should go to the hospital!\\n\",\n",
       " 'What?\\n',\n",
       " \"Really, I shouldn't feel guilty?\\n\",\n",
       " \"Ok, maybe you're right.\\n\",\n",
       " 'Wait, wait, wait, wait. Would you stay here with me for a little while?\\n',\n",
       " 'Ok. (She sits on the bed and Ross sits near her) Thank you for coming with me today.\\n',\n",
       " \"Rachel Green is very happy you're in her room!\\n\",\n",
       " \"I just don't want to be alone tonight.\\n\",\n",
       " \"Wait, we won't know that until we do it, will we?\\n\",\n",
       " \"Taking advantage? I'm giving you the advantage, enjoy!\\n\",\n",
       " 'Wow. Ok.\\n',\n",
       " 'Mhm-mh!\\n',\n",
       " '(She turns around very slowly, looks at him for a second and then turns back to her coffee) Sure. (She gives him the cup she was pouring for herself without looking at him)\\n',\n",
       " 'Hmm-hmm. (starts to pour herself a cup of coffee, never looking at Ross)\\n',\n",
       " '(coldly) Yep.\\n',\n",
       " 'FYI..\\n',\n",
       " 'In the future, when a girl asks for some ill-advised sympathy sex... just do it. (she smiles fakely at him)\\n',\n",
       " \"(sarcastically) Really? Well, it seems to me if you'd done the right thing, I would not have woken up today feeling stupid and embarrassed, I would have woken up feeling comforted and satisfied!\\n\",\n",
       " 'Oh stop that!\\n',\n",
       " '(sarcastic) Oh, that is so hot. She walks around him to the other side)\\n',\n",
       " \"Oh, really, well Ross, you know what? I am a big girl. I don't need someone telling me what is best for me.\\n\",\n",
       " \"Oh, really, really? Well, it wasn't very good for me either. (She turns to leave and Ross over takes her and stands infront on her, his back to the row of doors leading to the hospital rooms)\\n\",\n",
       " 'What?\\n',\n",
       " 'Oh, good.\\n',\n",
       " 'Okay... Hey listen, just before you go I-I again, I just wanna say \"thank you\" for coming with me.\\n',\n",
       " \"And also, you know I uh, I was thinking about what you said, you know, about the whole sex thing and... it's probably not a great idea to go down that road again.\\n\",\n",
       " \"It's a shame though, I mean, when we did it, it was pretty good.\\n\",\n",
       " 'Hey uhm, do you remember that one really great time...?\\n',\n",
       " \"You know it was you're uhm... birthday...\\n\",\n",
       " \"Well, I guess that's all in the past, now.\\n\",\n",
       " '(after a pause) Not even one more time?\\n',\n",
       " 'No matter how much we want it.\\n',\n",
       " \"That's what we decided.\\n\",\n",
       " \"...It's kinda hard though!\\n\",\n",
       " \"You know, when two people have a connection, you know, that's... just seems like such a... waste.\\n\",\n",
       " '...Ross?\\n',\n",
       " \"Just so you know... With us... it's never off the table. (she enters her room and closes the door.)\\n\",\n",
       " '(while entering) Hi you guys.\\n',\n",
       " 'Ooh, Italian! (she also grabs a plate)\\n',\n",
       " \"Hey you guys... You're never gonna believe it. This headhunter called me. I have a meeting tomorrow with Gucci. Gucci wants me.\\n\",\n",
       " 'Congratulations!\\n',\n",
       " 'Ooh! (they hug)\\n',\n",
       " \"(to maitre d') Hi, I'm here to see mr Campbell... with Gucci. The reservation is probably under Gucci. It's spelled like Gukki, which could be confusing.\\n\",\n",
       " \"Oh my God! That's my boss. You have to seat us somewhere else.\\n\",\n",
       " \"But my... but my boss cannot see me. I'm interviewing for another job.\\n\",\n",
       " 'Sssshhhh!\\n',\n",
       " \"Hi... I'm on a date...\\n\",\n",
       " \"Yeah, it is. Yeah, you know, it's tough. Single mom, career... You gotta get out there.\\n\",\n",
       " 'Oh.\\n',\n",
       " 'Yes, hi!\\n',\n",
       " 'Hi! (to mr Zellner) Excuse us.\\n',\n",
       " \"Okay. Oh, yeah... (whispering to mr Zellner) Oh he's cute!\\n\",\n",
       " \"Wha... My resumé? I wouldn't... I wouldn't call my online dating profile a resumé.\\n\",\n",
       " '(starts singing la la la la) Whatever happened to just singing for no reason? Huh?\\n',\n",
       " \"What? I-I don't.\\n\",\n",
       " 'No, I-I-I love it there.\\n',\n",
       " \"Oh! It's not good.\\n\",\n",
       " \"Well, I didn't get the job at Gucci and I got fired from Ralph Lauren.\\n\",\n",
       " 'Well, my boss was at the same restaurant where I was having my interview and he heard everything. So later he calls me to his office and he tells me that he\\'s gonna have to let me go, because I\\'m not a team player. And I said \"Wait a minute! Yes I am.\" and I had to sit there for 45 minutes while he proved that that in fact... was true.\\n',\n",
       " \"Oh it... good! Yeah, but I'm not gonna hear from that for a couple of days.\\n\",\n",
       " \"Ah, all right. Here's to Ross!\\n\",\n",
       " \"(crying) No, it's not that. I got fired today. And I didn't get the other job.\\n\",\n",
       " 'Oh!\\n',\n",
       " \"No, it's okay, you didn't know.\\n\",\n",
       " 'Oh, thank you... (looks at his face trying to remember his name)\\n',\n",
       " \"(Is embarrassed for a moment, but it quickly passes) Well, now I don't have to. (The man leaves instantly)\\n\",\n",
       " '(annoyed) Ross, what is taking you so long?\\n',\n",
       " '(turns around) Mark? Oh my God! (puts the box on the chair and they hug each other)\\n',\n",
       " \"I'm fantastic. You remember Ross?\\n\",\n",
       " \"Oh, well, (looks at her box and chair) you're not catching me on my best day.\\n\",\n",
       " \"No, but it's good, you know, I'm gonna take some time off and do some charity work.\\n\",\n",
       " \"Well, screw charity work. What've you got?\\n\",\n",
       " \"Great! I'll call ya!\\n\",\n",
       " '(very excited) Oh my God!\\n',\n",
       " \"Ross! That's Mark. From Bloomingdales? You were insanely jealous of him.\\n\",\n",
       " 'Yes.\\n',\n",
       " 'Oh.\\n',\n",
       " \"What? You don't want me to get a job?\\n\",\n",
       " 'Ugh.\\n',\n",
       " \"Ross, you know what? (looks over to the door and sees security staring at them) Okay, let's talk about it later, there comes security. (Takes her box and leaves. Ross follows her and then returns for the chair. He stands for a moment, then pushes it quickly in the general direction Rachel went into, and out of the camera's view, and then nonchalantly walks away)\\n\",\n",
       " '(entering) Hi you guys!\\n',\n",
       " 'Oh, it was great. Mark is so sweet.\\n',\n",
       " \"Oh Ross, come on. He's happily married. His wife just had twins.\\n\",\n",
       " 'He offered me one.\\n',\n",
       " \"I know, it's amazing. It's amazing. It's so much better than what I had at Ralph Lauren. The money is great...\\n\",\n",
       " 'The job is in Paris. (they all stare at each other)\\n',\n",
       " 'He offered me one.\\n',\n",
       " 'The job is in Paris. (we see Ross stare in disbelief)\\n',\n",
       " 'Oh, God! Please, somebody say something.\\n',\n",
       " \"I know, it's huge, and it's scary, and it's... really far, far away from you guys, but this is such an incredible opportunity for me. And I've already talked to them about our situation with Emma, and they said they'll do whatever we need to make us feel comfortable.\\n\",\n",
       " \"I mean, I'll fly back and forth, they'll fly you out... Anything we want.\\n\",\n",
       " 'Thank you! Thank you!\\n',\n",
       " 'I think it is. (Ross looks very sad. Phoebe and Joey enter.)\\n',\n",
       " 'I got a really incredible job offer.\\n',\n",
       " \"It's in Paris.\\n\",\n",
       " 'Look, you guys... this is really, really important to me. And it means a lot if you could try to get on board.\\n',\n",
       " '(walking towards Joey) Joey, it would mean so...\\n',\n",
       " 'Joey...\\n',\n",
       " 'Hi.\\n',\n",
       " 'Oh, well, she’s asleep now. Stop forcing that thing on her.\\n',\n",
       " 'Oh, you’re not gonna believe what happened to me today! Ralph Lauren called, and gave me my job back!\\n',\n",
       " 'Yee. I mean, it was so weirdest thing. They fired me and then out of nowhere they just hire me back! I mean, that place must have been falling apart without me.\\n',\n",
       " 'No, I’m still going.\\n',\n",
       " 'When the Louis Vuitton people found out that Ralph Lauren wanted me back, the offered me more money! Isn’t that great?\\n',\n",
       " 'Hi!\\n',\n",
       " 'You are never going to believe what happened to me today.\\n',\n",
       " 'Ralph Lauren called again and they offered me more money.\\n',\n",
       " \"Yeah. It was the weirdest thing. Zelner called me and he said we'll do everything we can to get you back. And that I should thank some Ron... I don't even know what department that guy's in.\\n\",\n",
       " 'Well, I took it.\\n',\n",
       " \"(hesitant) Ye-ah. Yeah! You know, the money's great. It's certainly the easier choice...\\n\",\n",
       " \"Yeah, you know, was I looking forward to going to Paris? Sure. You know, was I excited about working in the fashion capital of the world? Ooh, absolutely... Oh...! Yeah, but you know, this is... it's fine. I'm fine going back to a job where I've pretty much gotten everything out of that I possibly can... (she sits down, and Ross who is stunned to hear all this follows her example)\\n\",\n",
       " 'Well yeah, but I mean, it was good scared though, you know? Like when I-moved-to-New-York scared. Or uhm, when I-found-out-I-was-gonna-have-Emma scared... But this is... fine. This is gonna be good. (they both stare around)\\n',\n",
       " 'What?\\n',\n",
       " 'You really think so?\\n',\n",
       " 'But I already told Zelner that I would come back...\\n',\n",
       " \"All right. ALL RIGHT! I'm gonna do it. I'm gonna go to Paris.\\n\",\n",
       " \"Yeah! I'm going to Paris. Thank you, Ross!\\n\",\n",
       " \"Oh! Oh, I'm so happy.\\n\",\n",
       " \"Ok! Can't believe I'm risking this again, but you're on! All right Joe, you remember the rules! Heads I win, tails you lose.\\n\",\n",
       " 'Oh, that sounds good!\\n',\n",
       " \"It's all done!\\n\",\n",
       " \"I know... Honey, seriously, I did it all. The luggage that I'm taking is in the bedroom, this is Emma's Paris stuff, these are the boxes that I'm having shipped, and that's the sandwich that I made for the plane...\\n\",\n",
       " 'Oh, well. Everything that I need (she takes her bag) is in here and my travel documents are on the counter organized in the order that I will be needing them.\\n',\n",
       " 'It should be right next to my plane ticket.\\n',\n",
       " \"What? Maybe I put it in here (she opens her bag). Oh, oh, it's not in there! Oh, no! I must have packed it in one of these boxes!\\n\",\n",
       " \"Shoot. Oh, I can't believe I did this!\\n\",\n",
       " \"No, no, no. It's ok. I'm gonna be fine.\\n\",\n",
       " \"Well, I've been better.\\n\",\n",
       " 'You guys are gonna come and visit me, right?\\n',\n",
       " \"I'm gonna miss you so much.\\n\",\n",
       " 'You know what? Uhm, I have some goodbye stuff that I wanted to say to each of you and I was gonna save it until the end of the night, but come here (they go into the guest room).\\n',\n",
       " \"Oh, Pheebs, I don't even know where to start.\\n\",\n",
       " \"Oh, oh. (she's holding the present, a transparent bag with a white stick in it). What is this?\\n\",\n",
       " \"I'm gonna throw this away, but thank you so much for the gesture!\\n\",\n",
       " 'I love you Phoebe.\\n',\n",
       " \"All right. Well, if I gonna do this, I'd better keep going.\\n\",\n",
       " 'Ok. Monica?\\n',\n",
       " 'Can you come here with me for a minute?\\n',\n",
       " \"Mon... Okay... I've gotta... just say what it is I'm gonna say... None of the amazing things that have happened to me in the last ten years, would have happened if it wasn't for you. No-one has been more like a sister to me...\\n\",\n",
       " \"(starts crying and speaking at the same time, making it almost impossible to understand what she's saying) I wouldn't know what I'm gonna do without you...\\n\",\n",
       " '(says something that cannot be understood)\\n',\n",
       " 'I... I... I... (again saying something that cannot be understood)\\n',\n",
       " \"(laughs) Oh, I'm sure gonna miss pretending to laugh at your weird jokes that I don't get.\\n\",\n",
       " \"Well, these aren't mine. Maybe Monica used to use them with...\\n\",\n",
       " \"Well, I think you're forgetting the kinkiest former resident of that room.\\n\",\n",
       " '(to Chandler) Can I talk to you alone for a minute?\\n',\n",
       " 'Oh honey...\\n',\n",
       " \"(all mushy) Oh, you know what? Let's not say anything else. I love you. (they hug)\\n\",\n",
       " 'Okay. Oh...\\n',\n",
       " 'Oh!\\n',\n",
       " \"Oh... (holding Ross's shoulder) Well...\\n\",\n",
       " \"I think I'm gonna take off. (pats Ross on his back, but he looks very surprised)\\n\",\n",
       " 'Oh, you guys. This was an amazing night. Thank you so much. I love you. Good night.\\n',\n",
       " 'What?\\n',\n",
       " 'Ross...\\n',\n",
       " \"You really think I didn't say goodbye to you because I don't care?\\n\",\n",
       " 'I cannot believe that after ten years, you do not know ONE thing about me.\\n',\n",
       " \"Because it is too damn hard Ross. I can't even begin to explain to you how much I'm gonna miss you. When I think about not seeing you every day, it makes me not want to go... Okay, so if you think that I didn't say goodbye to you because you don't mean as much to me as everybody else, you're wrong. It's because you mean more to me. So there, all right, there's your goodbye... Oh!\\n\",\n",
       " 'What?\\n',\n",
       " 'WHAT?\\n',\n",
       " \"So if you think I didn't say goodbye to you because you don't mean as much to me as everybody else, you're wrong. It's because you mean more to me.\\n\",\n",
       " 'What?!\\n',\n",
       " 'Shh.. Go back to sleep. I have to go home.\\n',\n",
       " \"It really was. You've learned some new moves!\\n\",\n",
       " 'Ah.\\n',\n",
       " 'I know!\\n',\n",
       " 'Morning!\\n',\n",
       " 'Hey.\\n',\n",
       " 'Good. You?\\n',\n",
       " \"Chick and the duck? Didn't they die...\\n\",\n",
       " 'You too. Last night was just wonderful.\\n',\n",
       " 'I woke up today with the biggest smile on my face.\\n',\n",
       " 'Uh-huh. I know. It was just, it was just the perfect way to say goodbye. (She hugs him, and Ross looks crushed.)\\n',\n",
       " 'Hi!\\n',\n",
       " \"Hi! So I just dropped Emma off at my mom's.\\n\",\n",
       " 'No, we decided that I would go ahead and set up first, and then my mom would bring Emma to Paris on Sunday.\\n',\n",
       " 'Are you kidding? Eight hours with my mother talking about Atkins? Good luck, Emma!\\n',\n",
       " 'Yeah?\\n',\n",
       " \"(touched) Gunther... Oh... I love you too. Probably not in the same way, but I do. And, and when I'm in a café, having coffee, or I see a man with hair brighter than the sun, I'll think of you. Aw.\\n\",\n",
       " 'Oh... Bye guys.\\n',\n",
       " \"Hi! You guys, the car-service just got here. I can't believe they're not home yet! I have to catch my stupid plane. I wanna see the baby!\\n\",\n",
       " 'Oh my God!\\n',\n",
       " 'Hi! Oh my gosh!\\n',\n",
       " 'Oh.\\n',\n",
       " 'What... What...\\n',\n",
       " 'Aw..\\n',\n",
       " 'Oh my gosh. Wow, so beautiful.\\n',\n",
       " \"Oh, you guys, I can't believe this. But I'll leave now, or I'm gonna miss my plane.\\n\",\n",
       " \"Me too. Oh, I'm just sorry I'm not gonna be around to watch you two attempt to handle this! Alright, I can't say goodbye to you guys again. I love you all so much.\\n\",\n",
       " 'I will. Ross, come here.\\n',\n",
       " \"I just want you to know.. Last night.. I'll never forget it.\\n\",\n",
       " \"Alright, now I really have to go. Okay. Au revoir! Oh, they're gonna really hate me over there.\\n\",\n",
       " \"Oh my God! I was so afraid I wasn't gonna remember any of my high-school French, but I understood every word you just said!\\n\",\n",
       " 'Oh.\\n',\n",
       " \"Oh, shoot. I had it. Oh, I can't believe this.\\n\",\n",
       " \"I have it, I have it, I have it. Oh, okay, I can't find it, but I remember that I was in seat 32C, because that's my bra-size.\\n\",\n",
       " 'Okay, fine! But you know what? If I was in 36D, we would not be having this problem.\\n',\n",
       " 'Oh! Shoot! Damn it! Where is it? Oh! Oh! I found it! I found it!\\n',\n",
       " \"Hah! I found it! I told you I would find it! In your face! You're a different person.\\n\",\n",
       " 'Hello?\\n',\n",
       " 'Yeah.\\n',\n",
       " 'Phoebe? Is everything okay?\\n',\n",
       " 'What? Why?\\n',\n",
       " \"Oh, honey, I'm sure there's nothing wrong with the plane.\\n\",\n",
       " 'Alright, look, I have to go. I love you, and I will call you the minute I get to Paris.\\n',\n",
       " 'Oh, that was just my crazy friend. She told me I should get off the plane, because she had a feeling that there was something wrong with the left Philange.\\n',\n",
       " \"I wouldn't worry about it. She's always coming up with stuff like this, and you know what? She's almost never right.\\n\",\n",
       " 'Well...\\n',\n",
       " 'Wait, what are you doing?\\n',\n",
       " 'Could I get some peanuts?\\n',\n",
       " 'This is ridiculous! I...\\n',\n",
       " 'Yeah, okay.\\n',\n",
       " 'Oh my God... What.. What are you guys doing here?\\n',\n",
       " \"What? What? Ross, you're scaring me. What's going on?\\n\",\n",
       " 'Yeah?\\n',\n",
       " 'What?\\n',\n",
       " 'Oh my God.\\n',\n",
       " 'I - I have to get on the plane.\\n',\n",
       " 'Yes, I do.\\n',\n",
       " \"They're waiting for me, Ross. I can't do this right now, I'm sorry. I'm sorry.\\n\",\n",
       " \"I'm so sorry.\\n\",\n",
       " \"(on the answering machine) Ross, hi. It's me. I just got back on the plane. And I just feel awful. That is so not how I wanted things to end with us. It's just that I wasn't expecting to see you, and all of a sudden you're there and saying these things... And... And now I'm just sitting here and thinking of all the stuff I should have said, and I didn't. I mean, I didn't even get to tell you that I love you too. Because of course I do. I love you. I love you. I love you. What am I doing? I love you! Oh, I've gotta see you. I've gotta get off this plane.\\n\",\n",
       " '(on the answering machine) Excuse me?\\n',\n",
       " \"(on the answering machine) I'm sorry. I'm really sorry, but I need to get off the plane, okay? I need to tell someone that I love love them.\\n\",\n",
       " \"(on the answering machine) Oh, please, miss, you don't understand!\\n\",\n",
       " \"(on the answering machine) Oh, come on, miss, isn't there any way that you can just let me off...\\n\",\n",
       " 'I got off the plane.\\n',\n",
       " 'I do love you.\\n',\n",
       " \"Okay. 'Cause this is where I wanna be, okay? No more messing around. I don't wanna mess this up again.\\n\",\n",
       " 'Okay. You and me, alright? This is it.\\n',\n",
       " 'I know. It seems smaller somehow.\\n',\n",
       " '(crying) Do you guys have to go to the new house right away, or do you have some time?\\n',\n",
       " 'Okay, should we get some coffee?\\n',\n",
       " 'Everything you need to know is in that first kiss.\\n',\n",
       " \"Yeah, well, word of advice: Bring back the comedian. Otherwise next time you're gonna find yourself sitting at home, listening to that album alone.\\n\",\n",
       " 'Has anybody seen my engagement ring?\\n',\n",
       " 'Oh God, oh God, oh God oh God oh God oh God.... (Starts to look under the couch cushions.)\\n',\n",
       " \"Oh, like I wasn't dreading tomorrow enough, having to give it back to him... 'Hi Barry! Remember me? I'm the girl in the veil who stomped on your heart in front of your entire family!' Oh God and now I'm gonna have to return the ring, without the ring, which makes it so much harder...\\n\",\n",
       " 'I know I had it this morning, and I know I had it when I was in the kitchen with...\\n',\n",
       " \"(looks at the lasagne and realizes something) Ohhhhh, don't be mad...\\n\",\n",
       " 'Oh, I am sorry...\\n',\n",
       " 'Oh, but look how straight those noodles are!\\n',\n",
       " 'Well now, how-how do you fit into this whole thing?\\n',\n",
       " 'So what are you gonna do?\\n',\n",
       " \"You're twins?\\n\",\n",
       " 'All right, you guys, I kinda gotta clean up now. (They all start to leave.)\\n',\n",
       " 'The lights, please..\\n',\n",
       " \"I'm just cleaning up.\\n\",\n",
       " 'Uh.. okay, sure! Thanks! (She hands him the broom and sits down.)\\n',\n",
       " 'Oh.. a little..\\n',\n",
       " 'A lot.\\n',\n",
       " \"So, got any advice? Y'know, as someone who's recently been- dumped?\\n\",\n",
       " \"Oh, you've got Carol tomorrow.. When did it get so complicated?\\n\",\n",
       " 'Remember when we were in high school together?\\n',\n",
       " \"I mean, didn't you think you were just gonna meet somone, fall in love- and that'd be it? (Ross gazes at her.) ..Ross?\\n\",\n",
       " \"Oh! Man, I never thought I'd be here.. (She leans back onto his hand.)\\n\",\n",
       " 'Barry?\\n',\n",
       " '(hesitates) Are you sure?\\n',\n",
       " \"I'm- uh- I'm okay... You look great!\\n\",\n",
       " 'I dumped him.\\n',\n",
       " 'Oh, not much. I-I got a job.\\n',\n",
       " 'Why are- why are you so tanned?\\n',\n",
       " 'Oh no. You went on our honeymoon alone?\\n',\n",
       " 'Mindy?! My maid of honour, Mindy?!\\n',\n",
       " \"Oh! Well, um.. (Grabs his forehand) You've got plugs!\\n\",\n",
       " \"And you've got lenses! But you hate sticking your finger in your eye!\\n\",\n",
       " 'Okay..\\n',\n",
       " 'Wow.\\n',\n",
       " 'What?\\n',\n",
       " 'Anyway, um, (Gets the ring out of her purse.) I guess this belongs to you. And thank you for giving it to me.\\n',\n",
       " \"(on phone) Hi, Mindy. Hi, it-it's Rachel. Yeah, I'm fine. I-I saw Barry today. Oh, yeah, yeah he-he told me. No, no, it's okay. I hope you two are very happy, I really do. Oh, oh, and Mind, y'know, if-if everything works out, and you guys end up getting married and having kids- and everything- I just hope they have his old hairline and your old nose. (Slams the phone down.) (To everyone) Okay, I know it was a cheap shot, but I feel so much better now.\\n\",\n",
       " \"What? He said 'we should do it again', that's good, right?\\n\",\n",
       " 'Since when?\\n',\n",
       " 'And everybody knows this?\\n',\n",
       " \"(carrying a tray of drinks) Alright, don't tell me, don't tell me! (Starts handing them out.) Decaf cappucino for Joey.. Coffee black.. Late.. And an iced tea. I'm getting pretty good at this!\\n\",\n",
       " '(leaving to serve others) Good for me!\\n',\n",
       " 'Yeah, but if you spent it, it would be like shopping!\\n',\n",
       " 'Chandler, what are you doing?\\n',\n",
       " \"This Alan again? How's it goin'?\\n\",\n",
       " 'Well, then can we meet him?\\n',\n",
       " 'What bank is this?\\n',\n",
       " 'And did you notice...? (She spreads her thumb and index finger.)\\n',\n",
       " \"What future boyfriends? Nono, I th- I think this could be, y'know, it.\\n\",\n",
       " 'I mean, it-it was like, it was like he made us into a team.\\n',\n",
       " \"Well, no. That's impossible. You can never be too Alan.\\n\",\n",
       " \"It's worse than the thumb!\\n\",\n",
       " 'Well, I-I could live without it.\\n',\n",
       " '\"Indeed there isn\\'t\"... I should really get back to work.\\n',\n",
       " 'Ohh-ho-hooohhh. The hair comes out, and the gloves come on.\\n',\n",
       " \"(holding the phone out to Chandler) Chandler? It's Alan, he wants to speak to you.\\n\",\n",
       " \"(to Ross, who has wandered up) God, he's good.\\n\",\n",
       " 'Yeah.\\n',\n",
       " \"I think he's across the hall.\\n\",\n",
       " 'Uh, Joey..\\n',\n",
       " \"We didn't change..\\n\",\n",
       " \"(tearful) I just can't believe this! I mean, with the holidays coming up- I wanted him to meet my family-\\n\",\n",
       " 'Remember when we went to Central Park and rented boats?.. That was fun.\\n',\n",
       " 'See, there\\'s always one guy. (Mocking) \"If I had a wish, I\\'d wish for three more wishes.\" (Joey enters.)\\n',\n",
       " \"Look-look-look-look-look, my first pay check! Look at the window, there's my name! Hi, me!\\n\",\n",
       " \"God, isn't this exciting? I earned this. I wiped tables for it, I steamed milk for it, and it was totally—(opens envelope)—not worth it. Who's FICA? Why's he getting all my money? I mean, what- Chandler, look at that.\\n\",\n",
       " 'Oh my God! (Rachel, Leslie, Kiki, and Joanne all scream and hug each other.\\n',\n",
       " 'What are you guys doing here?\\n',\n",
       " \"(to a pregnant Leslie) Look at you, you are so big I can't believe it!\\n\",\n",
       " \"(to Joanne) So what's going on with you?\\n\",\n",
       " \"So c'mon, you guys, tell me all the dirt!\\n\",\n",
       " 'Okay.\\n',\n",
       " \"What? Guys, I'm not.\\n\",\n",
       " \"I'm not! This is what I'm doing now. I've got this job-\\n\",\n",
       " \"Okay, I'm not just waitressing. I'm.. I, um... I write the specials on the specials board, and, uh... and I, uh... I take the uh dead flowers out of the vase... Oh, and, um, sometimes Artelle lets me put the little chocolate blobbies on the cookies.\\n\",\n",
       " \"What's that?\\n\",\n",
       " 'Okay. (Grabs the blender and starts to drink.)\\n',\n",
       " 'Oh, God, ask them what they want.\\n',\n",
       " \"But I haven't used my card in weeks!\\n\",\n",
       " \"They wanna know if I'm okay. Okay.. they wanna know if I'm okay, okay, let's see. Well, let's see, the FICA guys took all my money, everyone I know is either getting married, or getting promoted, or getting pregnant, and I'm getting coffee! And it's not even for me! So if that sounds like I'm okay, okay, then you can tell them I'm okay, okay?\\n\",\n",
       " \"Alright, c'mon! (Miserably) Let's play Twister!\\n\",\n",
       " 'Monica, what is so amazing? I gave up, like, everything. And for what?\\n',\n",
       " '...Jack from downstairs?\\n',\n",
       " \"Okay, but Pheebs, Pheebs, Jack gave up a cow, I gave up an orthodontist. Okay, I-I-I know, I know I didn't love him-\\n\",\n",
       " \"But see, it was a plan. Y'know, it was clear. It was figured out, and now everything's just kinda like...\\n\",\n",
       " 'Yeah.\\n',\n",
       " \"Okay, but Monica, what if- what if it doesn't come together?\\n\",\n",
       " \"Okay, see, see, you guys, what if we don't get magic beans? I mean, what if all we've got are.. beans?\\n\",\n",
       " \"I'm so sorry, you guys. I didn't mean to bring you down.\\n\",\n",
       " 'Thank God. Food. (She goes to answer the door.)\\n',\n",
       " \"(miserably) No, no, that's not what we ordered... We ordered a fat-free crust with extra cheese.\\n\",\n",
       " \"Uh, Pheebs? Who's George Snuffalopagus?\\n\",\n",
       " 'Hello? Who are we spying on?\\n',\n",
       " 'Oh, him, the little guy? Oh, I love him!\\n',\n",
       " 'Yeah.\\n',\n",
       " \"Oh please, they're having sex.\\n\",\n",
       " 'So, whaddya think George is like?\\n',\n",
       " 'How long?\\n',\n",
       " 'Okay, okay, okay, I got one! (She sits up and the cushion she was leaning against falls off of the balcony.) Anyway- The valentine Tommy Rollerson left in your locker was really from me.\\n',\n",
       " 'Hello? Like he was really gonna send you one? (To Phoebe) She was a big girl.\\n',\n",
       " 'I was laughing! You made me laugh! (Monica and Rachel start to squabble)\\n',\n",
       " 'He is so cute!\\n',\n",
       " 'Oh, okay. Will you take my place?\\n',\n",
       " \"Nooo! (She grabs the phone and Chandler takes her place on the mat.) (On phone) Hello? (Listens) Oh, yeah, no, I know, I-I haven't been using it much. (Listens) Oh, well, thanks, but, I'm okay, really.\\n\",\n",
       " \"(on phone) I've got magic beans. (Listens) Never-never mind.\\n\",\n",
       " \"(on phone) Ohhh... I'm fine.\\n\",\n",
       " 'Come on! You guys can pee standing up.\\n',\n",
       " '(waitressing) Does anybody want anything else?\\n',\n",
       " \"It's my father. He wants to give me a Mercedes convertible.\\n\",\n",
       " \"Yeah, well, it's a Mercedes if I move back home. Oh, it was horrible. He called me young lady.\\n\",\n",
       " 'Oh, yeah, yeah. Actually, I got the extended disco version, with three choruses of \"You\\'ll never make it on your own\".\\n',\n",
       " 'Oh, big glamour night. Me and Monica at Laundorama.\\n',\n",
       " 'Who?\\n',\n",
       " \"Don't you have a laundry room in your building?\\n\",\n",
       " 'Sure.\\n',\n",
       " \"Oh, 'scuse me. I was kinda using that machine.\\n\",\n",
       " 'But I saved it. I put my basket on top.\\n',\n",
       " 'What?\\n',\n",
       " 'Hi, uh, nothing. That horrible woman just took my machine.\\n',\n",
       " 'Yeah, but, there were no suds.\\n',\n",
       " 'Well, you know, no suds, no save.\\n',\n",
       " \"That was amazing. I can't even send back soup.\\n\",\n",
       " \"What's that?\\n\",\n",
       " 'Oh god. Oh, am I being like a total laundry spaz? I mean, am I supposed to use like one machine for shirts and another machine for pants?\\n',\n",
       " \"Well, not myself, but I know other people that have. Ok, you caught me. I'm a laundry virgin.\\n\",\n",
       " '(holds a pair of panties in front of Ross) Ok, Well, what about these are white cotton panties. Would they go with whites or delicates?\\n',\n",
       " \"Ok, I know this is gonna sound really stupid, but I feel that if I can do this, you know, if I can actually do my own laundry, there isn't anything I can't do.\\n\",\n",
       " 'What uh-oh?\\n',\n",
       " \"Ross, what's the matter?\\n\",\n",
       " 'Come on, show me.\\n',\n",
       " \"Oh, everything's pink.\\n\",\n",
       " \"Except it didn't. It happened to me. Oh, god, I'm gonna look like a big marshmallow peep. What am I doing? What am I doing? My father's right. I can't live on my own! I can't even do laundry!\\n\",\n",
       " 'Oh, I guess. Except everything looks like jammies now.\\n',\n",
       " \"Whoa, I'm sorry. Excuse me. We had this cart.\\n\",\n",
       " \"I'm sorry, you know, maybe I wasn't being clear. Uh, this is our cart.\\n\",\n",
       " 'Hey, hey, hey, hey, quit making up rules!\\n',\n",
       " \"All right, listen, missy. If you want this cart, you're gonna have to take me with it!\\n\",\n",
       " '(to Ross) Yes! Did you see that?\\n',\n",
       " 'I could not have done this without you.\\n',\n",
       " 'Are you sure?\\n',\n",
       " \"Oh, are you sure you're ok?\\n\",\n",
       " 'Does it still hurt?\\n',\n",
       " \"Where's Chandler?\\n\",\n",
       " \"(reading the program) Ooh! Look! Look! Look! Look, there's Joey's picture! This is so exciting!\\n\",\n",
       " 'God. I feel violated.\\n',\n",
       " \"Oh, c'mon. She's a person, you can do it!\\n\",\n",
       " 'What is it?\\n',\n",
       " 'Tah-daaah!\\n',\n",
       " \"Look! I cleaned! I did the windows, I did the floors... I even used all the attachments on the vacuum, except that little round one with the bristles, I don't know what that's for.\\n\",\n",
       " 'Well, whaddya think?\\n',\n",
       " \"I dunno.. I-I thought it looked better there. And I- and also, it's an extra seat around the coffee table.\\n\",\n",
       " \"Okay, uh, you let me go grocery shopping, and I buy laundry detergent, but it's not the one with the easy-pour spout.\\n\",\n",
       " \"..You're, you're 'mah mah mah' what?\\n\",\n",
       " 'Who is being loud?\\n',\n",
       " 'Ooh, do I sense a little bit of resentment?\\n',\n",
       " 'Oh, Joey, you know what, no-one is gonna be able to tell.\\n',\n",
       " 'Uh, Mon, you-you gonna leave your shoes out here?\\n',\n",
       " 'Really? Just casually strewn about in that reckless haphazard manner?\\n',\n",
       " 'Everybody? Shh, shhh. Uhhh... Central Perk is proud to present the music of Miss Phoebe Buffay.\\n',\n",
       " 'Wow, this is so cool, you guys. The entire city is blacked out!\\n',\n",
       " 'Wow, you guys, this is big.\\n',\n",
       " 'That had to hurt!\\n',\n",
       " 'Alright, somebody.\\n',\n",
       " 'Um... Ross?\\n',\n",
       " 'Oh come on, I already went.\\n',\n",
       " 'Oh, alright. The weirdest place would have to be... (sigh)... oh, the foot of the bed.\\n',\n",
       " 'I just never had a relationship with that kind of passion, you know, where you have to have somebody right there, in the middle of a theme park.\\n',\n",
       " \"There, well, see? Barry wouldn't even kiss me on a miniature golf course.\\n\",\n",
       " 'No, he said we were holding up the people behind us.\\n',\n",
       " 'I mean, do you think there are people who go through life never having that kind of...\\n',\n",
       " 'Yeah right.\\n',\n",
       " '(sigh) OK.\\n',\n",
       " \"You don't.\\n\",\n",
       " 'Really?\\n',\n",
       " 'You do?\\n',\n",
       " \"Oh Ross, you're so great. (she playfully rubs his head and gets up)\\n\",\n",
       " 'What are you shushing?\\n',\n",
       " 'Ahhhh!\\n',\n",
       " 'Huh. (she agrees, but looks very confused)\\n',\n",
       " 'Hmmm... this is so nice.\\n',\n",
       " ...]"
      ]
     },
     "execution_count": 2,
     "metadata": {},
     "output_type": "execute_result"
    }
   ],
   "source": [
    "friends_chars['RACHEL']"
   ]
  },
  {
   "cell_type": "code",
   "execution_count": 3,
   "metadata": {},
   "outputs": [],
   "source": [
    "import pandas as pd\n",
    "df6 = pd.DataFrame(friends_chars['MONICA'])\n",
    "df5 = pd.DataFrame(friends_chars['ROSS'])\n",
    "\n",
    "df4 = pd.DataFrame(friends_chars['RACHEL'])\n",
    "df3 = pd.DataFrame(friends_chars['PHOEBE'])\n",
    "\n",
    "df2 = pd.DataFrame(friends_chars['JOEY'])\n",
    "df1 = pd.DataFrame(friends_chars['CHANDLER'])"
   ]
  },
  {
   "cell_type": "code",
   "execution_count": 4,
   "metadata": {},
   "outputs": [
    {
     "data": {
      "text/html": [
       "<div>\n",
       "<style scoped>\n",
       "    .dataframe tbody tr th:only-of-type {\n",
       "        vertical-align: middle;\n",
       "    }\n",
       "\n",
       "    .dataframe tbody tr th {\n",
       "        vertical-align: top;\n",
       "    }\n",
       "\n",
       "    .dataframe thead th {\n",
       "        text-align: right;\n",
       "    }\n",
       "</style>\n",
       "<table border=\"1\" class=\"dataframe\">\n",
       "  <thead>\n",
       "    <tr style=\"text-align: right;\">\n",
       "      <th></th>\n",
       "      <th>0</th>\n",
       "    </tr>\n",
       "  </thead>\n",
       "  <tbody>\n",
       "    <tr>\n",
       "      <th>0</th>\n",
       "      <td>You know, I'd love to, but I'm a little tired.\\n</td>\n",
       "    </tr>\n",
       "    <tr>\n",
       "      <th>1</th>\n",
       "      <td>You're on!\\n</td>\n",
       "    </tr>\n",
       "    <tr>\n",
       "      <th>2</th>\n",
       "      <td>He could be alone. This morning I heard him do...</td>\n",
       "    </tr>\n",
       "    <tr>\n",
       "      <th>3</th>\n",
       "      <td>She's cheating on Joey with Ross!\\n</td>\n",
       "    </tr>\n",
       "    <tr>\n",
       "      <th>4</th>\n",
       "      <td>Wow!\\n</td>\n",
       "    </tr>\n",
       "  </tbody>\n",
       "</table>\n",
       "</div>"
      ],
      "text/plain": [
       "                                                   0\n",
       "0   You know, I'd love to, but I'm a little tired.\\n\n",
       "1                                       You're on!\\n\n",
       "2  He could be alone. This morning I heard him do...\n",
       "3                She's cheating on Joey with Ross!\\n\n",
       "4                                             Wow!\\n"
      ]
     },
     "execution_count": 4,
     "metadata": {},
     "output_type": "execute_result"
    }
   ],
   "source": [
    "df1.head()"
   ]
  },
  {
   "cell_type": "code",
   "execution_count": 5,
   "metadata": {},
   "outputs": [
    {
     "data": {
      "text/plain": [
       "(16331, 1)"
      ]
     },
     "execution_count": 5,
     "metadata": {},
     "output_type": "execute_result"
    }
   ],
   "source": [
    "df1.shape"
   ]
  },
  {
   "cell_type": "code",
   "execution_count": 6,
   "metadata": {},
   "outputs": [],
   "source": [
    "listOfScores1 = ['Chandler'] *df1.shape[0]\n",
    "listOfScores2 = ['Joey'] *df2.shape[0]\n",
    "listOfScores3 = ['Phoebe'] *df3.shape[0]\n",
    "listOfScores4 = ['Rachel'] *df4.shape[0]\n",
    "listOfScores5 = ['Ross'] *df5.shape[0]\n",
    "listOfScores6 = ['Monica'] *df6.shape[0]\n"
   ]
  },
  {
   "cell_type": "code",
   "execution_count": 7,
   "metadata": {},
   "outputs": [],
   "source": [
    "df1['Score'] = listOfScores1\n",
    "df2['Score'] = listOfScores2 \n",
    "df3['Score'] = listOfScores3\n",
    "df4['Score'] = listOfScores4\n",
    "df5['Score'] = listOfScores5\n",
    "df6['Score'] = listOfScores6\n"
   ]
  },
  {
   "cell_type": "code",
   "execution_count": 8,
   "metadata": {},
   "outputs": [],
   "source": [
    "df1=df1.rename(columns={0: 'dialogue'})\n",
    "df2=df2.rename(columns={0: 'dialogue'})\n",
    "df3=df3.rename(columns={0: 'dialogue'})\n",
    "df4=df4.rename(columns={0: 'dialogue'})\n",
    "df5=df5.rename(columns={0: 'dialogue'})\n",
    "df6=df6.rename(columns={0: 'dialogue'})"
   ]
  },
  {
   "cell_type": "code",
   "execution_count": 9,
   "metadata": {},
   "outputs": [
    {
     "data": {
      "text/html": [
       "<div>\n",
       "<style scoped>\n",
       "    .dataframe tbody tr th:only-of-type {\n",
       "        vertical-align: middle;\n",
       "    }\n",
       "\n",
       "    .dataframe tbody tr th {\n",
       "        vertical-align: top;\n",
       "    }\n",
       "\n",
       "    .dataframe thead th {\n",
       "        text-align: right;\n",
       "    }\n",
       "</style>\n",
       "<table border=\"1\" class=\"dataframe\">\n",
       "  <thead>\n",
       "    <tr style=\"text-align: right;\">\n",
       "      <th></th>\n",
       "      <th>dialogue</th>\n",
       "      <th>Score</th>\n",
       "    </tr>\n",
       "  </thead>\n",
       "  <tbody>\n",
       "    <tr>\n",
       "      <th>16323</th>\n",
       "      <td>But... you suck!\\n</td>\n",
       "      <td>Monica</td>\n",
       "    </tr>\n",
       "    <tr>\n",
       "      <th>16324</th>\n",
       "      <td>Oh my God! You're good!\\n</td>\n",
       "      <td>Monica</td>\n",
       "    </tr>\n",
       "    <tr>\n",
       "      <th>16325</th>\n",
       "      <td>(to Chandler) Oh my God. That was so amazing! ...</td>\n",
       "      <td>Monica</td>\n",
       "    </tr>\n",
       "    <tr>\n",
       "      <th>16326</th>\n",
       "      <td>Why?\\n</td>\n",
       "      <td>Monica</td>\n",
       "    </tr>\n",
       "    <tr>\n",
       "      <th>16327</th>\n",
       "      <td>This is so great! Now we can enter into double...</td>\n",
       "      <td>Monica</td>\n",
       "    </tr>\n",
       "  </tbody>\n",
       "</table>\n",
       "</div>"
      ],
      "text/plain": [
       "                                                dialogue   Score\n",
       "16323                                 But... you suck!\\n  Monica\n",
       "16324                          Oh my God! You're good!\\n  Monica\n",
       "16325  (to Chandler) Oh my God. That was so amazing! ...  Monica\n",
       "16326                                             Why?\\n  Monica\n",
       "16327  This is so great! Now we can enter into double...  Monica"
      ]
     },
     "execution_count": 9,
     "metadata": {},
     "output_type": "execute_result"
    }
   ],
   "source": [
    "df = pd.concat([df1, df2,df3,df4,df5,df6])\n",
    "df.tail()"
   ]
  },
  {
   "cell_type": "code",
   "execution_count": 10,
   "metadata": {},
   "outputs": [
    {
     "data": {
      "text/html": [
       "<div>\n",
       "<style scoped>\n",
       "    .dataframe tbody tr th:only-of-type {\n",
       "        vertical-align: middle;\n",
       "    }\n",
       "\n",
       "    .dataframe tbody tr th {\n",
       "        vertical-align: top;\n",
       "    }\n",
       "\n",
       "    .dataframe thead th {\n",
       "        text-align: right;\n",
       "    }\n",
       "</style>\n",
       "<table border=\"1\" class=\"dataframe\">\n",
       "  <thead>\n",
       "    <tr style=\"text-align: right;\">\n",
       "      <th></th>\n",
       "      <th>Score</th>\n",
       "      <th>dialogue</th>\n",
       "      <th>category_id</th>\n",
       "    </tr>\n",
       "  </thead>\n",
       "  <tbody>\n",
       "    <tr>\n",
       "      <th>16323</th>\n",
       "      <td>Monica</td>\n",
       "      <td>But... you suck!\\n</td>\n",
       "      <td>5</td>\n",
       "    </tr>\n",
       "    <tr>\n",
       "      <th>16324</th>\n",
       "      <td>Monica</td>\n",
       "      <td>Oh my God! You're good!\\n</td>\n",
       "      <td>5</td>\n",
       "    </tr>\n",
       "    <tr>\n",
       "      <th>16325</th>\n",
       "      <td>Monica</td>\n",
       "      <td>(to Chandler) Oh my God. That was so amazing! ...</td>\n",
       "      <td>5</td>\n",
       "    </tr>\n",
       "    <tr>\n",
       "      <th>16326</th>\n",
       "      <td>Monica</td>\n",
       "      <td>Why?\\n</td>\n",
       "      <td>5</td>\n",
       "    </tr>\n",
       "    <tr>\n",
       "      <th>16327</th>\n",
       "      <td>Monica</td>\n",
       "      <td>This is so great! Now we can enter into double...</td>\n",
       "      <td>5</td>\n",
       "    </tr>\n",
       "  </tbody>\n",
       "</table>\n",
       "</div>"
      ],
      "text/plain": [
       "        Score                                           dialogue  category_id\n",
       "16323  Monica                                 But... you suck!\\n            5\n",
       "16324  Monica                          Oh my God! You're good!\\n            5\n",
       "16325  Monica  (to Chandler) Oh my God. That was so amazing! ...            5\n",
       "16326  Monica                                             Why?\\n            5\n",
       "16327  Monica  This is so great! Now we can enter into double...            5"
      ]
     },
     "execution_count": 10,
     "metadata": {},
     "output_type": "execute_result"
    }
   ],
   "source": [
    "from io import StringIO\n",
    "col = ['Score', 'dialogue']\n",
    "df = df[col]\n",
    "df = df[pd.notnull(df['dialogue'])]\n",
    "df.columns = ['Score', 'dialogue']\n",
    "df['category_id'] = df['Score'].factorize()[0]\n",
    "category_id_df = df[['Score', 'category_id']].drop_duplicates().sort_values('category_id')\n",
    "category_to_id = dict(category_id_df.values)\n",
    "id_to_category = dict(category_id_df[['category_id', 'Score']].values)\n",
    "df.tail()\n"
   ]
  },
  {
   "cell_type": "code",
   "execution_count": 11,
   "metadata": {},
   "outputs": [],
   "source": [
    "%matplotlib inline\n",
    "%config InlineBackend.figure_format = 'retina'\n",
    "import matplotlib.pyplot as plt\n"
   ]
  },
  {
   "cell_type": "code",
   "execution_count": 12,
   "metadata": {},
   "outputs": [
    {
     "data": {
      "image/png": "[encoded data removed]",
      "text/plain": [
       "<Figure size 576x432 with 1 Axes>"
      ]
     },
     "metadata": {
      "image/png": {
       "height": 408,
       "width": 501
      },
      "needs_background": "light"
     },
     "output_type": "display_data"
    }
   ],
   "source": [
    "import matplotlib.pyplot as plt\n",
    "fig = plt.figure(figsize=(8,6))\n",
    "df.groupby('Score').dialogue.count().plot.bar(ylim=0)\n",
    "plt.show()"
   ]
  },
  {
   "cell_type": "code",
   "execution_count": 13,
   "metadata": {},
   "outputs": [
    {
     "name": "stdout",
     "output_type": "stream",
     "text": [
      "And she's... turning on the TV... and watching... Miss Congeniality!\n",
      "\n",
      "dialogue: And she's... turning on the TV... and watching... Miss Congeniality!\n",
      "\n"
     ]
    }
   ],
   "source": [
    "def print_plot(index):\n",
    "    example = df[df.index == index][['dialogue']].values[0]\n",
    "    if len(example) > 0:\n",
    "        print(example[0])\n",
    "        print('dialogue:', example[0])\n",
    "print_plot(10)"
   ]
  },
  {
   "cell_type": "code",
   "execution_count": 14,
   "metadata": {},
   "outputs": [],
   "source": [
    "import re\n",
    "from nltk.corpus import stopwords\n",
    "\n",
    "\n",
    "df = df.reset_index(drop=True)\n",
    "REPLACE_BY_SPACE_RE = re.compile('[/(){}\\[\\]\\|@,;]')\n",
    "BAD_SYMBOLS_RE = re.compile('[^0-9a-z #+_]')\n",
    "STOPWORDS = set(stopwords.words('english'))\n",
    "\n",
    "def clean_text(text):\n",
    "    \"\"\"\n",
    "        text: a string\n",
    "        \n",
    "        return: modified initial string\n",
    "    \"\"\"\n",
    "    text = text.lower() # lowercase text\n",
    "    text = REPLACE_BY_SPACE_RE.sub(' ', text) # replace REPLACE_BY_SPACE_RE symbols by space in text. substitute the matched string in REPLACE_BY_SPACE_RE with space.\n",
    "    text = BAD_SYMBOLS_RE.sub('', text) # remove symbols which are in BAD_SYMBOLS_RE from text. substitute the matched string in BAD_SYMBOLS_RE with nothing. \n",
    "    text = text.replace('x', '')\n",
    "#    text = re.sub(r'\\W+', '', text)\n",
    "    text = ' '.join(word for word in text.split() if word not in STOPWORDS) # remove stopwors from text\n",
    "    return text\n",
    "df['dialogue'] = df['dialogue'].apply(clean_text)\n",
    "df['dialogue'] = df['dialogue'].str.replace('\\d+', '')"
   ]
  },
  {
   "cell_type": "code",
   "execution_count": 15,
   "metadata": {},
   "outputs": [
    {
     "name": "stdout",
     "output_type": "stream",
     "text": [
      "shes turning tv watching miss congeniality\n",
      "dialogue: shes turning tv watching miss congeniality\n"
     ]
    }
   ],
   "source": [
    "print_plot(10)"
   ]
  },
  {
   "cell_type": "code",
   "execution_count": 16,
   "metadata": {},
   "outputs": [
    {
     "name": "stdout",
     "output_type": "stream",
     "text": [
      "Requirement already satisfied: keras in /usr/local/lib/python3.7/site-packages (2.2.4)\n",
      "Requirement already satisfied: scipy>=0.14 in /usr/local/lib/python3.7/site-packages (from keras) (1.2.1)\n",
      "Requirement already satisfied: numpy>=1.9.1 in /usr/local/lib/python3.7/site-packages (from keras) (1.16.2)\n",
      "Requirement already satisfied: pyyaml in /usr/local/lib/python3.7/site-packages (from keras) (5.1.2)\n",
      "Requirement already satisfied: h5py in /usr/local/lib/python3.7/site-packages (from keras) (2.9.0)\n",
      "Requirement already satisfied: six>=1.9.0 in /usr/local/lib/python3.7/site-packages (from keras) (1.12.0)\n",
      "Requirement already satisfied: keras-applications>=1.0.6 in /usr/local/lib/python3.7/site-packages (from keras) (1.0.8)\n",
      "Requirement already satisfied: keras-preprocessing>=1.0.5 in /usr/local/lib/python3.7/site-packages (from keras) (1.1.0)\n",
      "\u001b[33mWARNING: You are using pip version 19.1.1, however version 19.2.1 is available.\n",
      "You should consider upgrading via the 'pip install --upgrade pip' command.\u001b[0m\n"
     ]
    }
   ],
   "source": [
    "!pip3 install keras"
   ]
  },
  {
   "cell_type": "code",
   "execution_count": 17,
   "metadata": {},
   "outputs": [
    {
     "name": "stderr",
     "output_type": "stream",
     "text": [
      "Using TensorFlow backend.\n"
     ]
    }
   ],
   "source": [
    "from keras.preprocessing.text import Tokenizer\n",
    "from keras.preprocessing.sequence import pad_sequences\n",
    "from sklearn.model_selection import train_test_split\n"
   ]
  },
  {
   "cell_type": "code",
   "execution_count": 100,
   "metadata": {},
   "outputs": [
    {
     "name": "stdout",
     "output_type": "stream",
     "text": [
      "Found 15971 unique tokens.\n"
     ]
    }
   ],
   "source": [
    "\n",
    "# The maximum number of words to be used. (most frequent)\n",
    "MAX_NB_WORDS = 50000\n",
    "# Max number of words in each complaint.\n",
    "MAX_SEQUENCE_LENGTH = 200\n",
    "# This is fixed.\n",
    "EMBEDDING_DIM = 128\n",
    "tokenizer = Tokenizer(num_words=MAX_NB_WORDS, filters='!\"#$%&()*+,-./:;<=>?@[\\]^_`{|}~', lower=True)\n",
    "tokenizer.fit_on_texts(df['dialogue'].values)\n",
    "word_index = tokenizer.word_index\n",
    "print('Found %s unique tokens.' % len(word_index))"
   ]
  },
  {
   "cell_type": "code",
   "execution_count": 101,
   "metadata": {},
   "outputs": [
    {
     "name": "stdout",
     "output_type": "stream",
     "text": [
      "Shape of data tensor: (99233, 200)\n"
     ]
    }
   ],
   "source": [
    "X = tokenizer.texts_to_sequences(df['dialogue'].values)\n",
    "X = pad_sequences(X, maxlen=MAX_SEQUENCE_LENGTH)\n",
    "print('Shape of data tensor:', X.shape)"
   ]
  },
  {
   "cell_type": "code",
   "execution_count": 102,
   "metadata": {},
   "outputs": [
    {
     "name": "stdout",
     "output_type": "stream",
     "text": [
      "Shape of label tensor: (99233, 6)\n"
     ]
    }
   ],
   "source": [
    "Y = pd.get_dummies(df['category_id']).values\n",
    "print('Shape of label tensor:', Y.shape)"
   ]
  },
  {
   "cell_type": "code",
   "execution_count": 103,
   "metadata": {},
   "outputs": [
    {
     "name": "stdout",
     "output_type": "stream",
     "text": [
      "(89309, 200) (89309, 6)\n",
      "(9924, 200) (9924, 6)\n"
     ]
    }
   ],
   "source": [
    "X_train, X_test, Y_train, Y_test = train_test_split(X,Y, test_size = 0.10, random_state = 42)\n",
    "print(X_train.shape,Y_train.shape)\n",
    "print(X_test.shape,Y_test.shape)"
   ]
  },
  {
   "cell_type": "code",
   "execution_count": 104,
   "metadata": {},
   "outputs": [
    {
     "name": "stdout",
     "output_type": "stream",
     "text": [
      "2.0.0-beta0\n"
     ]
    }
   ],
   "source": [
    "import tensorflow_datasets as tfds\n",
    "import tensorflow as tf\n",
    "print(tf.__version__)"
   ]
  },
  {
   "cell_type": "code",
   "execution_count": null,
   "metadata": {},
   "outputs": [],
   "source": []
  },
  {
   "cell_type": "code",
   "execution_count": 105,
   "metadata": {},
   "outputs": [
    {
     "name": "stdout",
     "output_type": "stream",
     "text": [
      "Model: \"sequential_8\"\n",
      "_________________________________________________________________\n",
      "Layer (type)                 Output Shape              Param #   \n",
      "=================================================================\n",
      "embedding_8 (Embedding)      (None, 200, 128)          6400000   \n",
      "_________________________________________________________________\n",
      "flatten_7 (Flatten)          (None, 25600)             0         \n",
      "_________________________________________________________________\n",
      "dense_15 (Dense)             (None, 24)                614424    \n",
      "_________________________________________________________________\n",
      "dense_16 (Dense)             (None, 6)                 150       \n",
      "=================================================================\n",
      "Total params: 7,014,574\n",
      "Trainable params: 7,014,574\n",
      "Non-trainable params: 0\n",
      "_________________________________________________________________\n"
     ]
    }
   ],
   "source": [
    "model = tf.keras.Sequential([\n",
    "    tf.keras.layers.Embedding(MAX_NB_WORDS, EMBEDDING_DIM, input_length=MAX_SEQUENCE_LENGTH),\n",
    "    tf.keras.layers.Flatten(),\n",
    "    tf.keras.layers.Dense(24, activation='relu'),\n",
    "    tf.keras.layers.Dense(6, activation='sigmoid')\n",
    "])\n",
    "model.compile(loss='binary_crossentropy',optimizer='adam',metrics=['accuracy'])\n",
    "model.summary()\n",
    "\n"
   ]
  },
  {
   "cell_type": "code",
   "execution_count": 106,
   "metadata": {},
   "outputs": [
    {
     "name": "stdout",
     "output_type": "stream",
     "text": [
      "Train on 89309 samples, validate on 9924 samples\n",
      "Epoch 1/10\n",
      "89309/89309 [==============================] - 206s 2ms/sample - loss: 0.4214 - accuracy: 0.8375 - val_loss: 0.3853 - val_accuracy: 0.8486\n",
      "Epoch 2/10\n",
      "89309/89309 [==============================] - 209s 2ms/sample - loss: 0.3229 - accuracy: 0.8778 - val_loss: 0.3303 - val_accuracy: 0.8771\n",
      "Epoch 3/10\n",
      "89309/89309 [==============================] - 208s 2ms/sample - loss: 0.2546 - accuracy: 0.9058 - val_loss: 0.2883 - val_accuracy: 0.8953\n",
      "Epoch 4/10\n",
      "89309/89309 [==============================] - 209s 2ms/sample - loss: 0.2173 - accuracy: 0.9181 - val_loss: 0.2656 - val_accuracy: 0.9042\n",
      "Epoch 5/10\n",
      "89309/89309 [==============================] - 209s 2ms/sample - loss: 0.1955 - accuracy: 0.9248 - val_loss: 0.2542 - val_accuracy: 0.9099\n",
      "Epoch 6/10\n",
      "89309/89309 [==============================] - 210s 2ms/sample - loss: 0.1821 - accuracy: 0.9295 - val_loss: 0.2494 - val_accuracy: 0.9132\n",
      "Epoch 7/10\n",
      "89309/89309 [==============================] - 208s 2ms/sample - loss: 0.1727 - accuracy: 0.9327 - val_loss: 0.2444 - val_accuracy: 0.9169\n",
      "Epoch 8/10\n",
      "89309/89309 [==============================] - 211s 2ms/sample - loss: 0.1651 - accuracy: 0.9357 - val_loss: 0.2458 - val_accuracy: 0.9194\n",
      "Epoch 9/10\n",
      "89309/89309 [==============================] - 211s 2ms/sample - loss: 0.1586 - accuracy: 0.9381 - val_loss: 0.2478 - val_accuracy: 0.9207\n",
      "Epoch 10/10\n",
      "89309/89309 [==============================] - 211s 2ms/sample - loss: 0.1523 - accuracy: 0.9405 - val_loss: 0.2503 - val_accuracy: 0.9221\n"
     ]
    },
    {
     "data": {
      "text/plain": [
       "<tensorflow.python.keras.callbacks.History at 0x14be89320>"
      ]
     },
     "execution_count": 106,
     "metadata": {},
     "output_type": "execute_result"
    }
   ],
   "source": [
    "num_epochs = 10\n",
    "model.fit(X_train, Y_train, epochs=num_epochs, validation_data=(X_test, Y_test))"
   ]
  },
  {
   "cell_type": "code",
   "execution_count": 107,
   "metadata": {},
   "outputs": [
    {
     "name": "stdout",
     "output_type": "stream",
     "text": [
      "(50000, 128)\n"
     ]
    }
   ],
   "source": [
    "e = model.layers[0]\n",
    "weights = e.get_weights()[0]\n",
    "print(weights.shape) # shape: (vocab_size, embedding_dim)"
   ]
  },
  {
   "cell_type": "code",
   "execution_count": 108,
   "metadata": {},
   "outputs": [
    {
     "name": "stdout",
     "output_type": "stream",
     "text": [
      "? ? ? ? ? ? ? ? ? ? ? ? ? ? ? ? ? ? ? ? ? ? ? ? ? ? ? ? ? ? ? ? ? ? ? ? ? ? ? ? ? ? ? ? ? ? ? ? ? ? ? ? ? ? ? ? ? ? ? ? ? ? ? ? ? ? ? ? ? ? ? ? ? ? ? ? ? ? ? ? ? ? ? ? ? ? ? ? ? ? ? ? ? ? ? ? ? ? ? ? ? ? ? ? ? ? ? ? ? ? ? ? ? ? ? ? ? ? ? ? ? ? ? ? ? ? ? ? ? ? ? ? ? ? ? ? ? ? ? ? ? ? ? ? ? ? ? ? ? ? ? ? ? ? ? ? ? ? ? ? ? ? ? ? ? ? ? ? ? ? ? ? ? ? ? ? ? ? ? ? ? ? ? ? ? ? ? ? ? ? ? ? ? ? dont talking laughs nervously continues leaqve\n",
      "[   0    0    0    0    0    0    0    0    0    0    0    0    0    0\n",
      "    0    0    0    0    0    0    0    0    0    0    0    0    0    0\n",
      "    0    0    0    0    0    0    0    0    0    0    0    0    0    0\n",
      "    0    0    0    0    0    0    0    0    0    0    0    0    0    0\n",
      "    0    0    0    0    0    0    0    0    0    0    0    0    0    0\n",
      "    0    0    0    0    0    0    0    0    0    0    0    0    0    0\n",
      "    0    0    0    0    0    0    0    0    0    0    0    0    0    0\n",
      "    0    0    0    0    0    0    0    0    0    0    0    0    0    0\n",
      "    0    0    0    0    0    0    0    0    0    0    0    0    0    0\n",
      "    0    0    0    0    0    0    0    0    0    0    0    0    0    0\n",
      "    0    0    0    0    0    0    0    0    0    0    0    0    0    0\n",
      "    0    0    0    0    0    0    0    0    0    0    0    0    0    0\n",
      "    0    0    0    0    0    0    0    0    0    0    0    0    0    0\n",
      "    0    0    0    0    0    0    0    0    0    0    0    0    6  128\n",
      "  213 1324 1361 7761]\n"
     ]
    }
   ],
   "source": [
    "reverse_word_index = dict([(value, key) for (key, value) in word_index.items()])\n",
    "\n",
    "def decode_review(text):\n",
    "    return ' '.join([reverse_word_index.get(i, '?') for i in text])\n",
    "\n",
    "print(decode_review(X_train[1]))\n",
    "print(X_train[1])"
   ]
  },
  {
   "cell_type": "code",
   "execution_count": 109,
   "metadata": {},
   "outputs": [],
   "source": [
    "import io\n",
    "\n",
    "out_v = io.open('vecs.tsv', 'w', encoding='utf-8')\n",
    "out_m = io.open('meta.tsv', 'w', encoding='utf-8')\n",
    "\n",
    "for word_num in range(1, len(reverse_word_index)):\n",
    "  word = reverse_word_index[word_num]\n",
    "  embeddings = weights[word_num]\n",
    "  out_m.write(word + \"\\n\")\n",
    "  out_v.write('\\t'.join([str(x) for x in embeddings]) + \"\\n\")\n",
    "out_v.close()\n",
    "out_m.close()"
   ]
  },
  {
   "cell_type": "code",
   "execution_count": 110,
   "metadata": {},
   "outputs": [],
   "source": [
    "\n",
    "\n",
    "try:\n",
    "  from google.colab import files\n",
    "except ImportError:\n",
    "  pass\n",
    "else:\n",
    "  files.download('vecs.tsv')\n",
    "  files.download('meta.tsv')"
   ]
  },
  {
   "cell_type": "code",
   "execution_count": 111,
   "metadata": {},
   "outputs": [
    {
     "name": "stdout",
     "output_type": "stream",
     "text": [
      "[[], [], [8300], [], [3459], [2524], [], [3951], [], [2971], [2971], [10519], [], [], [2524], [3284], [3284], [], [], [], [], [8300], [7968], [], [6650], [2524], [], [], [], [2524], [], [3990], [], [], [], [], []]\n"
     ]
    }
   ],
   "source": [
    "sentence = \"You’re gonna mess it up let me do it.\"\n",
    "sequence = tokenizer.texts_to_sequences(sentence)\n",
    "print(sequence)"
   ]
  },
  {
   "cell_type": "code",
   "execution_count": 112,
   "metadata": {},
   "outputs": [
    {
     "name": "stdout",
     "output_type": "stream",
     "text": [
      "Train on 80378 samples, validate on 8931 samples\n",
      "Epoch 1/10\n",
      "   64/80378 [..............................] - ETA: 27:09 - loss: 1.7920 - accuracy: 0.1875"
     ]
    },
    {
     "ename": "KeyboardInterrupt",
     "evalue": "",
     "output_type": "error",
     "traceback": [
      "\u001b[0;31m---------------------------------------------------------------------------\u001b[0m",
      "\u001b[0;31mKeyboardInterrupt\u001b[0m                         Traceback (most recent call last)",
      "\u001b[0;32m<ipython-input-112-12b394ecbae8>\u001b[0m in \u001b[0;36m<module>\u001b[0;34m\u001b[0m\n\u001b[1;32m     11\u001b[0m \u001b[0mbatch_size\u001b[0m \u001b[0;34m=\u001b[0m \u001b[0;36m64\u001b[0m\u001b[0;34m\u001b[0m\u001b[0;34m\u001b[0m\u001b[0m\n\u001b[1;32m     12\u001b[0m \u001b[0;34m\u001b[0m\u001b[0m\n\u001b[0;32m---> 13\u001b[0;31m \u001b[0mhistory\u001b[0m \u001b[0;34m=\u001b[0m \u001b[0mmodel\u001b[0m\u001b[0;34m.\u001b[0m\u001b[0mfit\u001b[0m\u001b[0;34m(\u001b[0m\u001b[0mX_train\u001b[0m\u001b[0;34m,\u001b[0m \u001b[0mY_train\u001b[0m\u001b[0;34m,\u001b[0m \u001b[0mepochs\u001b[0m\u001b[0;34m=\u001b[0m\u001b[0mepochs\u001b[0m\u001b[0;34m,\u001b[0m \u001b[0mbatch_size\u001b[0m\u001b[0;34m=\u001b[0m\u001b[0mbatch_size\u001b[0m\u001b[0;34m,\u001b[0m\u001b[0mvalidation_split\u001b[0m\u001b[0;34m=\u001b[0m\u001b[0;36m0.1\u001b[0m\u001b[0;34m,\u001b[0m\u001b[0mcallbacks\u001b[0m\u001b[0;34m=\u001b[0m\u001b[0;34m[\u001b[0m\u001b[0mEarlyStopping\u001b[0m\u001b[0;34m(\u001b[0m\u001b[0mmonitor\u001b[0m\u001b[0;34m=\u001b[0m\u001b[0;34m'val_loss'\u001b[0m\u001b[0;34m,\u001b[0m \u001b[0mpatience\u001b[0m\u001b[0;34m=\u001b[0m\u001b[0;36m3\u001b[0m\u001b[0;34m,\u001b[0m \u001b[0mmin_delta\u001b[0m\u001b[0;34m=\u001b[0m\u001b[0;36m0.0001\u001b[0m\u001b[0;34m)\u001b[0m\u001b[0;34m]\u001b[0m\u001b[0;34m)\u001b[0m\u001b[0;34m\u001b[0m\u001b[0;34m\u001b[0m\u001b[0m\n\u001b[0m",
      "\u001b[0;32m/usr/local/lib/python3.7/site-packages/tensorflow/python/keras/engine/training.py\u001b[0m in \u001b[0;36mfit\u001b[0;34m(self, x, y, batch_size, epochs, verbose, callbacks, validation_split, validation_data, shuffle, class_weight, sample_weight, initial_epoch, steps_per_epoch, validation_steps, validation_freq, max_queue_size, workers, use_multiprocessing, **kwargs)\u001b[0m\n\u001b[1;32m    641\u001b[0m         \u001b[0mmax_queue_size\u001b[0m\u001b[0;34m=\u001b[0m\u001b[0mmax_queue_size\u001b[0m\u001b[0;34m,\u001b[0m\u001b[0;34m\u001b[0m\u001b[0;34m\u001b[0m\u001b[0m\n\u001b[1;32m    642\u001b[0m         \u001b[0mworkers\u001b[0m\u001b[0;34m=\u001b[0m\u001b[0mworkers\u001b[0m\u001b[0;34m,\u001b[0m\u001b[0;34m\u001b[0m\u001b[0;34m\u001b[0m\u001b[0m\n\u001b[0;32m--> 643\u001b[0;31m         use_multiprocessing=use_multiprocessing)\n\u001b[0m\u001b[1;32m    644\u001b[0m \u001b[0;34m\u001b[0m\u001b[0m\n\u001b[1;32m    645\u001b[0m   def evaluate(self,\n",
      "\u001b[0;32m/usr/local/lib/python3.7/site-packages/tensorflow/python/keras/engine/training_arrays.py\u001b[0m in \u001b[0;36mfit\u001b[0;34m(self, model, x, y, batch_size, epochs, verbose, callbacks, validation_split, validation_data, shuffle, class_weight, sample_weight, initial_epoch, steps_per_epoch, validation_steps, validation_freq, **kwargs)\u001b[0m\n\u001b[1;32m    662\u001b[0m         \u001b[0mvalidation_steps\u001b[0m\u001b[0;34m=\u001b[0m\u001b[0mvalidation_steps\u001b[0m\u001b[0;34m,\u001b[0m\u001b[0;34m\u001b[0m\u001b[0;34m\u001b[0m\u001b[0m\n\u001b[1;32m    663\u001b[0m         \u001b[0mvalidation_freq\u001b[0m\u001b[0;34m=\u001b[0m\u001b[0mvalidation_freq\u001b[0m\u001b[0;34m,\u001b[0m\u001b[0;34m\u001b[0m\u001b[0;34m\u001b[0m\u001b[0m\n\u001b[0;32m--> 664\u001b[0;31m         steps_name='steps_per_epoch')\n\u001b[0m\u001b[1;32m    665\u001b[0m \u001b[0;34m\u001b[0m\u001b[0m\n\u001b[1;32m    666\u001b[0m   def evaluate(self,\n",
      "\u001b[0;32m/usr/local/lib/python3.7/site-packages/tensorflow/python/keras/engine/training_arrays.py\u001b[0m in \u001b[0;36mmodel_iteration\u001b[0;34m(model, inputs, targets, sample_weights, batch_size, epochs, verbose, callbacks, val_inputs, val_targets, val_sample_weights, shuffle, initial_epoch, steps_per_epoch, validation_steps, validation_freq, mode, validation_in_fit, prepared_feed_values_from_dataset, steps_name, **kwargs)\u001b[0m\n\u001b[1;32m    381\u001b[0m \u001b[0;34m\u001b[0m\u001b[0m\n\u001b[1;32m    382\u001b[0m         \u001b[0;31m# Get outputs.\u001b[0m\u001b[0;34m\u001b[0m\u001b[0;34m\u001b[0m\u001b[0;34m\u001b[0m\u001b[0m\n\u001b[0;32m--> 383\u001b[0;31m         \u001b[0mbatch_outs\u001b[0m \u001b[0;34m=\u001b[0m \u001b[0mf\u001b[0m\u001b[0;34m(\u001b[0m\u001b[0mins_batch\u001b[0m\u001b[0;34m)\u001b[0m\u001b[0;34m\u001b[0m\u001b[0;34m\u001b[0m\u001b[0m\n\u001b[0m\u001b[1;32m    384\u001b[0m         \u001b[0;32mif\u001b[0m \u001b[0;32mnot\u001b[0m \u001b[0misinstance\u001b[0m\u001b[0;34m(\u001b[0m\u001b[0mbatch_outs\u001b[0m\u001b[0;34m,\u001b[0m \u001b[0mlist\u001b[0m\u001b[0;34m)\u001b[0m\u001b[0;34m:\u001b[0m\u001b[0;34m\u001b[0m\u001b[0;34m\u001b[0m\u001b[0m\n\u001b[1;32m    385\u001b[0m           \u001b[0mbatch_outs\u001b[0m \u001b[0;34m=\u001b[0m \u001b[0;34m[\u001b[0m\u001b[0mbatch_outs\u001b[0m\u001b[0;34m]\u001b[0m\u001b[0;34m\u001b[0m\u001b[0;34m\u001b[0m\u001b[0m\n",
      "\u001b[0;32m/usr/local/lib/python3.7/site-packages/tensorflow/python/keras/backend.py\u001b[0m in \u001b[0;36m__call__\u001b[0;34m(self, inputs)\u001b[0m\n\u001b[1;32m   3508\u001b[0m         \u001b[0mvalue\u001b[0m \u001b[0;34m=\u001b[0m \u001b[0mmath_ops\u001b[0m\u001b[0;34m.\u001b[0m\u001b[0mcast\u001b[0m\u001b[0;34m(\u001b[0m\u001b[0mvalue\u001b[0m\u001b[0;34m,\u001b[0m \u001b[0mtensor\u001b[0m\u001b[0;34m.\u001b[0m\u001b[0mdtype\u001b[0m\u001b[0;34m)\u001b[0m\u001b[0;34m\u001b[0m\u001b[0;34m\u001b[0m\u001b[0m\n\u001b[1;32m   3509\u001b[0m       \u001b[0mconverted_inputs\u001b[0m\u001b[0;34m.\u001b[0m\u001b[0mappend\u001b[0m\u001b[0;34m(\u001b[0m\u001b[0mvalue\u001b[0m\u001b[0;34m)\u001b[0m\u001b[0;34m\u001b[0m\u001b[0;34m\u001b[0m\u001b[0m\n\u001b[0;32m-> 3510\u001b[0;31m     \u001b[0moutputs\u001b[0m \u001b[0;34m=\u001b[0m \u001b[0mself\u001b[0m\u001b[0;34m.\u001b[0m\u001b[0m_graph_fn\u001b[0m\u001b[0;34m(\u001b[0m\u001b[0;34m*\u001b[0m\u001b[0mconverted_inputs\u001b[0m\u001b[0;34m)\u001b[0m\u001b[0;34m\u001b[0m\u001b[0;34m\u001b[0m\u001b[0m\n\u001b[0m\u001b[1;32m   3511\u001b[0m \u001b[0;34m\u001b[0m\u001b[0m\n\u001b[1;32m   3512\u001b[0m     \u001b[0;31m# EagerTensor.numpy() will often make a copy to ensure memory safety.\u001b[0m\u001b[0;34m\u001b[0m\u001b[0;34m\u001b[0m\u001b[0;34m\u001b[0m\u001b[0m\n",
      "\u001b[0;32m/usr/local/lib/python3.7/site-packages/tensorflow/python/eager/function.py\u001b[0m in \u001b[0;36m__call__\u001b[0;34m(self, *args, **kwargs)\u001b[0m\n\u001b[1;32m    570\u001b[0m       raise TypeError(\"Keyword arguments {} unknown. Expected {}.\".format(\n\u001b[1;32m    571\u001b[0m           list(kwargs.keys()), list(self._arg_keywords)))\n\u001b[0;32m--> 572\u001b[0;31m     \u001b[0;32mreturn\u001b[0m \u001b[0mself\u001b[0m\u001b[0;34m.\u001b[0m\u001b[0m_call_flat\u001b[0m\u001b[0;34m(\u001b[0m\u001b[0margs\u001b[0m\u001b[0;34m)\u001b[0m\u001b[0;34m\u001b[0m\u001b[0;34m\u001b[0m\u001b[0m\n\u001b[0m\u001b[1;32m    573\u001b[0m \u001b[0;34m\u001b[0m\u001b[0m\n\u001b[1;32m    574\u001b[0m   \u001b[0;32mdef\u001b[0m \u001b[0m_filtered_call\u001b[0m\u001b[0;34m(\u001b[0m\u001b[0mself\u001b[0m\u001b[0;34m,\u001b[0m \u001b[0margs\u001b[0m\u001b[0;34m,\u001b[0m \u001b[0mkwargs\u001b[0m\u001b[0;34m)\u001b[0m\u001b[0;34m:\u001b[0m\u001b[0;34m\u001b[0m\u001b[0;34m\u001b[0m\u001b[0m\n",
      "\u001b[0;32m/usr/local/lib/python3.7/site-packages/tensorflow/python/eager/function.py\u001b[0m in \u001b[0;36m_call_flat\u001b[0;34m(self, args)\u001b[0m\n\u001b[1;32m    669\u001b[0m     \u001b[0;31m# Only need to override the gradient in graph mode and when we have outputs.\u001b[0m\u001b[0;34m\u001b[0m\u001b[0;34m\u001b[0m\u001b[0;34m\u001b[0m\u001b[0m\n\u001b[1;32m    670\u001b[0m     \u001b[0;32mif\u001b[0m \u001b[0mcontext\u001b[0m\u001b[0;34m.\u001b[0m\u001b[0mexecuting_eagerly\u001b[0m\u001b[0;34m(\u001b[0m\u001b[0;34m)\u001b[0m \u001b[0;32mor\u001b[0m \u001b[0;32mnot\u001b[0m \u001b[0mself\u001b[0m\u001b[0;34m.\u001b[0m\u001b[0moutputs\u001b[0m\u001b[0;34m:\u001b[0m\u001b[0;34m\u001b[0m\u001b[0;34m\u001b[0m\u001b[0m\n\u001b[0;32m--> 671\u001b[0;31m       \u001b[0moutputs\u001b[0m \u001b[0;34m=\u001b[0m \u001b[0mself\u001b[0m\u001b[0;34m.\u001b[0m\u001b[0m_inference_function\u001b[0m\u001b[0;34m.\u001b[0m\u001b[0mcall\u001b[0m\u001b[0;34m(\u001b[0m\u001b[0mctx\u001b[0m\u001b[0;34m,\u001b[0m \u001b[0margs\u001b[0m\u001b[0;34m)\u001b[0m\u001b[0;34m\u001b[0m\u001b[0;34m\u001b[0m\u001b[0m\n\u001b[0m\u001b[1;32m    672\u001b[0m     \u001b[0;32melse\u001b[0m\u001b[0;34m:\u001b[0m\u001b[0;34m\u001b[0m\u001b[0;34m\u001b[0m\u001b[0m\n\u001b[1;32m    673\u001b[0m       \u001b[0mself\u001b[0m\u001b[0;34m.\u001b[0m\u001b[0m_register_gradient\u001b[0m\u001b[0;34m(\u001b[0m\u001b[0;34m)\u001b[0m\u001b[0;34m\u001b[0m\u001b[0;34m\u001b[0m\u001b[0m\n",
      "\u001b[0;32m/usr/local/lib/python3.7/site-packages/tensorflow/python/eager/function.py\u001b[0m in \u001b[0;36mcall\u001b[0;34m(self, ctx, args)\u001b[0m\n\u001b[1;32m    443\u001b[0m             attrs=(\"executor_type\", executor_type,\n\u001b[1;32m    444\u001b[0m                    \"config_proto\", config),\n\u001b[0;32m--> 445\u001b[0;31m             ctx=ctx)\n\u001b[0m\u001b[1;32m    446\u001b[0m       \u001b[0;31m# Replace empty list with None\u001b[0m\u001b[0;34m\u001b[0m\u001b[0;34m\u001b[0m\u001b[0;34m\u001b[0m\u001b[0m\n\u001b[1;32m    447\u001b[0m       \u001b[0moutputs\u001b[0m \u001b[0;34m=\u001b[0m \u001b[0moutputs\u001b[0m \u001b[0;32mor\u001b[0m \u001b[0;32mNone\u001b[0m\u001b[0;34m\u001b[0m\u001b[0;34m\u001b[0m\u001b[0m\n",
      "\u001b[0;32m/usr/local/lib/python3.7/site-packages/tensorflow/python/eager/execute.py\u001b[0m in \u001b[0;36mquick_execute\u001b[0;34m(op_name, num_outputs, inputs, attrs, ctx, name)\u001b[0m\n\u001b[1;32m     59\u001b[0m     tensors = pywrap_tensorflow.TFE_Py_Execute(ctx._handle, device_name,\n\u001b[1;32m     60\u001b[0m                                                \u001b[0mop_name\u001b[0m\u001b[0;34m,\u001b[0m \u001b[0minputs\u001b[0m\u001b[0;34m,\u001b[0m \u001b[0mattrs\u001b[0m\u001b[0;34m,\u001b[0m\u001b[0;34m\u001b[0m\u001b[0;34m\u001b[0m\u001b[0m\n\u001b[0;32m---> 61\u001b[0;31m                                                num_outputs)\n\u001b[0m\u001b[1;32m     62\u001b[0m   \u001b[0;32mexcept\u001b[0m \u001b[0mcore\u001b[0m\u001b[0;34m.\u001b[0m\u001b[0m_NotOkStatusException\u001b[0m \u001b[0;32mas\u001b[0m \u001b[0me\u001b[0m\u001b[0;34m:\u001b[0m\u001b[0;34m\u001b[0m\u001b[0;34m\u001b[0m\u001b[0m\n\u001b[1;32m     63\u001b[0m     \u001b[0;32mif\u001b[0m \u001b[0mname\u001b[0m \u001b[0;32mis\u001b[0m \u001b[0;32mnot\u001b[0m \u001b[0;32mNone\u001b[0m\u001b[0;34m:\u001b[0m\u001b[0;34m\u001b[0m\u001b[0;34m\u001b[0m\u001b[0m\n",
      "\u001b[0;31mKeyboardInterrupt\u001b[0m: "
     ]
    }
   ],
   "source": [
    "from tensorflow.keras.callbacks import EarlyStopping\n",
    "\n",
    "model = tf.keras.Sequential()\n",
    "model.add(tf.keras.layers.Embedding(MAX_NB_WORDS, EMBEDDING_DIM, input_length=X.shape[1]))\n",
    "model.add(tf.keras.layers.SpatialDropout1D(0.2))\n",
    "model.add(tf.keras.layers.LSTM(500, dropout=0.2, recurrent_dropout=0.2))\n",
    "model.add(tf.keras.layers.Dense(6, activation='softmax'))\n",
    "model.compile(loss='categorical_crossentropy', optimizer='adam', metrics=['accuracy'])\n",
    "\n",
    "epochs = 10\n",
    "batch_size = 64\n",
    "\n",
    "history = model.fit(X_train, Y_train, epochs=epochs, batch_size=batch_size,validation_split=0.1,callbacks=[EarlyStopping(monitor='val_loss', patience=3, min_delta=0.0001)])"
   ]
  },
  {
   "cell_type": "code",
   "execution_count": 23,
   "metadata": {},
   "outputs": [
    {
     "name": "stdout",
     "output_type": "stream",
     "text": [
      "\u001b[1mDownloading and preparing dataset imdb_reviews (80.23 MiB) to /Users/shilpibhattacharyya/tensorflow_datasets/imdb_reviews/subwords8k/0.1.0...\u001b[0m\n"
     ]
    },
    {
     "data": {
      "application/vnd.jupyter.widget-view+json": {
       "model_id": "e235b691339644149430b00a83968978",
       "version_major": 2,
       "version_minor": 0
      },
      "text/plain": [
       "HBox(children=(IntProgress(value=1, bar_style='info', description='Dl Completed...', max=1, style=ProgressStyl…"
      ]
     },
     "metadata": {},
     "output_type": "display_data"
    },
    {
     "data": {
      "application/vnd.jupyter.widget-view+json": {
       "model_id": "4894105ce26b49ca9f35917b204e6394",
       "version_major": 2,
       "version_minor": 0
      },
      "text/plain": [
       "HBox(children=(IntProgress(value=1, bar_style='info', description='Dl Size...', max=1, style=ProgressStyle(des…"
      ]
     },
     "metadata": {},
     "output_type": "display_data"
    },
    {
     "name": "stdout",
     "output_type": "stream",
     "text": [
      "\n",
      "\n",
      "\n"
     ]
    },
    {
     "data": {
      "application/vnd.jupyter.widget-view+json": {
       "model_id": "",
       "version_major": 2,
       "version_minor": 0
      },
      "text/plain": [
       "HBox(children=(IntProgress(value=1, bar_style='info', max=1), HTML(value='')))"
      ]
     },
     "metadata": {},
     "output_type": "display_data"
    },
    {
     "name": "stdout",
     "output_type": "stream",
     "text": [
      "\r"
     ]
    },
    {
     "data": {
      "application/vnd.jupyter.widget-view+json": {
       "model_id": "",
       "version_major": 2,
       "version_minor": 0
      },
      "text/plain": [
       "HBox(children=(IntProgress(value=0, description='Shuffling...', max=10, style=ProgressStyle(description_width=…"
      ]
     },
     "metadata": {},
     "output_type": "display_data"
    },
    {
     "name": "stderr",
     "output_type": "stream",
     "text": [
      "W0808 18:39:12.800315 140735902892928 deprecation.py:323] From /usr/local/lib/python3.7/site-packages/tensorflow_datasets/core/file_format_adapter.py:209: tf_record_iterator (from tensorflow.python.lib.io.tf_record) is deprecated and will be removed in a future version.\n",
      "Instructions for updating:\n",
      "Use eager execution and: \n",
      "`tf.data.TFRecordDataset(path)`\n"
     ]
    },
    {
     "data": {
      "application/vnd.jupyter.widget-view+json": {
       "model_id": "",
       "version_major": 2,
       "version_minor": 0
      },
      "text/plain": [
       "HBox(children=(IntProgress(value=1, bar_style='info', description='Reading...', max=1, style=ProgressStyle(des…"
      ]
     },
     "metadata": {},
     "output_type": "display_data"
    },
    {
     "data": {
      "application/vnd.jupyter.widget-view+json": {
       "model_id": "",
       "version_major": 2,
       "version_minor": 0
      },
      "text/plain": [
       "HBox(children=(IntProgress(value=0, description='Writing...', max=2500, style=ProgressStyle(description_width=…"
      ]
     },
     "metadata": {},
     "output_type": "display_data"
    },
    {
     "data": {
      "application/vnd.jupyter.widget-view+json": {
       "model_id": "",
       "version_major": 2,
       "version_minor": 0
      },
      "text/plain": [
       "HBox(children=(IntProgress(value=1, bar_style='info', description='Reading...', max=1, style=ProgressStyle(des…"
      ]
     },
     "metadata": {},
     "output_type": "display_data"
    },
    {
     "data": {
      "application/vnd.jupyter.widget-view+json": {
       "model_id": "",
       "version_major": 2,
       "version_minor": 0
      },
      "text/plain": [
       "HBox(children=(IntProgress(value=0, description='Writing...', max=2500, style=ProgressStyle(description_width=…"
      ]
     },
     "metadata": {},
     "output_type": "display_data"
    },
    {
     "data": {
      "application/vnd.jupyter.widget-view+json": {
       "model_id": "",
       "version_major": 2,
       "version_minor": 0
      },
      "text/plain": [
       "HBox(children=(IntProgress(value=1, bar_style='info', description='Reading...', max=1, style=ProgressStyle(des…"
      ]
     },
     "metadata": {},
     "output_type": "display_data"
    },
    {
     "data": {
      "application/vnd.jupyter.widget-view+json": {
       "model_id": "",
       "version_major": 2,
       "version_minor": 0
      },
      "text/plain": [
       "HBox(children=(IntProgress(value=0, description='Writing...', max=2500, style=ProgressStyle(description_width=…"
      ]
     },
     "metadata": {},
     "output_type": "display_data"
    },
    {
     "data": {
      "application/vnd.jupyter.widget-view+json": {
       "model_id": "",
       "version_major": 2,
       "version_minor": 0
      },
      "text/plain": [
       "HBox(children=(IntProgress(value=1, bar_style='info', description='Reading...', max=1, style=ProgressStyle(des…"
      ]
     },
     "metadata": {},
     "output_type": "display_data"
    },
    {
     "data": {
      "application/vnd.jupyter.widget-view+json": {
       "model_id": "",
       "version_major": 2,
       "version_minor": 0
      },
      "text/plain": [
       "HBox(children=(IntProgress(value=0, description='Writing...', max=2500, style=ProgressStyle(description_width=…"
      ]
     },
     "metadata": {},
     "output_type": "display_data"
    },
    {
     "data": {
      "application/vnd.jupyter.widget-view+json": {
       "model_id": "",
       "version_major": 2,
       "version_minor": 0
      },
      "text/plain": [
       "HBox(children=(IntProgress(value=1, bar_style='info', description='Reading...', max=1, style=ProgressStyle(des…"
      ]
     },
     "metadata": {},
     "output_type": "display_data"
    },
    {
     "data": {
      "application/vnd.jupyter.widget-view+json": {
       "model_id": "",
       "version_major": 2,
       "version_minor": 0
      },
      "text/plain": [
       "HBox(children=(IntProgress(value=0, description='Writing...', max=2500, style=ProgressStyle(description_width=…"
      ]
     },
     "metadata": {},
     "output_type": "display_data"
    },
    {
     "data": {
      "application/vnd.jupyter.widget-view+json": {
       "model_id": "",
       "version_major": 2,
       "version_minor": 0
      },
      "text/plain": [
       "HBox(children=(IntProgress(value=1, bar_style='info', description='Reading...', max=1, style=ProgressStyle(des…"
      ]
     },
     "metadata": {},
     "output_type": "display_data"
    },
    {
     "data": {
      "application/vnd.jupyter.widget-view+json": {
       "model_id": "",
       "version_major": 2,
       "version_minor": 0
      },
      "text/plain": [
       "HBox(children=(IntProgress(value=0, description='Writing...', max=2500, style=ProgressStyle(description_width=…"
      ]
     },
     "metadata": {},
     "output_type": "display_data"
    },
    {
     "data": {
      "application/vnd.jupyter.widget-view+json": {
       "model_id": "",
       "version_major": 2,
       "version_minor": 0
      },
      "text/plain": [
       "HBox(children=(IntProgress(value=1, bar_style='info', description='Reading...', max=1, style=ProgressStyle(des…"
      ]
     },
     "metadata": {},
     "output_type": "display_data"
    },
    {
     "data": {
      "application/vnd.jupyter.widget-view+json": {
       "model_id": "",
       "version_major": 2,
       "version_minor": 0
      },
      "text/plain": [
       "HBox(children=(IntProgress(value=0, description='Writing...', max=2500, style=ProgressStyle(description_width=…"
      ]
     },
     "metadata": {},
     "output_type": "display_data"
    },
    {
     "data": {
      "application/vnd.jupyter.widget-view+json": {
       "model_id": "",
       "version_major": 2,
       "version_minor": 0
      },
      "text/plain": [
       "HBox(children=(IntProgress(value=1, bar_style='info', description='Reading...', max=1, style=ProgressStyle(des…"
      ]
     },
     "metadata": {},
     "output_type": "display_data"
    },
    {
     "data": {
      "application/vnd.jupyter.widget-view+json": {
       "model_id": "",
       "version_major": 2,
       "version_minor": 0
      },
      "text/plain": [
       "HBox(children=(IntProgress(value=0, description='Writing...', max=2500, style=ProgressStyle(description_width=…"
      ]
     },
     "metadata": {},
     "output_type": "display_data"
    },
    {
     "data": {
      "application/vnd.jupyter.widget-view+json": {
       "model_id": "",
       "version_major": 2,
       "version_minor": 0
      },
      "text/plain": [
       "HBox(children=(IntProgress(value=1, bar_style='info', description='Reading...', max=1, style=ProgressStyle(des…"
      ]
     },
     "metadata": {},
     "output_type": "display_data"
    },
    {
     "data": {
      "application/vnd.jupyter.widget-view+json": {
       "model_id": "",
       "version_major": 2,
       "version_minor": 0
      },
      "text/plain": [
       "HBox(children=(IntProgress(value=0, description='Writing...', max=2500, style=ProgressStyle(description_width=…"
      ]
     },
     "metadata": {},
     "output_type": "display_data"
    },
    {
     "data": {
      "application/vnd.jupyter.widget-view+json": {
       "model_id": "",
       "version_major": 2,
       "version_minor": 0
      },
      "text/plain": [
       "HBox(children=(IntProgress(value=1, bar_style='info', description='Reading...', max=1, style=ProgressStyle(des…"
      ]
     },
     "metadata": {},
     "output_type": "display_data"
    },
    {
     "data": {
      "application/vnd.jupyter.widget-view+json": {
       "model_id": "",
       "version_major": 2,
       "version_minor": 0
      },
      "text/plain": [
       "HBox(children=(IntProgress(value=0, description='Writing...', max=2500, style=ProgressStyle(description_width=…"
      ]
     },
     "metadata": {},
     "output_type": "display_data"
    },
    {
     "name": "stdout",
     "output_type": "stream",
     "text": [
      "\r"
     ]
    },
    {
     "data": {
      "application/vnd.jupyter.widget-view+json": {
       "model_id": "",
       "version_major": 2,
       "version_minor": 0
      },
      "text/plain": [
       "HBox(children=(IntProgress(value=1, bar_style='info', max=1), HTML(value='')))"
      ]
     },
     "metadata": {},
     "output_type": "display_data"
    },
    {
     "name": "stdout",
     "output_type": "stream",
     "text": [
      "\r"
     ]
    },
    {
     "data": {
      "application/vnd.jupyter.widget-view+json": {
       "model_id": "",
       "version_major": 2,
       "version_minor": 0
      },
      "text/plain": [
       "HBox(children=(IntProgress(value=0, description='Shuffling...', max=10, style=ProgressStyle(description_width=…"
      ]
     },
     "metadata": {},
     "output_type": "display_data"
    },
    {
     "data": {
      "application/vnd.jupyter.widget-view+json": {
       "model_id": "",
       "version_major": 2,
       "version_minor": 0
      },
      "text/plain": [
       "HBox(children=(IntProgress(value=1, bar_style='info', description='Reading...', max=1, style=ProgressStyle(des…"
      ]
     },
     "metadata": {},
     "output_type": "display_data"
    },
    {
     "data": {
      "application/vnd.jupyter.widget-view+json": {
       "model_id": "",
       "version_major": 2,
       "version_minor": 0
      },
      "text/plain": [
       "HBox(children=(IntProgress(value=0, description='Writing...', max=2500, style=ProgressStyle(description_width=…"
      ]
     },
     "metadata": {},
     "output_type": "display_data"
    },
    {
     "data": {
      "application/vnd.jupyter.widget-view+json": {
       "model_id": "",
       "version_major": 2,
       "version_minor": 0
      },
      "text/plain": [
       "HBox(children=(IntProgress(value=1, bar_style='info', description='Reading...', max=1, style=ProgressStyle(des…"
      ]
     },
     "metadata": {},
     "output_type": "display_data"
    },
    {
     "data": {
      "application/vnd.jupyter.widget-view+json": {
       "model_id": "",
       "version_major": 2,
       "version_minor": 0
      },
      "text/plain": [
       "HBox(children=(IntProgress(value=0, description='Writing...', max=2500, style=ProgressStyle(description_width=…"
      ]
     },
     "metadata": {},
     "output_type": "display_data"
    },
    {
     "data": {
      "application/vnd.jupyter.widget-view+json": {
       "model_id": "",
       "version_major": 2,
       "version_minor": 0
      },
      "text/plain": [
       "HBox(children=(IntProgress(value=1, bar_style='info', description='Reading...', max=1, style=ProgressStyle(des…"
      ]
     },
     "metadata": {},
     "output_type": "display_data"
    },
    {
     "data": {
      "application/vnd.jupyter.widget-view+json": {
       "model_id": "",
       "version_major": 2,
       "version_minor": 0
      },
      "text/plain": [
       "HBox(children=(IntProgress(value=0, description='Writing...', max=2500, style=ProgressStyle(description_width=…"
      ]
     },
     "metadata": {},
     "output_type": "display_data"
    },
    {
     "data": {
      "application/vnd.jupyter.widget-view+json": {
       "model_id": "",
       "version_major": 2,
       "version_minor": 0
      },
      "text/plain": [
       "HBox(children=(IntProgress(value=1, bar_style='info', description='Reading...', max=1, style=ProgressStyle(des…"
      ]
     },
     "metadata": {},
     "output_type": "display_data"
    },
    {
     "data": {
      "application/vnd.jupyter.widget-view+json": {
       "model_id": "",
       "version_major": 2,
       "version_minor": 0
      },
      "text/plain": [
       "HBox(children=(IntProgress(value=0, description='Writing...', max=2500, style=ProgressStyle(description_width=…"
      ]
     },
     "metadata": {},
     "output_type": "display_data"
    },
    {
     "data": {
      "application/vnd.jupyter.widget-view+json": {
       "model_id": "",
       "version_major": 2,
       "version_minor": 0
      },
      "text/plain": [
       "HBox(children=(IntProgress(value=1, bar_style='info', description='Reading...', max=1, style=ProgressStyle(des…"
      ]
     },
     "metadata": {},
     "output_type": "display_data"
    },
    {
     "data": {
      "application/vnd.jupyter.widget-view+json": {
       "model_id": "",
       "version_major": 2,
       "version_minor": 0
      },
      "text/plain": [
       "HBox(children=(IntProgress(value=0, description='Writing...', max=2500, style=ProgressStyle(description_width=…"
      ]
     },
     "metadata": {},
     "output_type": "display_data"
    },
    {
     "data": {
      "application/vnd.jupyter.widget-view+json": {
       "model_id": "",
       "version_major": 2,
       "version_minor": 0
      },
      "text/plain": [
       "HBox(children=(IntProgress(value=1, bar_style='info', description='Reading...', max=1, style=ProgressStyle(des…"
      ]
     },
     "metadata": {},
     "output_type": "display_data"
    },
    {
     "data": {
      "application/vnd.jupyter.widget-view+json": {
       "model_id": "",
       "version_major": 2,
       "version_minor": 0
      },
      "text/plain": [
       "HBox(children=(IntProgress(value=0, description='Writing...', max=2500, style=ProgressStyle(description_width=…"
      ]
     },
     "metadata": {},
     "output_type": "display_data"
    },
    {
     "data": {
      "application/vnd.jupyter.widget-view+json": {
       "model_id": "",
       "version_major": 2,
       "version_minor": 0
      },
      "text/plain": [
       "HBox(children=(IntProgress(value=1, bar_style='info', description='Reading...', max=1, style=ProgressStyle(des…"
      ]
     },
     "metadata": {},
     "output_type": "display_data"
    },
    {
     "data": {
      "application/vnd.jupyter.widget-view+json": {
       "model_id": "",
       "version_major": 2,
       "version_minor": 0
      },
      "text/plain": [
       "HBox(children=(IntProgress(value=0, description='Writing...', max=2500, style=ProgressStyle(description_width=…"
      ]
     },
     "metadata": {},
     "output_type": "display_data"
    },
    {
     "data": {
      "application/vnd.jupyter.widget-view+json": {
       "model_id": "",
       "version_major": 2,
       "version_minor": 0
      },
      "text/plain": [
       "HBox(children=(IntProgress(value=1, bar_style='info', description='Reading...', max=1, style=ProgressStyle(des…"
      ]
     },
     "metadata": {},
     "output_type": "display_data"
    },
    {
     "data": {
      "application/vnd.jupyter.widget-view+json": {
       "model_id": "",
       "version_major": 2,
       "version_minor": 0
      },
      "text/plain": [
       "HBox(children=(IntProgress(value=0, description='Writing...', max=2500, style=ProgressStyle(description_width=…"
      ]
     },
     "metadata": {},
     "output_type": "display_data"
    },
    {
     "data": {
      "application/vnd.jupyter.widget-view+json": {
       "model_id": "",
       "version_major": 2,
       "version_minor": 0
      },
      "text/plain": [
       "HBox(children=(IntProgress(value=1, bar_style='info', description='Reading...', max=1, style=ProgressStyle(des…"
      ]
     },
     "metadata": {},
     "output_type": "display_data"
    },
    {
     "data": {
      "application/vnd.jupyter.widget-view+json": {
       "model_id": "",
       "version_major": 2,
       "version_minor": 0
      },
      "text/plain": [
       "HBox(children=(IntProgress(value=0, description='Writing...', max=2500, style=ProgressStyle(description_width=…"
      ]
     },
     "metadata": {},
     "output_type": "display_data"
    },
    {
     "data": {
      "application/vnd.jupyter.widget-view+json": {
       "model_id": "",
       "version_major": 2,
       "version_minor": 0
      },
      "text/plain": [
       "HBox(children=(IntProgress(value=1, bar_style='info', description='Reading...', max=1, style=ProgressStyle(des…"
      ]
     },
     "metadata": {},
     "output_type": "display_data"
    },
    {
     "data": {
      "application/vnd.jupyter.widget-view+json": {
       "model_id": "",
       "version_major": 2,
       "version_minor": 0
      },
      "text/plain": [
       "HBox(children=(IntProgress(value=0, description='Writing...', max=2500, style=ProgressStyle(description_width=…"
      ]
     },
     "metadata": {},
     "output_type": "display_data"
    },
    {
     "name": "stdout",
     "output_type": "stream",
     "text": [
      "\r"
     ]
    },
    {
     "data": {
      "application/vnd.jupyter.widget-view+json": {
       "model_id": "",
       "version_major": 2,
       "version_minor": 0
      },
      "text/plain": [
       "HBox(children=(IntProgress(value=1, bar_style='info', max=1), HTML(value='')))"
      ]
     },
     "metadata": {},
     "output_type": "display_data"
    },
    {
     "name": "stdout",
     "output_type": "stream",
     "text": [
      "\r"
     ]
    },
    {
     "data": {
      "application/vnd.jupyter.widget-view+json": {
       "model_id": "",
       "version_major": 2,
       "version_minor": 0
      },
      "text/plain": [
       "HBox(children=(IntProgress(value=0, description='Shuffling...', max=20, style=ProgressStyle(description_width=…"
      ]
     },
     "metadata": {},
     "output_type": "display_data"
    },
    {
     "data": {
      "application/vnd.jupyter.widget-view+json": {
       "model_id": "",
       "version_major": 2,
       "version_minor": 0
      },
      "text/plain": [
       "HBox(children=(IntProgress(value=1, bar_style='info', description='Reading...', max=1, style=ProgressStyle(des…"
      ]
     },
     "metadata": {},
     "output_type": "display_data"
    },
    {
     "data": {
      "application/vnd.jupyter.widget-view+json": {
       "model_id": "",
       "version_major": 2,
       "version_minor": 0
      },
      "text/plain": [
       "HBox(children=(IntProgress(value=0, description='Writing...', max=2500, style=ProgressStyle(description_width=…"
      ]
     },
     "metadata": {},
     "output_type": "display_data"
    },
    {
     "data": {
      "application/vnd.jupyter.widget-view+json": {
       "model_id": "",
       "version_major": 2,
       "version_minor": 0
      },
      "text/plain": [
       "HBox(children=(IntProgress(value=1, bar_style='info', description='Reading...', max=1, style=ProgressStyle(des…"
      ]
     },
     "metadata": {},
     "output_type": "display_data"
    },
    {
     "data": {
      "application/vnd.jupyter.widget-view+json": {
       "model_id": "",
       "version_major": 2,
       "version_minor": 0
      },
      "text/plain": [
       "HBox(children=(IntProgress(value=0, description='Writing...', max=2500, style=ProgressStyle(description_width=…"
      ]
     },
     "metadata": {},
     "output_type": "display_data"
    },
    {
     "data": {
      "application/vnd.jupyter.widget-view+json": {
       "model_id": "",
       "version_major": 2,
       "version_minor": 0
      },
      "text/plain": [
       "HBox(children=(IntProgress(value=1, bar_style='info', description='Reading...', max=1, style=ProgressStyle(des…"
      ]
     },
     "metadata": {},
     "output_type": "display_data"
    },
    {
     "data": {
      "application/vnd.jupyter.widget-view+json": {
       "model_id": "",
       "version_major": 2,
       "version_minor": 0
      },
      "text/plain": [
       "HBox(children=(IntProgress(value=0, description='Writing...', max=2500, style=ProgressStyle(description_width=…"
      ]
     },
     "metadata": {},
     "output_type": "display_data"
    },
    {
     "data": {
      "application/vnd.jupyter.widget-view+json": {
       "model_id": "",
       "version_major": 2,
       "version_minor": 0
      },
      "text/plain": [
       "HBox(children=(IntProgress(value=1, bar_style='info', description='Reading...', max=1, style=ProgressStyle(des…"
      ]
     },
     "metadata": {},
     "output_type": "display_data"
    },
    {
     "data": {
      "application/vnd.jupyter.widget-view+json": {
       "model_id": "",
       "version_major": 2,
       "version_minor": 0
      },
      "text/plain": [
       "HBox(children=(IntProgress(value=0, description='Writing...', max=2500, style=ProgressStyle(description_width=…"
      ]
     },
     "metadata": {},
     "output_type": "display_data"
    },
    {
     "data": {
      "application/vnd.jupyter.widget-view+json": {
       "model_id": "",
       "version_major": 2,
       "version_minor": 0
      },
      "text/plain": [
       "HBox(children=(IntProgress(value=1, bar_style='info', description='Reading...', max=1, style=ProgressStyle(des…"
      ]
     },
     "metadata": {},
     "output_type": "display_data"
    },
    {
     "data": {
      "application/vnd.jupyter.widget-view+json": {
       "model_id": "",
       "version_major": 2,
       "version_minor": 0
      },
      "text/plain": [
       "HBox(children=(IntProgress(value=0, description='Writing...', max=2500, style=ProgressStyle(description_width=…"
      ]
     },
     "metadata": {},
     "output_type": "display_data"
    },
    {
     "data": {
      "application/vnd.jupyter.widget-view+json": {
       "model_id": "",
       "version_major": 2,
       "version_minor": 0
      },
      "text/plain": [
       "HBox(children=(IntProgress(value=1, bar_style='info', description='Reading...', max=1, style=ProgressStyle(des…"
      ]
     },
     "metadata": {},
     "output_type": "display_data"
    },
    {
     "data": {
      "application/vnd.jupyter.widget-view+json": {
       "model_id": "",
       "version_major": 2,
       "version_minor": 0
      },
      "text/plain": [
       "HBox(children=(IntProgress(value=0, description='Writing...', max=2500, style=ProgressStyle(description_width=…"
      ]
     },
     "metadata": {},
     "output_type": "display_data"
    },
    {
     "data": {
      "application/vnd.jupyter.widget-view+json": {
       "model_id": "",
       "version_major": 2,
       "version_minor": 0
      },
      "text/plain": [
       "HBox(children=(IntProgress(value=1, bar_style='info', description='Reading...', max=1, style=ProgressStyle(des…"
      ]
     },
     "metadata": {},
     "output_type": "display_data"
    },
    {
     "data": {
      "application/vnd.jupyter.widget-view+json": {
       "model_id": "",
       "version_major": 2,
       "version_minor": 0
      },
      "text/plain": [
       "HBox(children=(IntProgress(value=0, description='Writing...', max=2500, style=ProgressStyle(description_width=…"
      ]
     },
     "metadata": {},
     "output_type": "display_data"
    },
    {
     "data": {
      "application/vnd.jupyter.widget-view+json": {
       "model_id": "",
       "version_major": 2,
       "version_minor": 0
      },
      "text/plain": [
       "HBox(children=(IntProgress(value=1, bar_style='info', description='Reading...', max=1, style=ProgressStyle(des…"
      ]
     },
     "metadata": {},
     "output_type": "display_data"
    },
    {
     "data": {
      "application/vnd.jupyter.widget-view+json": {
       "model_id": "",
       "version_major": 2,
       "version_minor": 0
      },
      "text/plain": [
       "HBox(children=(IntProgress(value=0, description='Writing...', max=2500, style=ProgressStyle(description_width=…"
      ]
     },
     "metadata": {},
     "output_type": "display_data"
    },
    {
     "data": {
      "application/vnd.jupyter.widget-view+json": {
       "model_id": "",
       "version_major": 2,
       "version_minor": 0
      },
      "text/plain": [
       "HBox(children=(IntProgress(value=1, bar_style='info', description='Reading...', max=1, style=ProgressStyle(des…"
      ]
     },
     "metadata": {},
     "output_type": "display_data"
    },
    {
     "data": {
      "application/vnd.jupyter.widget-view+json": {
       "model_id": "",
       "version_major": 2,
       "version_minor": 0
      },
      "text/plain": [
       "HBox(children=(IntProgress(value=0, description='Writing...', max=2500, style=ProgressStyle(description_width=…"
      ]
     },
     "metadata": {},
     "output_type": "display_data"
    },
    {
     "data": {
      "application/vnd.jupyter.widget-view+json": {
       "model_id": "",
       "version_major": 2,
       "version_minor": 0
      },
      "text/plain": [
       "HBox(children=(IntProgress(value=1, bar_style='info', description='Reading...', max=1, style=ProgressStyle(des…"
      ]
     },
     "metadata": {},
     "output_type": "display_data"
    },
    {
     "data": {
      "application/vnd.jupyter.widget-view+json": {
       "model_id": "",
       "version_major": 2,
       "version_minor": 0
      },
      "text/plain": [
       "HBox(children=(IntProgress(value=0, description='Writing...', max=2500, style=ProgressStyle(description_width=…"
      ]
     },
     "metadata": {},
     "output_type": "display_data"
    },
    {
     "data": {
      "application/vnd.jupyter.widget-view+json": {
       "model_id": "",
       "version_major": 2,
       "version_minor": 0
      },
      "text/plain": [
       "HBox(children=(IntProgress(value=1, bar_style='info', description='Reading...', max=1, style=ProgressStyle(des…"
      ]
     },
     "metadata": {},
     "output_type": "display_data"
    },
    {
     "data": {
      "application/vnd.jupyter.widget-view+json": {
       "model_id": "",
       "version_major": 2,
       "version_minor": 0
      },
      "text/plain": [
       "HBox(children=(IntProgress(value=0, description='Writing...', max=2500, style=ProgressStyle(description_width=…"
      ]
     },
     "metadata": {},
     "output_type": "display_data"
    },
    {
     "data": {
      "application/vnd.jupyter.widget-view+json": {
       "model_id": "",
       "version_major": 2,
       "version_minor": 0
      },
      "text/plain": [
       "HBox(children=(IntProgress(value=1, bar_style='info', description='Reading...', max=1, style=ProgressStyle(des…"
      ]
     },
     "metadata": {},
     "output_type": "display_data"
    },
    {
     "data": {
      "application/vnd.jupyter.widget-view+json": {
       "model_id": "",
       "version_major": 2,
       "version_minor": 0
      },
      "text/plain": [
       "HBox(children=(IntProgress(value=0, description='Writing...', max=2500, style=ProgressStyle(description_width=…"
      ]
     },
     "metadata": {},
     "output_type": "display_data"
    },
    {
     "data": {
      "application/vnd.jupyter.widget-view+json": {
       "model_id": "",
       "version_major": 2,
       "version_minor": 0
      },
      "text/plain": [
       "HBox(children=(IntProgress(value=1, bar_style='info', description='Reading...', max=1, style=ProgressStyle(des…"
      ]
     },
     "metadata": {},
     "output_type": "display_data"
    },
    {
     "data": {
      "application/vnd.jupyter.widget-view+json": {
       "model_id": "",
       "version_major": 2,
       "version_minor": 0
      },
      "text/plain": [
       "HBox(children=(IntProgress(value=0, description='Writing...', max=2500, style=ProgressStyle(description_width=…"
      ]
     },
     "metadata": {},
     "output_type": "display_data"
    },
    {
     "data": {
      "application/vnd.jupyter.widget-view+json": {
       "model_id": "",
       "version_major": 2,
       "version_minor": 0
      },
      "text/plain": [
       "HBox(children=(IntProgress(value=1, bar_style='info', description='Reading...', max=1, style=ProgressStyle(des…"
      ]
     },
     "metadata": {},
     "output_type": "display_data"
    },
    {
     "data": {
      "application/vnd.jupyter.widget-view+json": {
       "model_id": "",
       "version_major": 2,
       "version_minor": 0
      },
      "text/plain": [
       "HBox(children=(IntProgress(value=0, description='Writing...', max=2500, style=ProgressStyle(description_width=…"
      ]
     },
     "metadata": {},
     "output_type": "display_data"
    },
    {
     "data": {
      "application/vnd.jupyter.widget-view+json": {
       "model_id": "",
       "version_major": 2,
       "version_minor": 0
      },
      "text/plain": [
       "HBox(children=(IntProgress(value=1, bar_style='info', description='Reading...', max=1, style=ProgressStyle(des…"
      ]
     },
     "metadata": {},
     "output_type": "display_data"
    },
    {
     "data": {
      "application/vnd.jupyter.widget-view+json": {
       "model_id": "",
       "version_major": 2,
       "version_minor": 0
      },
      "text/plain": [
       "HBox(children=(IntProgress(value=0, description='Writing...', max=2500, style=ProgressStyle(description_width=…"
      ]
     },
     "metadata": {},
     "output_type": "display_data"
    },
    {
     "data": {
      "application/vnd.jupyter.widget-view+json": {
       "model_id": "",
       "version_major": 2,
       "version_minor": 0
      },
      "text/plain": [
       "HBox(children=(IntProgress(value=1, bar_style='info', description='Reading...', max=1, style=ProgressStyle(des…"
      ]
     },
     "metadata": {},
     "output_type": "display_data"
    },
    {
     "data": {
      "application/vnd.jupyter.widget-view+json": {
       "model_id": "",
       "version_major": 2,
       "version_minor": 0
      },
      "text/plain": [
       "HBox(children=(IntProgress(value=0, description='Writing...', max=2500, style=ProgressStyle(description_width=…"
      ]
     },
     "metadata": {},
     "output_type": "display_data"
    },
    {
     "data": {
      "application/vnd.jupyter.widget-view+json": {
       "model_id": "",
       "version_major": 2,
       "version_minor": 0
      },
      "text/plain": [
       "HBox(children=(IntProgress(value=1, bar_style='info', description='Reading...', max=1, style=ProgressStyle(des…"
      ]
     },
     "metadata": {},
     "output_type": "display_data"
    },
    {
     "data": {
      "application/vnd.jupyter.widget-view+json": {
       "model_id": "",
       "version_major": 2,
       "version_minor": 0
      },
      "text/plain": [
       "HBox(children=(IntProgress(value=0, description='Writing...', max=2500, style=ProgressStyle(description_width=…"
      ]
     },
     "metadata": {},
     "output_type": "display_data"
    },
    {
     "data": {
      "application/vnd.jupyter.widget-view+json": {
       "model_id": "",
       "version_major": 2,
       "version_minor": 0
      },
      "text/plain": [
       "HBox(children=(IntProgress(value=1, bar_style='info', description='Reading...', max=1, style=ProgressStyle(des…"
      ]
     },
     "metadata": {},
     "output_type": "display_data"
    },
    {
     "data": {
      "application/vnd.jupyter.widget-view+json": {
       "model_id": "",
       "version_major": 2,
       "version_minor": 0
      },
      "text/plain": [
       "HBox(children=(IntProgress(value=0, description='Writing...', max=2500, style=ProgressStyle(description_width=…"
      ]
     },
     "metadata": {},
     "output_type": "display_data"
    },
    {
     "data": {
      "application/vnd.jupyter.widget-view+json": {
       "model_id": "",
       "version_major": 2,
       "version_minor": 0
      },
      "text/plain": [
       "HBox(children=(IntProgress(value=1, bar_style='info', description='Reading...', max=1, style=ProgressStyle(des…"
      ]
     },
     "metadata": {},
     "output_type": "display_data"
    },
    {
     "data": {
      "application/vnd.jupyter.widget-view+json": {
       "model_id": "",
       "version_major": 2,
       "version_minor": 0
      },
      "text/plain": [
       "HBox(children=(IntProgress(value=0, description='Writing...', max=2500, style=ProgressStyle(description_width=…"
      ]
     },
     "metadata": {},
     "output_type": "display_data"
    },
    {
     "data": {
      "application/vnd.jupyter.widget-view+json": {
       "model_id": "",
       "version_major": 2,
       "version_minor": 0
      },
      "text/plain": [
       "HBox(children=(IntProgress(value=1, bar_style='info', description='Reading...', max=1, style=ProgressStyle(des…"
      ]
     },
     "metadata": {},
     "output_type": "display_data"
    },
    {
     "data": {
      "application/vnd.jupyter.widget-view+json": {
       "model_id": "",
       "version_major": 2,
       "version_minor": 0
      },
      "text/plain": [
       "HBox(children=(IntProgress(value=0, description='Writing...', max=2500, style=ProgressStyle(description_width=…"
      ]
     },
     "metadata": {},
     "output_type": "display_data"
    },
    {
     "name": "stdout",
     "output_type": "stream",
     "text": [
      "\r",
      "\u001b[1mDataset imdb_reviews downloaded and prepared to /Users/shilpibhattacharyya/tensorflow_datasets/imdb_reviews/subwords8k/0.1.0. Subsequent calls will reuse this data.\u001b[0m\n"
     ]
    },
    {
     "name": "stderr",
     "output_type": "stream",
     "text": [
      "W0808 18:40:37.691522 140735902892928 dataset_builder.py:439] Warning: Setting shuffle_files=True because split=TRAIN and shuffle_files=None. This behavior will be deprecated on 2019-08-06, at which point shuffle_files=False will be the default for all splits.\n"
     ]
    }
   ],
   "source": [
    "# Get the data\n",
    "dataset, info = tfds.load('imdb_reviews/subwords8k', with_info=True, as_supervised=True)\n",
    "train_dataset, test_dataset = dataset['train'], dataset['test']"
   ]
  },
  {
   "cell_type": "code",
   "execution_count": 24,
   "metadata": {},
   "outputs": [
    {
     "data": {
      "text/plain": [
       "tfds.core.DatasetInfo(\n",
       "    name='imdb_reviews',\n",
       "    version=0.1.0,\n",
       "    description='Large Movie Review Dataset.\n",
       "This is a dataset for binary sentiment classification containing substantially more data than previous benchmark datasets. We provide a set of 25,000 highly polar movie reviews for training, and 25,000 for testing. There is additional unlabeled data for use as well.',\n",
       "    urls=['http://ai.stanford.edu/~amaas/data/sentiment/'],\n",
       "    features=FeaturesDict({\n",
       "        'label': ClassLabel(shape=(), dtype=tf.int64, num_classes=2),\n",
       "        'text': Text(shape=(None,), dtype=tf.int64, encoder=<SubwordTextEncoder vocab_size=8185>),\n",
       "    }),\n",
       "    total_num_examples=100000,\n",
       "    splits={\n",
       "        'test': 25000,\n",
       "        'train': 25000,\n",
       "        'unsupervised': 50000,\n",
       "    },\n",
       "    supervised_keys=('text', 'label'),\n",
       "    citation=\"\"\"@InProceedings{maas-EtAl:2011:ACL-HLT2011,\n",
       "      author    = {Maas, Andrew L.  and  Daly, Raymond E.  and  Pham, Peter T.  and  Huang, Dan  and  Ng, Andrew Y.  and  Potts, Christopher},\n",
       "      title     = {Learning Word Vectors for Sentiment Analysis},\n",
       "      booktitle = {Proceedings of the 49th Annual Meeting of the Association for Computational Linguistics: Human Language Technologies},\n",
       "      month     = {June},\n",
       "      year      = {2011},\n",
       "      address   = {Portland, Oregon, USA},\n",
       "      publisher = {Association for Computational Linguistics},\n",
       "      pages     = {142--150},\n",
       "      url       = {http://www.aclweb.org/anthology/P11-1015}\n",
       "    }\"\"\",\n",
       "    redistribution_info=,\n",
       ")"
      ]
     },
     "execution_count": 24,
     "metadata": {},
     "output_type": "execute_result"
    }
   ],
   "source": [
    "info"
   ]
  },
  {
   "cell_type": "code",
   "execution_count": null,
   "metadata": {},
   "outputs": [],
   "source": [
    "tokenizer = info.features['text'].encoder"
   ]
  },
  {
   "cell_type": "code",
   "execution_count": null,
   "metadata": {},
   "outputs": [
    {
     "name": "stdout",
     "output_type": "stream",
     "text": [
      "Train on 80378 samples, validate on 8931 samples\n",
      "Epoch 1/10\n",
      "80378/80378 [==============================] - 807s 10ms/sample - loss: 1.6719 - accuracy: 0.2976 - val_loss: 1.5475 - val_accuracy: 0.3805\n",
      "Epoch 2/10\n",
      "80378/80378 [==============================] - 956s 12ms/sample - loss: 1.3399 - accuracy: 0.4789 - val_loss: 1.3781 - val_accuracy: 0.4594\n",
      "Epoch 3/10\n",
      "14656/80378 [====>.........................] - ETA: 17:13 - loss: 1.1149 - accuracy: 0.5664"
     ]
    }
   ],
   "source": [
    "model = tf.keras.Sequential([\n",
    "    tf.keras.layers.Embedding(MAX_NB_WORDS, EMBEDDING_DIM, input_length=X.shape[1]),\n",
    "    tf.keras.layers.Bidirectional(tf.keras.layers.LSTM(64, return_sequences=True)),\n",
    "    tf.keras.layers.Bidirectional(tf.keras.layers.LSTM(32)),\n",
    "    tf.keras.layers.Dense(64, activation='relu'),\n",
    "    tf.keras.layers.Dense(6, activation='sigmoid')\n",
    "])\n",
    "\n",
    "model.compile(loss='categorical_crossentropy', optimizer='adam', metrics=['accuracy'])\n",
    "\n",
    "epochs = 10\n",
    "batch_size = 64\n",
    "\n",
    "history = model.fit(X_train, Y_train, epochs=epochs, batch_size=batch_size,validation_split=0.1,callbacks=[EarlyStopping(monitor='val_loss', patience=3, min_delta=0.0001)])"
   ]
  },
  {
   "cell_type": "code",
   "execution_count": 58,
   "metadata": {},
   "outputs": [
    {
     "name": "stdout",
     "output_type": "stream",
     "text": [
      "7396/7396 [==============================] - 23s 3ms/sample - loss: 1.2099 - accuracy: 0.5650\n",
      "Test set\n",
      "  Loss: 1.210\n",
      "  Accuracy: 0.565\n"
     ]
    }
   ],
   "source": [
    "accr = model.evaluate(X_test,Y_test)\n",
    "print('Test set\\n  Loss: {:0.3f}\\n  Accuracy: {:0.3f}'.format(accr[0],accr[1]))"
   ]
  },
  {
   "cell_type": "code",
   "execution_count": null,
   "metadata": {},
   "outputs": [],
   "source": [
    "plt.title('Loss')\n",
    "plt.plot(history.history['loss'], label='train')\n",
    "plt.plot(history.history['val_loss'], label='test')\n",
    "plt.legend()\n",
    "plt.show();"
   ]
  },
  {
   "cell_type": "code",
   "execution_count": 14,
   "metadata": {},
   "outputs": [
    {
     "data": {
      "text/plain": [
       "(73956, 13390)"
      ]
     },
     "execution_count": 14,
     "metadata": {},
     "output_type": "execute_result"
    }
   ],
   "source": [
    "from sklearn.feature_extraction.text import TfidfVectorizer\n",
    "tfidf = TfidfVectorizer(sublinear_tf=True, min_df=5, norm='l2', encoding='latin-1', ngram_range=(1, 2), stop_words='english')\n",
    "features = tfidf.fit_transform(df.dialogue).toarray()\n",
    "labels = df.Score\n",
    "features.shape"
   ]
  },
  {
   "cell_type": "code",
   "execution_count": 15,
   "metadata": {},
   "outputs": [
    {
     "name": "stdout",
     "output_type": "stream",
     "text": [
      "# 'Chandler':\n",
      "  . Most correlated unigrams:\n",
      ". head\n",
      ". zoo\n",
      "  . Most correlated bigrams:\n",
      ". head joey\n",
      ". hear look\n",
      "# 'Joey':\n",
      "  . Most correlated unigrams:\n",
      ". head\n",
      ". zoo\n",
      "  . Most correlated bigrams:\n",
      ". head joey\n",
      ". hear look\n",
      "# 'Monica':\n",
      "  . Most correlated unigrams:\n",
      ". head\n",
      ". zoo\n",
      "  . Most correlated bigrams:\n",
      ". head joey\n",
      ". hear look\n",
      "# 'Phoebe':\n",
      "  . Most correlated unigrams:\n",
      ". head\n",
      ". zoo\n",
      "  . Most correlated bigrams:\n",
      ". head joey\n",
      ". hear look\n",
      "# 'Rachel':\n",
      "  . Most correlated unigrams:\n",
      ". head\n",
      ". zoo\n",
      "  . Most correlated bigrams:\n",
      ". head joey\n",
      ". hear look\n",
      "# 'Ross':\n",
      "  . Most correlated unigrams:\n",
      ". head\n",
      ". zoo\n",
      "  . Most correlated bigrams:\n",
      ". head joey\n",
      ". hear look\n"
     ]
    }
   ],
   "source": [
    "from sklearn.feature_selection import chi2\n",
    "import numpy as np\n",
    "N = 2\n",
    "for Score, category_id in sorted(category_to_id.items()):\n",
    "  features_chi2 = chi2(features, labels == category_id)\n",
    "  indices = np.argsort(features_chi2[0])\n",
    "  feature_names = np.array(tfidf.get_feature_names())[indices]\n",
    "  unigrams = [v for v in feature_names if len(v.split(' ')) == 1]\n",
    "  bigrams = [v for v in feature_names if len(v.split(' ')) == 2]\n",
    "  print(\"# '{}':\".format(Score))\n",
    "  print(\"  . Most correlated unigrams:\\n. {}\".format('\\n. '.join(unigrams[-N:])))\n",
    "  print(\"  . Most correlated bigrams:\\n. {}\".format('\\n. '.join(bigrams[-N:])))"
   ]
  },
  {
   "cell_type": "code",
   "execution_count": 16,
   "metadata": {},
   "outputs": [],
   "source": [
    "from sklearn.model_selection import train_test_split\n",
    "from sklearn.feature_extraction.text import CountVectorizer\n",
    "from sklearn.feature_extraction.text import TfidfTransformer\n",
    "from sklearn.naive_bayes import MultinomialNB\n",
    "X_train, X_test, y_train, y_test = train_test_split(df['dialogue'], df['Score'], random_state = 0)\n",
    "count_vect = CountVectorizer()\n",
    "X_train_counts = count_vect.fit_transform(X_train)\n",
    "tfidf_transformer = TfidfTransformer()\n",
    "X_train_tfidf = tfidf_transformer.fit_transform(X_train_counts)\n",
    "clf = MultinomialNB().fit(X_train_tfidf, y_train)"
   ]
  },
  {
   "cell_type": "code",
   "execution_count": 17,
   "metadata": {},
   "outputs": [
    {
     "name": "stdout",
     "output_type": "stream",
     "text": [
      "['Ross']\n"
     ]
    }
   ],
   "source": [
    "print(clf.predict(count_vect.transform([\"Yeah, well you promised Barry, you d marry him. (Rachel glares at her, and she retreats to safety between Richards legs)\"])))"
   ]
  },
  {
   "cell_type": "code",
   "execution_count": 18,
   "metadata": {},
   "outputs": [
    {
     "name": "stdout",
     "output_type": "stream",
     "text": [
      "['Phoebe']\n"
     ]
    }
   ],
   "source": [
    "print(clf.predict(count_vect.transform([\"And I will be using his dead body as a shield\"])))"
   ]
  },
  {
   "cell_type": "code",
   "execution_count": 19,
   "metadata": {},
   "outputs": [
    {
     "name": "stdout",
     "output_type": "stream",
     "text": [
      "Requirement already satisfied: seaborn in /usr/local/lib/python3.7/site-packages (0.9.0)\n",
      "Requirement already satisfied: pandas>=0.15.2 in /usr/local/lib/python3.7/site-packages (from seaborn) (0.24.2)\n",
      "Requirement already satisfied: matplotlib>=1.4.3 in /usr/local/lib/python3.7/site-packages (from seaborn) (3.0.3)\n",
      "Requirement already satisfied: numpy>=1.9.3 in /usr/local/lib/python3.7/site-packages (from seaborn) (1.16.2)\n",
      "Requirement already satisfied: scipy>=0.14.0 in /usr/local/lib/python3.7/site-packages (from seaborn) (1.2.1)\n",
      "Requirement already satisfied: python-dateutil>=2.5.0 in /usr/local/lib/python3.7/site-packages (from pandas>=0.15.2->seaborn) (2.8.0)\n",
      "Requirement already satisfied: pytz>=2011k in /usr/local/lib/python3.7/site-packages (from pandas>=0.15.2->seaborn) (2018.9)\n",
      "Requirement already satisfied: cycler>=0.10 in /usr/local/lib/python3.7/site-packages (from matplotlib>=1.4.3->seaborn) (0.10.0)\n",
      "Requirement already satisfied: kiwisolver>=1.0.1 in /usr/local/lib/python3.7/site-packages (from matplotlib>=1.4.3->seaborn) (1.0.1)\n",
      "Requirement already satisfied: pyparsing!=2.0.4,!=2.1.2,!=2.1.6,>=2.0.1 in /usr/local/lib/python3.7/site-packages (from matplotlib>=1.4.3->seaborn) (2.4.0)\n",
      "Requirement already satisfied: six>=1.5 in /usr/local/lib/python3.7/site-packages (from python-dateutil>=2.5.0->pandas>=0.15.2->seaborn) (1.12.0)\n",
      "Requirement already satisfied: setuptools in /usr/local/lib/python3.7/site-packages (from kiwisolver>=1.0.1->matplotlib>=1.4.3->seaborn) (41.0.1)\n",
      "\u001b[33mWARNING: You are using pip version 19.1.1, however version 19.2.1 is available.\n",
      "You should consider upgrading via the 'pip install --upgrade pip' command.\u001b[0m\n"
     ]
    }
   ],
   "source": [
    "!pip3 install seaborn\n"
   ]
  },
  {
   "cell_type": "code",
   "execution_count": 20,
   "metadata": {},
   "outputs": [
    {
     "name": "stderr",
     "output_type": "stream",
     "text": [
      "/usr/local/lib/python3.7/site-packages/sklearn/linear_model/logistic.py:432: FutureWarning: Default solver will be changed to 'lbfgs' in 0.22. Specify a solver to silence this warning.\n",
      "  FutureWarning)\n",
      "/usr/local/lib/python3.7/site-packages/sklearn/linear_model/logistic.py:469: FutureWarning: Default multi_class will be changed to 'auto' in 0.22. Specify the multi_class option to silence this warning.\n",
      "  \"this warning.\", FutureWarning)\n",
      "/usr/local/lib/python3.7/site-packages/sklearn/linear_model/logistic.py:432: FutureWarning: Default solver will be changed to 'lbfgs' in 0.22. Specify a solver to silence this warning.\n",
      "  FutureWarning)\n",
      "/usr/local/lib/python3.7/site-packages/sklearn/linear_model/logistic.py:469: FutureWarning: Default multi_class will be changed to 'auto' in 0.22. Specify the multi_class option to silence this warning.\n",
      "  \"this warning.\", FutureWarning)\n",
      "/usr/local/lib/python3.7/site-packages/sklearn/linear_model/logistic.py:432: FutureWarning: Default solver will be changed to 'lbfgs' in 0.22. Specify a solver to silence this warning.\n",
      "  FutureWarning)\n",
      "/usr/local/lib/python3.7/site-packages/sklearn/linear_model/logistic.py:469: FutureWarning: Default multi_class will be changed to 'auto' in 0.22. Specify the multi_class option to silence this warning.\n",
      "  \"this warning.\", FutureWarning)\n",
      "/usr/local/lib/python3.7/site-packages/sklearn/linear_model/logistic.py:432: FutureWarning: Default solver will be changed to 'lbfgs' in 0.22. Specify a solver to silence this warning.\n",
      "  FutureWarning)\n",
      "/usr/local/lib/python3.7/site-packages/sklearn/linear_model/logistic.py:469: FutureWarning: Default multi_class will be changed to 'auto' in 0.22. Specify the multi_class option to silence this warning.\n",
      "  \"this warning.\", FutureWarning)\n",
      "/usr/local/lib/python3.7/site-packages/sklearn/linear_model/logistic.py:432: FutureWarning: Default solver will be changed to 'lbfgs' in 0.22. Specify a solver to silence this warning.\n",
      "  FutureWarning)\n",
      "/usr/local/lib/python3.7/site-packages/sklearn/linear_model/logistic.py:469: FutureWarning: Default multi_class will be changed to 'auto' in 0.22. Specify the multi_class option to silence this warning.\n",
      "  \"this warning.\", FutureWarning)\n"
     ]
    },
    {
     "data": {
      "image/png": "[encoded data removed]",
      "text/plain": [
       "<Figure size 432x288 with 1 Axes>"
      ]
     },
     "metadata": {
      "image/png": {
       "height": 264,
       "width": 397
      },
      "needs_background": "light"
     },
     "output_type": "display_data"
    }
   ],
   "source": [
    "from sklearn.linear_model import LogisticRegression\n",
    "from sklearn.ensemble import RandomForestClassifier\n",
    "from sklearn.svm import LinearSVC\n",
    "from sklearn.model_selection import cross_val_score\n",
    "models = [\n",
    "    RandomForestClassifier(n_estimators=200, max_depth=3, random_state=0),\n",
    "    LinearSVC(),\n",
    "    MultinomialNB(),\n",
    "    LogisticRegression(random_state=0),\n",
    "]\n",
    "CV = 5\n",
    "cv_df = pd.DataFrame(index=range(CV * len(models)))\n",
    "entries = []\n",
    "for model in models:\n",
    "  model_name = model.__class__.__name__\n",
    "  accuracies = cross_val_score(model, features, labels, scoring='accuracy', cv=CV)\n",
    "  for fold_idx, accuracy in enumerate(accuracies):\n",
    "    entries.append((model_name, fold_idx, accuracy))\n",
    "cv_df = pd.DataFrame(entries, columns=['model_name', 'fold_idx', 'accuracy'])\n",
    "import seaborn as sns\n",
    "sns.boxplot(x='model_name', y='accuracy', data=cv_df)\n",
    "sns.stripplot(x='model_name', y='accuracy', data=cv_df, \n",
    "              size=8, jitter=True, edgecolor=\"gray\", linewidth=2)\n",
    "plt.show()\n"
   ]
  },
  {
   "cell_type": "code",
   "execution_count": 21,
   "metadata": {},
   "outputs": [
    {
     "data": {
      "text/plain": [
       "model_name\n",
       "LinearSVC                 0.568283\n",
       "LogisticRegression        0.464222\n",
       "MultinomialNB             0.459070\n",
       "RandomForestClassifier    0.199984\n",
       "Name: accuracy, dtype: float64"
      ]
     },
     "execution_count": 21,
     "metadata": {},
     "output_type": "execute_result"
    }
   ],
   "source": [
    "cv_df.groupby('model_name').accuracy.mean()\n"
   ]
  },
  {
   "cell_type": "code",
   "execution_count": 22,
   "metadata": {},
   "outputs": [
    {
     "data": {
      "image/png": "[encoded data removed]",
      "text/plain": [
       "<Figure size 720x720 with 2 Axes>"
      ]
     },
     "metadata": {
      "image/png": {
       "height": 589,
       "width": 578
      },
      "needs_background": "light"
     },
     "output_type": "display_data"
    }
   ],
   "source": [
    "model = LinearSVC()\n",
    "X_train, X_test, y_train, y_test, indices_train, indices_test = train_test_split(features, labels, df.index, test_size=0.33, random_state=0)\n",
    "model.fit(X_train, y_train)\n",
    "y_pred = model.predict(X_test)\n",
    "from sklearn.metrics import confusion_matrix\n",
    "conf_mat = confusion_matrix(y_test, y_pred)\n",
    "fig, ax = plt.subplots(figsize=(10,10))\n",
    "sns.heatmap(conf_mat, annot=True, fmt='d',\n",
    "            xticklabels=category_id_df.Score.values, yticklabels=category_id_df.Score.values)\n",
    "plt.ylabel('Actual')\n",
    "plt.xlabel('Predicted')\n",
    "plt.show()\n"
   ]
  },
  {
   "cell_type": "code",
   "execution_count": 23,
   "metadata": {},
   "outputs": [
    {
     "name": "stdout",
     "output_type": "stream",
     "text": [
      "'Joey' predicted as 'Chandler' : 365 examples.\n"
     ]
    },
    {
     "data": {
      "text/html": [
       "<div>\n",
       "<style scoped>\n",
       "    .dataframe tbody tr th:only-of-type {\n",
       "        vertical-align: middle;\n",
       "    }\n",
       "\n",
       "    .dataframe tbody tr th {\n",
       "        vertical-align: top;\n",
       "    }\n",
       "\n",
       "    .dataframe thead th {\n",
       "        text-align: right;\n",
       "    }\n",
       "</style>\n",
       "<table border=\"1\" class=\"dataframe\">\n",
       "  <thead>\n",
       "    <tr style=\"text-align: right;\">\n",
       "      <th></th>\n",
       "      <th>Score</th>\n",
       "      <th>dialogue</th>\n",
       "    </tr>\n",
       "  </thead>\n",
       "  <tbody>\n",
       "  </tbody>\n",
       "</table>\n",
       "</div>"
      ],
      "text/plain": [
       "Empty DataFrame\n",
       "Columns: [Score, dialogue]\n",
       "Index: []"
      ]
     },
     "metadata": {},
     "output_type": "display_data"
    },
    {
     "name": "stdout",
     "output_type": "stream",
     "text": [
      "\n",
      "'Phoebe' predicted as 'Chandler' : 400 examples.\n"
     ]
    },
    {
     "data": {
      "text/html": [
       "<div>\n",
       "<style scoped>\n",
       "    .dataframe tbody tr th:only-of-type {\n",
       "        vertical-align: middle;\n",
       "    }\n",
       "\n",
       "    .dataframe tbody tr th {\n",
       "        vertical-align: top;\n",
       "    }\n",
       "\n",
       "    .dataframe thead th {\n",
       "        text-align: right;\n",
       "    }\n",
       "</style>\n",
       "<table border=\"1\" class=\"dataframe\">\n",
       "  <thead>\n",
       "    <tr style=\"text-align: right;\">\n",
       "      <th></th>\n",
       "      <th>Score</th>\n",
       "      <th>dialogue</th>\n",
       "    </tr>\n",
       "  </thead>\n",
       "  <tbody>\n",
       "  </tbody>\n",
       "</table>\n",
       "</div>"
      ],
      "text/plain": [
       "Empty DataFrame\n",
       "Columns: [Score, dialogue]\n",
       "Index: []"
      ]
     },
     "metadata": {},
     "output_type": "display_data"
    },
    {
     "name": "stdout",
     "output_type": "stream",
     "text": [
      "\n",
      "'Rachel' predicted as 'Chandler' : 270 examples.\n"
     ]
    },
    {
     "data": {
      "text/html": [
       "<div>\n",
       "<style scoped>\n",
       "    .dataframe tbody tr th:only-of-type {\n",
       "        vertical-align: middle;\n",
       "    }\n",
       "\n",
       "    .dataframe tbody tr th {\n",
       "        vertical-align: top;\n",
       "    }\n",
       "\n",
       "    .dataframe thead th {\n",
       "        text-align: right;\n",
       "    }\n",
       "</style>\n",
       "<table border=\"1\" class=\"dataframe\">\n",
       "  <thead>\n",
       "    <tr style=\"text-align: right;\">\n",
       "      <th></th>\n",
       "      <th>Score</th>\n",
       "      <th>dialogue</th>\n",
       "    </tr>\n",
       "  </thead>\n",
       "  <tbody>\n",
       "  </tbody>\n",
       "</table>\n",
       "</div>"
      ],
      "text/plain": [
       "Empty DataFrame\n",
       "Columns: [Score, dialogue]\n",
       "Index: []"
      ]
     },
     "metadata": {},
     "output_type": "display_data"
    },
    {
     "name": "stdout",
     "output_type": "stream",
     "text": [
      "\n",
      "'Ross' predicted as 'Chandler' : 374 examples.\n"
     ]
    },
    {
     "data": {
      "text/html": [
       "<div>\n",
       "<style scoped>\n",
       "    .dataframe tbody tr th:only-of-type {\n",
       "        vertical-align: middle;\n",
       "    }\n",
       "\n",
       "    .dataframe tbody tr th {\n",
       "        vertical-align: top;\n",
       "    }\n",
       "\n",
       "    .dataframe thead th {\n",
       "        text-align: right;\n",
       "    }\n",
       "</style>\n",
       "<table border=\"1\" class=\"dataframe\">\n",
       "  <thead>\n",
       "    <tr style=\"text-align: right;\">\n",
       "      <th></th>\n",
       "      <th>Score</th>\n",
       "      <th>dialogue</th>\n",
       "    </tr>\n",
       "  </thead>\n",
       "  <tbody>\n",
       "  </tbody>\n",
       "</table>\n",
       "</div>"
      ],
      "text/plain": [
       "Empty DataFrame\n",
       "Columns: [Score, dialogue]\n",
       "Index: []"
      ]
     },
     "metadata": {},
     "output_type": "display_data"
    },
    {
     "name": "stdout",
     "output_type": "stream",
     "text": [
      "\n",
      "'Monica' predicted as 'Chandler' : 385 examples.\n"
     ]
    },
    {
     "data": {
      "text/html": [
       "<div>\n",
       "<style scoped>\n",
       "    .dataframe tbody tr th:only-of-type {\n",
       "        vertical-align: middle;\n",
       "    }\n",
       "\n",
       "    .dataframe tbody tr th {\n",
       "        vertical-align: top;\n",
       "    }\n",
       "\n",
       "    .dataframe thead th {\n",
       "        text-align: right;\n",
       "    }\n",
       "</style>\n",
       "<table border=\"1\" class=\"dataframe\">\n",
       "  <thead>\n",
       "    <tr style=\"text-align: right;\">\n",
       "      <th></th>\n",
       "      <th>Score</th>\n",
       "      <th>dialogue</th>\n",
       "    </tr>\n",
       "  </thead>\n",
       "  <tbody>\n",
       "  </tbody>\n",
       "</table>\n",
       "</div>"
      ],
      "text/plain": [
       "Empty DataFrame\n",
       "Columns: [Score, dialogue]\n",
       "Index: []"
      ]
     },
     "metadata": {},
     "output_type": "display_data"
    },
    {
     "name": "stdout",
     "output_type": "stream",
     "text": [
      "\n",
      "'Chandler' predicted as 'Joey' : 463 examples.\n"
     ]
    },
    {
     "data": {
      "text/html": [
       "<div>\n",
       "<style scoped>\n",
       "    .dataframe tbody tr th:only-of-type {\n",
       "        vertical-align: middle;\n",
       "    }\n",
       "\n",
       "    .dataframe tbody tr th {\n",
       "        vertical-align: top;\n",
       "    }\n",
       "\n",
       "    .dataframe thead th {\n",
       "        text-align: right;\n",
       "    }\n",
       "</style>\n",
       "<table border=\"1\" class=\"dataframe\">\n",
       "  <thead>\n",
       "    <tr style=\"text-align: right;\">\n",
       "      <th></th>\n",
       "      <th>Score</th>\n",
       "      <th>dialogue</th>\n",
       "    </tr>\n",
       "  </thead>\n",
       "  <tbody>\n",
       "  </tbody>\n",
       "</table>\n",
       "</div>"
      ],
      "text/plain": [
       "Empty DataFrame\n",
       "Columns: [Score, dialogue]\n",
       "Index: []"
      ]
     },
     "metadata": {},
     "output_type": "display_data"
    },
    {
     "name": "stdout",
     "output_type": "stream",
     "text": [
      "\n",
      "'Phoebe' predicted as 'Joey' : 356 examples.\n"
     ]
    },
    {
     "data": {
      "text/html": [
       "<div>\n",
       "<style scoped>\n",
       "    .dataframe tbody tr th:only-of-type {\n",
       "        vertical-align: middle;\n",
       "    }\n",
       "\n",
       "    .dataframe tbody tr th {\n",
       "        vertical-align: top;\n",
       "    }\n",
       "\n",
       "    .dataframe thead th {\n",
       "        text-align: right;\n",
       "    }\n",
       "</style>\n",
       "<table border=\"1\" class=\"dataframe\">\n",
       "  <thead>\n",
       "    <tr style=\"text-align: right;\">\n",
       "      <th></th>\n",
       "      <th>Score</th>\n",
       "      <th>dialogue</th>\n",
       "    </tr>\n",
       "  </thead>\n",
       "  <tbody>\n",
       "  </tbody>\n",
       "</table>\n",
       "</div>"
      ],
      "text/plain": [
       "Empty DataFrame\n",
       "Columns: [Score, dialogue]\n",
       "Index: []"
      ]
     },
     "metadata": {},
     "output_type": "display_data"
    },
    {
     "name": "stdout",
     "output_type": "stream",
     "text": [
      "\n",
      "'Rachel' predicted as 'Joey' : 344 examples.\n"
     ]
    },
    {
     "data": {
      "text/html": [
       "<div>\n",
       "<style scoped>\n",
       "    .dataframe tbody tr th:only-of-type {\n",
       "        vertical-align: middle;\n",
       "    }\n",
       "\n",
       "    .dataframe tbody tr th {\n",
       "        vertical-align: top;\n",
       "    }\n",
       "\n",
       "    .dataframe thead th {\n",
       "        text-align: right;\n",
       "    }\n",
       "</style>\n",
       "<table border=\"1\" class=\"dataframe\">\n",
       "  <thead>\n",
       "    <tr style=\"text-align: right;\">\n",
       "      <th></th>\n",
       "      <th>Score</th>\n",
       "      <th>dialogue</th>\n",
       "    </tr>\n",
       "  </thead>\n",
       "  <tbody>\n",
       "  </tbody>\n",
       "</table>\n",
       "</div>"
      ],
      "text/plain": [
       "Empty DataFrame\n",
       "Columns: [Score, dialogue]\n",
       "Index: []"
      ]
     },
     "metadata": {},
     "output_type": "display_data"
    },
    {
     "name": "stdout",
     "output_type": "stream",
     "text": [
      "\n",
      "'Ross' predicted as 'Joey' : 395 examples.\n"
     ]
    },
    {
     "data": {
      "text/html": [
       "<div>\n",
       "<style scoped>\n",
       "    .dataframe tbody tr th:only-of-type {\n",
       "        vertical-align: middle;\n",
       "    }\n",
       "\n",
       "    .dataframe tbody tr th {\n",
       "        vertical-align: top;\n",
       "    }\n",
       "\n",
       "    .dataframe thead th {\n",
       "        text-align: right;\n",
       "    }\n",
       "</style>\n",
       "<table border=\"1\" class=\"dataframe\">\n",
       "  <thead>\n",
       "    <tr style=\"text-align: right;\">\n",
       "      <th></th>\n",
       "      <th>Score</th>\n",
       "      <th>dialogue</th>\n",
       "    </tr>\n",
       "  </thead>\n",
       "  <tbody>\n",
       "  </tbody>\n",
       "</table>\n",
       "</div>"
      ],
      "text/plain": [
       "Empty DataFrame\n",
       "Columns: [Score, dialogue]\n",
       "Index: []"
      ]
     },
     "metadata": {},
     "output_type": "display_data"
    },
    {
     "name": "stdout",
     "output_type": "stream",
     "text": [
      "\n",
      "'Monica' predicted as 'Joey' : 474 examples.\n"
     ]
    },
    {
     "data": {
      "text/html": [
       "<div>\n",
       "<style scoped>\n",
       "    .dataframe tbody tr th:only-of-type {\n",
       "        vertical-align: middle;\n",
       "    }\n",
       "\n",
       "    .dataframe tbody tr th {\n",
       "        vertical-align: top;\n",
       "    }\n",
       "\n",
       "    .dataframe thead th {\n",
       "        text-align: right;\n",
       "    }\n",
       "</style>\n",
       "<table border=\"1\" class=\"dataframe\">\n",
       "  <thead>\n",
       "    <tr style=\"text-align: right;\">\n",
       "      <th></th>\n",
       "      <th>Score</th>\n",
       "      <th>dialogue</th>\n",
       "    </tr>\n",
       "  </thead>\n",
       "  <tbody>\n",
       "  </tbody>\n",
       "</table>\n",
       "</div>"
      ],
      "text/plain": [
       "Empty DataFrame\n",
       "Columns: [Score, dialogue]\n",
       "Index: []"
      ]
     },
     "metadata": {},
     "output_type": "display_data"
    },
    {
     "name": "stdout",
     "output_type": "stream",
     "text": [
      "\n",
      "'Chandler' predicted as 'Phoebe' : 567 examples.\n"
     ]
    },
    {
     "data": {
      "text/html": [
       "<div>\n",
       "<style scoped>\n",
       "    .dataframe tbody tr th:only-of-type {\n",
       "        vertical-align: middle;\n",
       "    }\n",
       "\n",
       "    .dataframe tbody tr th {\n",
       "        vertical-align: top;\n",
       "    }\n",
       "\n",
       "    .dataframe thead th {\n",
       "        text-align: right;\n",
       "    }\n",
       "</style>\n",
       "<table border=\"1\" class=\"dataframe\">\n",
       "  <thead>\n",
       "    <tr style=\"text-align: right;\">\n",
       "      <th></th>\n",
       "      <th>Score</th>\n",
       "      <th>dialogue</th>\n",
       "    </tr>\n",
       "  </thead>\n",
       "  <tbody>\n",
       "  </tbody>\n",
       "</table>\n",
       "</div>"
      ],
      "text/plain": [
       "Empty DataFrame\n",
       "Columns: [Score, dialogue]\n",
       "Index: []"
      ]
     },
     "metadata": {},
     "output_type": "display_data"
    },
    {
     "name": "stdout",
     "output_type": "stream",
     "text": [
      "\n",
      "'Joey' predicted as 'Phoebe' : 386 examples.\n"
     ]
    },
    {
     "data": {
      "text/html": [
       "<div>\n",
       "<style scoped>\n",
       "    .dataframe tbody tr th:only-of-type {\n",
       "        vertical-align: middle;\n",
       "    }\n",
       "\n",
       "    .dataframe tbody tr th {\n",
       "        vertical-align: top;\n",
       "    }\n",
       "\n",
       "    .dataframe thead th {\n",
       "        text-align: right;\n",
       "    }\n",
       "</style>\n",
       "<table border=\"1\" class=\"dataframe\">\n",
       "  <thead>\n",
       "    <tr style=\"text-align: right;\">\n",
       "      <th></th>\n",
       "      <th>Score</th>\n",
       "      <th>dialogue</th>\n",
       "    </tr>\n",
       "  </thead>\n",
       "  <tbody>\n",
       "  </tbody>\n",
       "</table>\n",
       "</div>"
      ],
      "text/plain": [
       "Empty DataFrame\n",
       "Columns: [Score, dialogue]\n",
       "Index: []"
      ]
     },
     "metadata": {},
     "output_type": "display_data"
    },
    {
     "name": "stdout",
     "output_type": "stream",
     "text": [
      "\n",
      "'Rachel' predicted as 'Phoebe' : 433 examples.\n"
     ]
    },
    {
     "data": {
      "text/html": [
       "<div>\n",
       "<style scoped>\n",
       "    .dataframe tbody tr th:only-of-type {\n",
       "        vertical-align: middle;\n",
       "    }\n",
       "\n",
       "    .dataframe tbody tr th {\n",
       "        vertical-align: top;\n",
       "    }\n",
       "\n",
       "    .dataframe thead th {\n",
       "        text-align: right;\n",
       "    }\n",
       "</style>\n",
       "<table border=\"1\" class=\"dataframe\">\n",
       "  <thead>\n",
       "    <tr style=\"text-align: right;\">\n",
       "      <th></th>\n",
       "      <th>Score</th>\n",
       "      <th>dialogue</th>\n",
       "    </tr>\n",
       "  </thead>\n",
       "  <tbody>\n",
       "  </tbody>\n",
       "</table>\n",
       "</div>"
      ],
      "text/plain": [
       "Empty DataFrame\n",
       "Columns: [Score, dialogue]\n",
       "Index: []"
      ]
     },
     "metadata": {},
     "output_type": "display_data"
    },
    {
     "name": "stdout",
     "output_type": "stream",
     "text": [
      "\n",
      "'Ross' predicted as 'Phoebe' : 606 examples.\n"
     ]
    },
    {
     "data": {
      "text/html": [
       "<div>\n",
       "<style scoped>\n",
       "    .dataframe tbody tr th:only-of-type {\n",
       "        vertical-align: middle;\n",
       "    }\n",
       "\n",
       "    .dataframe tbody tr th {\n",
       "        vertical-align: top;\n",
       "    }\n",
       "\n",
       "    .dataframe thead th {\n",
       "        text-align: right;\n",
       "    }\n",
       "</style>\n",
       "<table border=\"1\" class=\"dataframe\">\n",
       "  <thead>\n",
       "    <tr style=\"text-align: right;\">\n",
       "      <th></th>\n",
       "      <th>Score</th>\n",
       "      <th>dialogue</th>\n",
       "    </tr>\n",
       "  </thead>\n",
       "  <tbody>\n",
       "  </tbody>\n",
       "</table>\n",
       "</div>"
      ],
      "text/plain": [
       "Empty DataFrame\n",
       "Columns: [Score, dialogue]\n",
       "Index: []"
      ]
     },
     "metadata": {},
     "output_type": "display_data"
    },
    {
     "name": "stdout",
     "output_type": "stream",
     "text": [
      "\n",
      "'Monica' predicted as 'Phoebe' : 568 examples.\n"
     ]
    },
    {
     "data": {
      "text/html": [
       "<div>\n",
       "<style scoped>\n",
       "    .dataframe tbody tr th:only-of-type {\n",
       "        vertical-align: middle;\n",
       "    }\n",
       "\n",
       "    .dataframe tbody tr th {\n",
       "        vertical-align: top;\n",
       "    }\n",
       "\n",
       "    .dataframe thead th {\n",
       "        text-align: right;\n",
       "    }\n",
       "</style>\n",
       "<table border=\"1\" class=\"dataframe\">\n",
       "  <thead>\n",
       "    <tr style=\"text-align: right;\">\n",
       "      <th></th>\n",
       "      <th>Score</th>\n",
       "      <th>dialogue</th>\n",
       "    </tr>\n",
       "  </thead>\n",
       "  <tbody>\n",
       "  </tbody>\n",
       "</table>\n",
       "</div>"
      ],
      "text/plain": [
       "Empty DataFrame\n",
       "Columns: [Score, dialogue]\n",
       "Index: []"
      ]
     },
     "metadata": {},
     "output_type": "display_data"
    },
    {
     "name": "stdout",
     "output_type": "stream",
     "text": [
      "\n",
      "'Chandler' predicted as 'Rachel' : 281 examples.\n"
     ]
    },
    {
     "data": {
      "text/html": [
       "<div>\n",
       "<style scoped>\n",
       "    .dataframe tbody tr th:only-of-type {\n",
       "        vertical-align: middle;\n",
       "    }\n",
       "\n",
       "    .dataframe tbody tr th {\n",
       "        vertical-align: top;\n",
       "    }\n",
       "\n",
       "    .dataframe thead th {\n",
       "        text-align: right;\n",
       "    }\n",
       "</style>\n",
       "<table border=\"1\" class=\"dataframe\">\n",
       "  <thead>\n",
       "    <tr style=\"text-align: right;\">\n",
       "      <th></th>\n",
       "      <th>Score</th>\n",
       "      <th>dialogue</th>\n",
       "    </tr>\n",
       "  </thead>\n",
       "  <tbody>\n",
       "  </tbody>\n",
       "</table>\n",
       "</div>"
      ],
      "text/plain": [
       "Empty DataFrame\n",
       "Columns: [Score, dialogue]\n",
       "Index: []"
      ]
     },
     "metadata": {},
     "output_type": "display_data"
    },
    {
     "name": "stdout",
     "output_type": "stream",
     "text": [
      "\n",
      "'Joey' predicted as 'Rachel' : 218 examples.\n"
     ]
    },
    {
     "data": {
      "text/html": [
       "<div>\n",
       "<style scoped>\n",
       "    .dataframe tbody tr th:only-of-type {\n",
       "        vertical-align: middle;\n",
       "    }\n",
       "\n",
       "    .dataframe tbody tr th {\n",
       "        vertical-align: top;\n",
       "    }\n",
       "\n",
       "    .dataframe thead th {\n",
       "        text-align: right;\n",
       "    }\n",
       "</style>\n",
       "<table border=\"1\" class=\"dataframe\">\n",
       "  <thead>\n",
       "    <tr style=\"text-align: right;\">\n",
       "      <th></th>\n",
       "      <th>Score</th>\n",
       "      <th>dialogue</th>\n",
       "    </tr>\n",
       "  </thead>\n",
       "  <tbody>\n",
       "  </tbody>\n",
       "</table>\n",
       "</div>"
      ],
      "text/plain": [
       "Empty DataFrame\n",
       "Columns: [Score, dialogue]\n",
       "Index: []"
      ]
     },
     "metadata": {},
     "output_type": "display_data"
    },
    {
     "name": "stdout",
     "output_type": "stream",
     "text": [
      "\n",
      "'Phoebe' predicted as 'Rachel' : 297 examples.\n"
     ]
    },
    {
     "data": {
      "text/html": [
       "<div>\n",
       "<style scoped>\n",
       "    .dataframe tbody tr th:only-of-type {\n",
       "        vertical-align: middle;\n",
       "    }\n",
       "\n",
       "    .dataframe tbody tr th {\n",
       "        vertical-align: top;\n",
       "    }\n",
       "\n",
       "    .dataframe thead th {\n",
       "        text-align: right;\n",
       "    }\n",
       "</style>\n",
       "<table border=\"1\" class=\"dataframe\">\n",
       "  <thead>\n",
       "    <tr style=\"text-align: right;\">\n",
       "      <th></th>\n",
       "      <th>Score</th>\n",
       "      <th>dialogue</th>\n",
       "    </tr>\n",
       "  </thead>\n",
       "  <tbody>\n",
       "  </tbody>\n",
       "</table>\n",
       "</div>"
      ],
      "text/plain": [
       "Empty DataFrame\n",
       "Columns: [Score, dialogue]\n",
       "Index: []"
      ]
     },
     "metadata": {},
     "output_type": "display_data"
    },
    {
     "name": "stdout",
     "output_type": "stream",
     "text": [
      "\n",
      "'Ross' predicted as 'Rachel' : 322 examples.\n"
     ]
    },
    {
     "data": {
      "text/html": [
       "<div>\n",
       "<style scoped>\n",
       "    .dataframe tbody tr th:only-of-type {\n",
       "        vertical-align: middle;\n",
       "    }\n",
       "\n",
       "    .dataframe tbody tr th {\n",
       "        vertical-align: top;\n",
       "    }\n",
       "\n",
       "    .dataframe thead th {\n",
       "        text-align: right;\n",
       "    }\n",
       "</style>\n",
       "<table border=\"1\" class=\"dataframe\">\n",
       "  <thead>\n",
       "    <tr style=\"text-align: right;\">\n",
       "      <th></th>\n",
       "      <th>Score</th>\n",
       "      <th>dialogue</th>\n",
       "    </tr>\n",
       "  </thead>\n",
       "  <tbody>\n",
       "  </tbody>\n",
       "</table>\n",
       "</div>"
      ],
      "text/plain": [
       "Empty DataFrame\n",
       "Columns: [Score, dialogue]\n",
       "Index: []"
      ]
     },
     "metadata": {},
     "output_type": "display_data"
    },
    {
     "name": "stdout",
     "output_type": "stream",
     "text": [
      "\n",
      "'Monica' predicted as 'Rachel' : 308 examples.\n"
     ]
    },
    {
     "data": {
      "text/html": [
       "<div>\n",
       "<style scoped>\n",
       "    .dataframe tbody tr th:only-of-type {\n",
       "        vertical-align: middle;\n",
       "    }\n",
       "\n",
       "    .dataframe tbody tr th {\n",
       "        vertical-align: top;\n",
       "    }\n",
       "\n",
       "    .dataframe thead th {\n",
       "        text-align: right;\n",
       "    }\n",
       "</style>\n",
       "<table border=\"1\" class=\"dataframe\">\n",
       "  <thead>\n",
       "    <tr style=\"text-align: right;\">\n",
       "      <th></th>\n",
       "      <th>Score</th>\n",
       "      <th>dialogue</th>\n",
       "    </tr>\n",
       "  </thead>\n",
       "  <tbody>\n",
       "  </tbody>\n",
       "</table>\n",
       "</div>"
      ],
      "text/plain": [
       "Empty DataFrame\n",
       "Columns: [Score, dialogue]\n",
       "Index: []"
      ]
     },
     "metadata": {},
     "output_type": "display_data"
    },
    {
     "name": "stdout",
     "output_type": "stream",
     "text": [
      "\n",
      "'Chandler' predicted as 'Ross' : 521 examples.\n"
     ]
    },
    {
     "data": {
      "text/html": [
       "<div>\n",
       "<style scoped>\n",
       "    .dataframe tbody tr th:only-of-type {\n",
       "        vertical-align: middle;\n",
       "    }\n",
       "\n",
       "    .dataframe tbody tr th {\n",
       "        vertical-align: top;\n",
       "    }\n",
       "\n",
       "    .dataframe thead th {\n",
       "        text-align: right;\n",
       "    }\n",
       "</style>\n",
       "<table border=\"1\" class=\"dataframe\">\n",
       "  <thead>\n",
       "    <tr style=\"text-align: right;\">\n",
       "      <th></th>\n",
       "      <th>Score</th>\n",
       "      <th>dialogue</th>\n",
       "    </tr>\n",
       "  </thead>\n",
       "  <tbody>\n",
       "  </tbody>\n",
       "</table>\n",
       "</div>"
      ],
      "text/plain": [
       "Empty DataFrame\n",
       "Columns: [Score, dialogue]\n",
       "Index: []"
      ]
     },
     "metadata": {},
     "output_type": "display_data"
    },
    {
     "name": "stdout",
     "output_type": "stream",
     "text": [
      "\n",
      "'Joey' predicted as 'Ross' : 495 examples.\n"
     ]
    },
    {
     "data": {
      "text/html": [
       "<div>\n",
       "<style scoped>\n",
       "    .dataframe tbody tr th:only-of-type {\n",
       "        vertical-align: middle;\n",
       "    }\n",
       "\n",
       "    .dataframe tbody tr th {\n",
       "        vertical-align: top;\n",
       "    }\n",
       "\n",
       "    .dataframe thead th {\n",
       "        text-align: right;\n",
       "    }\n",
       "</style>\n",
       "<table border=\"1\" class=\"dataframe\">\n",
       "  <thead>\n",
       "    <tr style=\"text-align: right;\">\n",
       "      <th></th>\n",
       "      <th>Score</th>\n",
       "      <th>dialogue</th>\n",
       "    </tr>\n",
       "  </thead>\n",
       "  <tbody>\n",
       "  </tbody>\n",
       "</table>\n",
       "</div>"
      ],
      "text/plain": [
       "Empty DataFrame\n",
       "Columns: [Score, dialogue]\n",
       "Index: []"
      ]
     },
     "metadata": {},
     "output_type": "display_data"
    },
    {
     "name": "stdout",
     "output_type": "stream",
     "text": [
      "\n",
      "'Phoebe' predicted as 'Ross' : 618 examples.\n"
     ]
    },
    {
     "data": {
      "text/html": [
       "<div>\n",
       "<style scoped>\n",
       "    .dataframe tbody tr th:only-of-type {\n",
       "        vertical-align: middle;\n",
       "    }\n",
       "\n",
       "    .dataframe tbody tr th {\n",
       "        vertical-align: top;\n",
       "    }\n",
       "\n",
       "    .dataframe thead th {\n",
       "        text-align: right;\n",
       "    }\n",
       "</style>\n",
       "<table border=\"1\" class=\"dataframe\">\n",
       "  <thead>\n",
       "    <tr style=\"text-align: right;\">\n",
       "      <th></th>\n",
       "      <th>Score</th>\n",
       "      <th>dialogue</th>\n",
       "    </tr>\n",
       "  </thead>\n",
       "  <tbody>\n",
       "  </tbody>\n",
       "</table>\n",
       "</div>"
      ],
      "text/plain": [
       "Empty DataFrame\n",
       "Columns: [Score, dialogue]\n",
       "Index: []"
      ]
     },
     "metadata": {},
     "output_type": "display_data"
    },
    {
     "name": "stdout",
     "output_type": "stream",
     "text": [
      "\n",
      "'Rachel' predicted as 'Ross' : 529 examples.\n"
     ]
    },
    {
     "data": {
      "text/html": [
       "<div>\n",
       "<style scoped>\n",
       "    .dataframe tbody tr th:only-of-type {\n",
       "        vertical-align: middle;\n",
       "    }\n",
       "\n",
       "    .dataframe tbody tr th {\n",
       "        vertical-align: top;\n",
       "    }\n",
       "\n",
       "    .dataframe thead th {\n",
       "        text-align: right;\n",
       "    }\n",
       "</style>\n",
       "<table border=\"1\" class=\"dataframe\">\n",
       "  <thead>\n",
       "    <tr style=\"text-align: right;\">\n",
       "      <th></th>\n",
       "      <th>Score</th>\n",
       "      <th>dialogue</th>\n",
       "    </tr>\n",
       "  </thead>\n",
       "  <tbody>\n",
       "  </tbody>\n",
       "</table>\n",
       "</div>"
      ],
      "text/plain": [
       "Empty DataFrame\n",
       "Columns: [Score, dialogue]\n",
       "Index: []"
      ]
     },
     "metadata": {},
     "output_type": "display_data"
    },
    {
     "name": "stdout",
     "output_type": "stream",
     "text": [
      "\n",
      "'Monica' predicted as 'Ross' : 555 examples.\n"
     ]
    },
    {
     "data": {
      "text/html": [
       "<div>\n",
       "<style scoped>\n",
       "    .dataframe tbody tr th:only-of-type {\n",
       "        vertical-align: middle;\n",
       "    }\n",
       "\n",
       "    .dataframe tbody tr th {\n",
       "        vertical-align: top;\n",
       "    }\n",
       "\n",
       "    .dataframe thead th {\n",
       "        text-align: right;\n",
       "    }\n",
       "</style>\n",
       "<table border=\"1\" class=\"dataframe\">\n",
       "  <thead>\n",
       "    <tr style=\"text-align: right;\">\n",
       "      <th></th>\n",
       "      <th>Score</th>\n",
       "      <th>dialogue</th>\n",
       "    </tr>\n",
       "  </thead>\n",
       "  <tbody>\n",
       "  </tbody>\n",
       "</table>\n",
       "</div>"
      ],
      "text/plain": [
       "Empty DataFrame\n",
       "Columns: [Score, dialogue]\n",
       "Index: []"
      ]
     },
     "metadata": {},
     "output_type": "display_data"
    },
    {
     "name": "stdout",
     "output_type": "stream",
     "text": [
      "\n",
      "'Chandler' predicted as 'Monica' : 364 examples.\n"
     ]
    },
    {
     "data": {
      "text/html": [
       "<div>\n",
       "<style scoped>\n",
       "    .dataframe tbody tr th:only-of-type {\n",
       "        vertical-align: middle;\n",
       "    }\n",
       "\n",
       "    .dataframe tbody tr th {\n",
       "        vertical-align: top;\n",
       "    }\n",
       "\n",
       "    .dataframe thead th {\n",
       "        text-align: right;\n",
       "    }\n",
       "</style>\n",
       "<table border=\"1\" class=\"dataframe\">\n",
       "  <thead>\n",
       "    <tr style=\"text-align: right;\">\n",
       "      <th></th>\n",
       "      <th>Score</th>\n",
       "      <th>dialogue</th>\n",
       "    </tr>\n",
       "  </thead>\n",
       "  <tbody>\n",
       "  </tbody>\n",
       "</table>\n",
       "</div>"
      ],
      "text/plain": [
       "Empty DataFrame\n",
       "Columns: [Score, dialogue]\n",
       "Index: []"
      ]
     },
     "metadata": {},
     "output_type": "display_data"
    },
    {
     "name": "stdout",
     "output_type": "stream",
     "text": [
      "\n",
      "'Joey' predicted as 'Monica' : 326 examples.\n"
     ]
    },
    {
     "data": {
      "text/html": [
       "<div>\n",
       "<style scoped>\n",
       "    .dataframe tbody tr th:only-of-type {\n",
       "        vertical-align: middle;\n",
       "    }\n",
       "\n",
       "    .dataframe tbody tr th {\n",
       "        vertical-align: top;\n",
       "    }\n",
       "\n",
       "    .dataframe thead th {\n",
       "        text-align: right;\n",
       "    }\n",
       "</style>\n",
       "<table border=\"1\" class=\"dataframe\">\n",
       "  <thead>\n",
       "    <tr style=\"text-align: right;\">\n",
       "      <th></th>\n",
       "      <th>Score</th>\n",
       "      <th>dialogue</th>\n",
       "    </tr>\n",
       "  </thead>\n",
       "  <tbody>\n",
       "  </tbody>\n",
       "</table>\n",
       "</div>"
      ],
      "text/plain": [
       "Empty DataFrame\n",
       "Columns: [Score, dialogue]\n",
       "Index: []"
      ]
     },
     "metadata": {},
     "output_type": "display_data"
    },
    {
     "name": "stdout",
     "output_type": "stream",
     "text": [
      "\n",
      "'Phoebe' predicted as 'Monica' : 366 examples.\n"
     ]
    },
    {
     "data": {
      "text/html": [
       "<div>\n",
       "<style scoped>\n",
       "    .dataframe tbody tr th:only-of-type {\n",
       "        vertical-align: middle;\n",
       "    }\n",
       "\n",
       "    .dataframe tbody tr th {\n",
       "        vertical-align: top;\n",
       "    }\n",
       "\n",
       "    .dataframe thead th {\n",
       "        text-align: right;\n",
       "    }\n",
       "</style>\n",
       "<table border=\"1\" class=\"dataframe\">\n",
       "  <thead>\n",
       "    <tr style=\"text-align: right;\">\n",
       "      <th></th>\n",
       "      <th>Score</th>\n",
       "      <th>dialogue</th>\n",
       "    </tr>\n",
       "  </thead>\n",
       "  <tbody>\n",
       "  </tbody>\n",
       "</table>\n",
       "</div>"
      ],
      "text/plain": [
       "Empty DataFrame\n",
       "Columns: [Score, dialogue]\n",
       "Index: []"
      ]
     },
     "metadata": {},
     "output_type": "display_data"
    },
    {
     "name": "stdout",
     "output_type": "stream",
     "text": [
      "\n",
      "'Rachel' predicted as 'Monica' : 244 examples.\n"
     ]
    },
    {
     "data": {
      "text/html": [
       "<div>\n",
       "<style scoped>\n",
       "    .dataframe tbody tr th:only-of-type {\n",
       "        vertical-align: middle;\n",
       "    }\n",
       "\n",
       "    .dataframe tbody tr th {\n",
       "        vertical-align: top;\n",
       "    }\n",
       "\n",
       "    .dataframe thead th {\n",
       "        text-align: right;\n",
       "    }\n",
       "</style>\n",
       "<table border=\"1\" class=\"dataframe\">\n",
       "  <thead>\n",
       "    <tr style=\"text-align: right;\">\n",
       "      <th></th>\n",
       "      <th>Score</th>\n",
       "      <th>dialogue</th>\n",
       "    </tr>\n",
       "  </thead>\n",
       "  <tbody>\n",
       "  </tbody>\n",
       "</table>\n",
       "</div>"
      ],
      "text/plain": [
       "Empty DataFrame\n",
       "Columns: [Score, dialogue]\n",
       "Index: []"
      ]
     },
     "metadata": {},
     "output_type": "display_data"
    },
    {
     "name": "stdout",
     "output_type": "stream",
     "text": [
      "\n",
      "'Ross' predicted as 'Monica' : 407 examples.\n"
     ]
    },
    {
     "data": {
      "text/html": [
       "<div>\n",
       "<style scoped>\n",
       "    .dataframe tbody tr th:only-of-type {\n",
       "        vertical-align: middle;\n",
       "    }\n",
       "\n",
       "    .dataframe tbody tr th {\n",
       "        vertical-align: top;\n",
       "    }\n",
       "\n",
       "    .dataframe thead th {\n",
       "        text-align: right;\n",
       "    }\n",
       "</style>\n",
       "<table border=\"1\" class=\"dataframe\">\n",
       "  <thead>\n",
       "    <tr style=\"text-align: right;\">\n",
       "      <th></th>\n",
       "      <th>Score</th>\n",
       "      <th>dialogue</th>\n",
       "    </tr>\n",
       "  </thead>\n",
       "  <tbody>\n",
       "  </tbody>\n",
       "</table>\n",
       "</div>"
      ],
      "text/plain": [
       "Empty DataFrame\n",
       "Columns: [Score, dialogue]\n",
       "Index: []"
      ]
     },
     "metadata": {},
     "output_type": "display_data"
    },
    {
     "name": "stdout",
     "output_type": "stream",
     "text": [
      "\n"
     ]
    }
   ],
   "source": [
    "from IPython.display import display\n",
    "for predicted in category_id_df.category_id:\n",
    "  for actual in category_id_df.category_id:\n",
    "    if predicted != actual and conf_mat[actual, predicted] >= 10:\n",
    "      print(\"'{}' predicted as '{}' : {} examples.\".format(id_to_category[actual], id_to_category[predicted], conf_mat[actual, predicted]))\n",
    "      display(df.loc[indices_test[(y_test == actual) & (y_pred == predicted)]][['Score', 'dialogue']])\n",
    "      print('')"
   ]
  },
  {
   "cell_type": "code",
   "execution_count": 24,
   "metadata": {},
   "outputs": [
    {
     "name": "stdout",
     "output_type": "stream",
     "text": [
      "# 'Chandler':\n",
      "  . Top unigrams:\n",
      "       . suite\n",
      "       . contact\n",
      "  . Top bigrams:\n",
      "       . joey gets\n",
      "       . mean guy\n",
      "# 'Joey':\n",
      "  . Top unigrams:\n",
      "       . estelle\n",
      "       . agent\n",
      "  . Top bigrams:\n",
      "       . big break\n",
      "       . amazing know\n",
      "# 'Monica':\n",
      "  . Top unigrams:\n",
      "       . letting\n",
      "       . correctly\n",
      "  . Top bigrams:\n",
      "       . ok hang\n",
      "       . stomach ok\n",
      "# 'Phoebe':\n",
      "  . Top unigrams:\n",
      "       . shells\n",
      "       . lasagna\n",
      "  . Top bigrams:\n",
      "       . monica geller\n",
      "       . decisions say\n",
      "# 'Rachel':\n",
      "  . Top unigrams:\n",
      "       . client\n",
      "       . philange\n",
      "  . Top bigrams:\n",
      "       . oh guy\n",
      "       . little brother\n",
      "# 'Ross':\n",
      "  . Top unigrams:\n",
      "       . joshua\n",
      "       . spanish\n",
      "  . Top bigrams:\n",
      "       . pheebs takes\n",
      "       . joey knows\n"
     ]
    }
   ],
   "source": [
    "model.fit(features, labels)\n",
    "N = 2\n",
    "for Product, category_id in sorted(category_to_id.items()):\n",
    "  indices = np.argsort(model.coef_[category_id])\n",
    "  feature_names = np.array(tfidf.get_feature_names())[indices]\n",
    "  unigrams = [v for v in reversed(feature_names) if len(v.split(' ')) == 1][:N]\n",
    "  bigrams = [v for v in reversed(feature_names) if len(v.split(' ')) == 2][:N]\n",
    "  print(\"# '{}':\".format(Product))\n",
    "  print(\"  . Top unigrams:\\n       . {}\".format('\\n       . '.join(unigrams)))\n",
    "  print(\"  . Top bigrams:\\n       . {}\".format('\\n       . '.join(bigrams)))\n"
   ]
  },
  {
   "cell_type": "code",
   "execution_count": 25,
   "metadata": {},
   "outputs": [
    {
     "name": "stdout",
     "output_type": "stream",
     "text": [
      "              precision    recall  f1-score   support\n",
      "\n",
      "    Chandler       0.50      0.45      0.48      4019\n",
      "        Joey       0.50      0.54      0.52      3858\n",
      "      Phoebe       0.45      0.50      0.47      4098\n",
      "      Rachel       0.54      0.48      0.51      3477\n",
      "        Ross       0.48      0.54      0.51      4595\n",
      "      Monica       0.55      0.47      0.51      4359\n",
      "\n",
      "    accuracy                           0.50     24406\n",
      "   macro avg       0.50      0.50      0.50     24406\n",
      "weighted avg       0.50      0.50      0.50     24406\n",
      "\n"
     ]
    }
   ],
   "source": [
    "from sklearn import metrics\n",
    "print(metrics.classification_report(y_test, y_pred, target_names=df['Score'].unique()))"
   ]
  },
  {
   "cell_type": "code",
   "execution_count": null,
   "metadata": {},
   "outputs": [],
   "source": []
  }
 ],
 "metadata": {
  "kernelspec": {
   "display_name": "Python 3",
   "language": "python",
   "name": "python3"
  },
  "language_info": {
   "codemirror_mode": {
    "name": "ipython",
    "version": 3
   },
   "file_extension": ".py",
   "mimetype": "text/x-python",
   "name": "python",
   "nbconvert_exporter": "python",
   "pygments_lexer": "ipython3",
   "version": "3.7.3"
  }
 },
 "nbformat": 4,
 "nbformat_minor": 2
}
